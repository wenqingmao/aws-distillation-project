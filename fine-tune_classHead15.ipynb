{
 "cells": [
  {
   "cell_type": "markdown",
   "metadata": {},
   "source": [
    "## Load necessary packages"
   ]
  },
  {
   "cell_type": "code",
   "execution_count": 21,
   "metadata": {},
   "outputs": [],
   "source": [
    "import torch\n",
    "from torch import nn\n",
    "from torch.utils.data import DataLoader, Dataset\n",
    "from transformers import AutoTokenizer, AutoModelForCausalLM\n",
    "from torch.optim import AdamW\n",
    "from sklearn.model_selection import train_test_split\n",
    "from tqdm import tqdm\n",
    "import json\n",
    "import json as pd\n",
    "import numpy as np"
   ]
  },
  {
   "cell_type": "markdown",
   "metadata": {},
   "source": [
    "## Check GPU Access"
   ]
  },
  {
   "cell_type": "code",
   "execution_count": 22,
   "metadata": {},
   "outputs": [
    {
     "name": "stdout",
     "output_type": "stream",
     "text": [
      "True\n"
     ]
    }
   ],
   "source": [
    "device = \"cuda\" if torch.cuda.is_available() else \"cpu\"\n",
    "print(torch.cuda.is_available())"
   ]
  },
  {
   "cell_type": "markdown",
   "metadata": {},
   "source": [
    "## Load Data"
   ]
  },
  {
   "cell_type": "code",
   "execution_count": 23,
   "metadata": {},
   "outputs": [],
   "source": [
    "import pandas as pd\n",
    "\n",
    "file_path = \"Data/PubMedQA_cleaned.json\"\n",
    "QA_data = pd.read_json(file_path)"
   ]
  },
  {
   "cell_type": "code",
   "execution_count": 24,
   "metadata": {},
   "outputs": [],
   "source": [
    "data = QA_data"
   ]
  },
  {
   "cell_type": "code",
   "execution_count": 25,
   "metadata": {},
   "outputs": [
    {
     "name": "stdout",
     "output_type": "stream",
     "text": [
      "Class counts: [338 110 552]\n",
      "Class weights: tensor([2.9586, 9.0909, 1.8116], device='cuda:0')\n"
     ]
    }
   ],
   "source": [
    "# Calculate class weights based on the training data\n",
    "class_counts = data['gold_index'].value_counts().sort_index().values \n",
    "total_samples = len(data)\n",
    "class_weights = torch.tensor([total_samples / count for count in class_counts], dtype=torch.float).to(device)\n",
    "\n",
    "print(f\"Class counts: {class_counts}\")\n",
    "print(f\"Class weights: {class_weights}\")"
   ]
  },
  {
   "cell_type": "markdown",
   "metadata": {},
   "source": [
    "## Hugging Face Login"
   ]
  },
  {
   "cell_type": "code",
   "execution_count": 26,
   "metadata": {},
   "outputs": [
    {
     "data": {
      "application/vnd.jupyter.widget-view+json": {
       "model_id": "93792854b8bc46078dad8ccb312daeeb",
       "version_major": 2,
       "version_minor": 0
      },
      "text/plain": [
       "VBox(children=(HTML(value='<center> <img\\nsrc=https://huggingface.co/front/assets/huggingface_logo-noborder.sv…"
      ]
     },
     "metadata": {},
     "output_type": "display_data"
    }
   ],
   "source": [
    "import os\n",
    "from huggingface_hub import login\n",
    "\n",
    "hf_token = os.getenv(\"HF_TOKEN\")\n",
    "login(token=hf_token)"
   ]
  },
  {
   "cell_type": "markdown",
   "metadata": {},
   "source": [
    "## Teacher Model"
   ]
  },
  {
   "cell_type": "code",
   "execution_count": 27,
   "metadata": {},
   "outputs": [],
   "source": [
    "# teacher_model_name = \"Henrychur/MMed-Llama-3-8B\" \n",
    "# teacher_model_name = \"microsoft/biogpt\" \n",
    "teacher_model_name = \"microsoft/BioGPT-Large-PubMedQA\"\n",
    "teacher_tokenizer = AutoTokenizer.from_pretrained(teacher_model_name)\n",
    "teacher_model = AutoModelForCausalLM.from_pretrained(teacher_model_name)"
   ]
  },
  {
   "cell_type": "code",
   "execution_count": 28,
   "metadata": {},
   "outputs": [],
   "source": [
    "# Assign eos_token as pad_token\n",
    "teacher_tokenizer.pad_token = teacher_tokenizer.eos_token"
   ]
  },
  {
   "cell_type": "code",
   "execution_count": 29,
   "metadata": {},
   "outputs": [],
   "source": [
    "# Add a classification head to the teacher model\n",
    "class ClassificationHeadModel(nn.Module):\n",
    "    def __init__(self, base_model, num_classes=3, class_weights=None):\n",
    "        super(ClassificationHeadModel, self).__init__()\n",
    "        self.base_model = base_model\n",
    "        for param in self.base_model.parameters():  # Freeze the base model\n",
    "            param.requires_grad = False\n",
    "        self.classification_head = nn.Linear(base_model.config.hidden_size, num_classes)  # Classification head\n",
    "        self.class_weights = class_weights  # Store class weights\n",
    "\n",
    "    def forward(self, input_ids, attention_mask, labels=None):\n",
    "        # Get the hidden states from the base model\n",
    "        outputs = self.base_model(input_ids=input_ids, attention_mask=attention_mask, output_hidden_states=True)\n",
    "        hidden_states = outputs.hidden_states[-1]  # Use the last hidden layer\n",
    "\n",
    "        # Take the hidden state of the last token\n",
    "        cls_hidden_state = hidden_states[:, -1, :]  # Shape: (batch_size, token_size, vocal_size)\n",
    "        # cls_hidden_state = hidden_states.mean(dim=1)\n",
    "\n",
    "        # Pass through the classification head\n",
    "        logits = self.classification_head(cls_hidden_state)  # Shape: (batch_size, num_classes)\n",
    "        \n",
    "        # Compute loss if labels are provided\n",
    "        loss = None\n",
    "        if labels is not None:\n",
    "            loss_fn = nn.CrossEntropyLoss(weight=self.class_weights)  # Use class weights for imbalanced data\n",
    "            loss = loss_fn(logits, labels)\n",
    "\n",
    "        return logits, loss\n"
   ]
  },
  {
   "cell_type": "code",
   "execution_count": 30,
   "metadata": {},
   "outputs": [],
   "source": [
    "class CachingClassificationHeadModel(nn.Module):\n",
    "    def __init__(self, base_model, num_classes=3, class_weights=None):\n",
    "        super(CachingClassificationHeadModel, self).__init__()\n",
    "        self.base_model = base_model\n",
    "        for param in self.base_model.parameters():\n",
    "            param.requires_grad = False\n",
    "        self.classification_head = nn.Linear(base_model.config.hidden_size, num_classes)\n",
    "        self.class_weights = class_weights\n",
    "        self.cache = {}  # Cache to store base model outputs\n",
    "\n",
    "    def forward(self, input_ids, attention_mask, labels=None):\n",
    "        batch_size = input_ids.shape[0]\n",
    "        \n",
    "        # Create a cache key from input_ids and attention_mask\n",
    "        # We need to use a hashable type like tuple for the key\n",
    "        cache_keys = []\n",
    "        for i in range(batch_size):\n",
    "            # Convert tensors to tuples for hashing\n",
    "            key = (tuple(input_ids[i].cpu().numpy().tolist()), \n",
    "                   tuple(attention_mask[i].cpu().numpy().tolist()))\n",
    "            cache_keys.append(key)\n",
    "            \n",
    "        # Get cached outputs or compute new ones\n",
    "        cls_hidden_states = []\n",
    "        uncached_indices = []\n",
    "        uncached_input_ids = []\n",
    "        uncached_attention_mask = []\n",
    "        \n",
    "        # Check which inputs are in cache\n",
    "        for i, key in enumerate(cache_keys):\n",
    "            if key in self.cache:\n",
    "                cls_hidden_states.append(self.cache[key])\n",
    "            else:\n",
    "                uncached_indices.append(i)\n",
    "                uncached_input_ids.append(input_ids[i])\n",
    "                uncached_attention_mask.append(attention_mask[i])\n",
    "        \n",
    "        # Process uncached inputs if any\n",
    "        if uncached_indices:\n",
    "            uncached_input_ids = torch.stack(uncached_input_ids)\n",
    "            uncached_attention_mask = torch.stack(uncached_attention_mask)\n",
    "            \n",
    "            with torch.no_grad():  # No gradient needed for frozen base model\n",
    "                outputs = self.base_model(\n",
    "                    input_ids=uncached_input_ids, \n",
    "                    attention_mask=uncached_attention_mask, \n",
    "                    output_hidden_states=True\n",
    "                )\n",
    "                hidden_states = outputs.hidden_states[-1]\n",
    "                uncached_cls_states = hidden_states[:, -1, :]  # Last token states\n",
    "            \n",
    "            # Update cache with new computations\n",
    "            for i, idx in enumerate(uncached_indices):\n",
    "                self.cache[cache_keys[idx]] = uncached_cls_states[i]\n",
    "                cls_hidden_states.append(uncached_cls_states[i])\n",
    "        \n",
    "        # Combine all states in the original order\n",
    "        cls_hidden_state = torch.stack(cls_hidden_states)\n",
    "        \n",
    "        # Pass through classification head\n",
    "        logits = self.classification_head(cls_hidden_state)\n",
    "        \n",
    "        # Compute loss if labels are provided\n",
    "        loss = None\n",
    "        if labels is not None:\n",
    "            loss_fn = nn.CrossEntropyLoss(weight=self.class_weights)\n",
    "            loss = loss_fn(logits, labels)\n",
    "            \n",
    "        return logits, loss"
   ]
  },
  {
   "cell_type": "code",
   "execution_count": 31,
   "metadata": {},
   "outputs": [],
   "source": [
    "# Wrap the teacher model with the classification head\n",
    "num_classes = 3\n",
    "model = CachingClassificationHeadModel(teacher_model, num_classes=num_classes).to(device)"
   ]
  },
  {
   "cell_type": "markdown",
   "metadata": {},
   "source": [
    "## Tokenize Data"
   ]
  },
  {
   "cell_type": "code",
   "execution_count": 32,
   "metadata": {},
   "outputs": [],
   "source": [
    "# Prepare the dataset\n",
    "class QADataset(Dataset):\n",
    "    def __init__(self, tokenizer, data, max_length=512):\n",
    "        self.tokenizer = tokenizer\n",
    "        self.data = data\n",
    "        self.max_length = max_length\n",
    "\n",
    "    def __len__(self):\n",
    "        return len(self.data)\n",
    "\n",
    "    def __getitem__(self, idx):\n",
    "        row = self.data.iloc[idx]\n",
    "        input_text = f\"Context: {row['context']} Question: {row['question']}\"\n",
    "        label = row['gold_index']  # The correct class index (0, 1, or 2)\n",
    "\n",
    "        # Tokenize the input text\n",
    "        inputs = self.tokenizer(\n",
    "            input_text,\n",
    "            max_length=self.max_length,\n",
    "            padding=\"max_length\",\n",
    "            truncation=True,\n",
    "            return_tensors=\"pt\"\n",
    "        )\n",
    "\n",
    "        return {\n",
    "            \"input_ids\": inputs[\"input_ids\"].squeeze(0),\n",
    "            \"attention_mask\": inputs[\"attention_mask\"].squeeze(0),\n",
    "            \"label\": torch.tensor(label, dtype=torch.long)\n",
    "        }\n"
   ]
  },
  {
   "cell_type": "markdown",
   "metadata": {},
   "source": [
    "## Train/Test Split"
   ]
  },
  {
   "cell_type": "code",
   "execution_count": 33,
   "metadata": {},
   "outputs": [],
   "source": [
    "# Split the dataset into training and validation sets\n",
    "train_data, val_data = train_test_split(data, test_size=0.5, random_state=401)"
   ]
  },
  {
   "cell_type": "code",
   "execution_count": 34,
   "metadata": {},
   "outputs": [],
   "source": [
    "# Create DataLoaders\n",
    "train_dataset = QADataset(teacher_tokenizer, train_data)\n",
    "val_dataset = QADataset(teacher_tokenizer, val_data)\n",
    "\n",
    "train_dataloader = DataLoader(train_dataset, batch_size=16, shuffle=True)\n",
    "val_dataloader = DataLoader(val_dataset, batch_size=16, shuffle=False)"
   ]
  },
  {
   "cell_type": "code",
   "execution_count": null,
   "metadata": {},
   "outputs": [],
   "source": [
    "# Only for testing \n",
    "# dataset = QADataset(teacher_tokenizer, data)\n",
    "\n",
    "# train_dataloader = DataLoader(train_dataset, batch_size=16, shuffle=True)\n",
    "# val_dataloader = DataLoader(val_dataset, batch_size=16, shuffle=False)"
   ]
  },
  {
   "cell_type": "markdown",
   "metadata": {},
   "source": [
    "## Fine-tuning"
   ]
  },
  {
   "cell_type": "code",
   "execution_count": 35,
   "metadata": {},
   "outputs": [],
   "source": [
    "from torch.cuda.amp import GradScaler, autocast\n",
    "from torch.nn.utils import clip_grad_norm_"
   ]
  },
  {
   "cell_type": "code",
   "execution_count": 36,
   "metadata": {},
   "outputs": [],
   "source": [
    "from sklearn.metrics import precision_score, recall_score, f1_score"
   ]
  },
  {
   "cell_type": "code",
   "execution_count": 37,
   "metadata": {},
   "outputs": [],
   "source": [
    "# Fine-tune the model\n",
    "optimizer = AdamW(model.parameters(), lr=1e-4)\n",
    "num_epochs = 10\n",
    "\n",
    "num_epochs = 50\n",
    "epoch=0\n",
    "train_losses = []\n",
    "val_losses = []\n",
    "val_accuracies = []\n",
    "val_precisions = []\n",
    "val_recalls = []\n",
    "val_f1_scores = []"
   ]
  },
  {
   "cell_type": "code",
   "execution_count": 39,
   "metadata": {},
   "outputs": [
    {
     "name": "stdout",
     "output_type": "stream",
     "text": [
      "Predictions: 146x0s, 49x1s, 305x2s\n",
      "Epoch 1 - Train Loss: 2.4744, Val Loss: 1.6919, Accuracy: 0.4720, Precision: 0.4557, Recall: 0.4720, F1-Score: 0.4610\n",
      "Predictions: 210x0s, 46x1s, 244x2s\n",
      "Epoch 2 - Train Loss: 1.8562, Val Loss: 1.6272, Accuracy: 0.4540, Precision: 0.4534, Recall: 0.4540, F1-Score: 0.4517\n",
      "Predictions: 112x0s, 56x1s, 332x2s\n",
      "Epoch 3 - Train Loss: 1.6759, Val Loss: 1.5940, Accuracy: 0.4880, Precision: 0.4735, Recall: 0.4880, F1-Score: 0.4699\n",
      "Predictions: 190x0s, 14x1s, 296x2s\n",
      "Epoch 4 - Train Loss: 1.4619, Val Loss: 1.5699, Accuracy: 0.4960, Precision: 0.4677, Recall: 0.4960, F1-Score: 0.4743\n",
      "Predictions: 174x0s, 21x1s, 305x2s\n",
      "Epoch 5 - Train Loss: 1.4048, Val Loss: 1.5020, Accuracy: 0.5080, Precision: 0.4814, Recall: 0.5080, F1-Score: 0.4884\n",
      "Predictions: 119x0s, 28x1s, 353x2s\n",
      "Epoch 6 - Train Loss: 1.1981, Val Loss: 1.4893, Accuracy: 0.5120, Precision: 0.4767, Recall: 0.5120, F1-Score: 0.4801\n",
      "Predictions: 123x0s, 25x1s, 352x2s\n",
      "Epoch 7 - Train Loss: 1.1097, Val Loss: 1.4764, Accuracy: 0.5180, Precision: 0.4821, Recall: 0.5180, F1-Score: 0.4858\n",
      "Predictions: 252x0s, 44x1s, 204x2s\n",
      "Epoch 8 - Train Loss: 1.0715, Val Loss: 1.4507, Accuracy: 0.4720, Precision: 0.4876, Recall: 0.4720, F1-Score: 0.4689\n",
      "Predictions: 221x0s, 33x1s, 246x2s\n",
      "Epoch 9 - Train Loss: 0.9800, Val Loss: 1.3988, Accuracy: 0.5040, Precision: 0.4950, Recall: 0.5040, F1-Score: 0.4953\n",
      "Predictions: 174x0s, 32x1s, 294x2s\n",
      "Epoch 10 - Train Loss: 0.9044, Val Loss: 1.3700, Accuracy: 0.5120, Precision: 0.4887, Recall: 0.5120, F1-Score: 0.4977\n",
      "Predictions: 161x0s, 8x1s, 331x2s\n",
      "Epoch 11 - Train Loss: 0.8237, Val Loss: 1.5247, Accuracy: 0.5320, Precision: 0.5081, Recall: 0.5320, F1-Score: 0.5002\n",
      "Predictions: 69x0s, 6x1s, 425x2s\n",
      "Epoch 12 - Train Loss: 0.7528, Val Loss: 1.7503, Accuracy: 0.5520, Precision: 0.5266, Recall: 0.5520, F1-Score: 0.4780\n",
      "Predictions: 84x0s, 56x1s, 360x2s\n",
      "Epoch 13 - Train Loss: 0.7295, Val Loss: 1.4393, Accuracy: 0.5100, Precision: 0.4924, Recall: 0.5100, F1-Score: 0.4767\n",
      "Predictions: 164x0s, 65x1s, 271x2s\n",
      "Epoch 14 - Train Loss: 0.6807, Val Loss: 1.3388, Accuracy: 0.4880, Precision: 0.4886, Recall: 0.4880, F1-Score: 0.4881\n",
      "Predictions: 149x0s, 11x1s, 340x2s\n",
      "Epoch 15 - Train Loss: 0.5983, Val Loss: 1.4408, Accuracy: 0.5460, Precision: 0.5290, Recall: 0.5460, F1-Score: 0.5152\n",
      "Predictions: 137x0s, 27x1s, 336x2s\n",
      "Epoch 16 - Train Loss: 0.5992, Val Loss: 1.3434, Accuracy: 0.5360, Precision: 0.5037, Recall: 0.5360, F1-Score: 0.5097\n",
      "Predictions: 165x0s, 15x1s, 320x2s\n",
      "Epoch 17 - Train Loss: 0.5658, Val Loss: 1.3820, Accuracy: 0.5400, Precision: 0.5142, Recall: 0.5400, F1-Score: 0.5145\n",
      "Predictions: 118x0s, 14x1s, 368x2s\n",
      "Epoch 18 - Train Loss: 0.5162, Val Loss: 1.4157, Accuracy: 0.5520, Precision: 0.5243, Recall: 0.5520, F1-Score: 0.5122\n",
      "Predictions: 111x0s, 19x1s, 370x2s\n",
      "Epoch 19 - Train Loss: 0.4556, Val Loss: 1.3939, Accuracy: 0.5480, Precision: 0.5176, Recall: 0.5480, F1-Score: 0.5085\n",
      "Predictions: 157x0s, 26x1s, 317x2s\n",
      "Epoch 20 - Train Loss: 0.4249, Val Loss: 1.3201, Accuracy: 0.5300, Precision: 0.5001, Recall: 0.5300, F1-Score: 0.5085\n",
      "Predictions: 85x0s, 17x1s, 398x2s\n",
      "Epoch 21 - Train Loss: 0.4050, Val Loss: 1.4670, Accuracy: 0.5480, Precision: 0.5183, Recall: 0.5480, F1-Score: 0.4941\n",
      "Predictions: 117x0s, 11x1s, 372x2s\n",
      "Epoch 22 - Train Loss: 0.3862, Val Loss: 1.4593, Accuracy: 0.5600, Precision: 0.5417, Recall: 0.5600, F1-Score: 0.5185\n",
      "Predictions: 91x0s, 29x1s, 380x2s\n",
      "Epoch 23 - Train Loss: 0.3763, Val Loss: 1.3891, Accuracy: 0.5340, Precision: 0.5009, Recall: 0.5340, F1-Score: 0.4899\n",
      "Predictions: 123x0s, 20x1s, 357x2s\n",
      "Epoch 24 - Train Loss: 0.3413, Val Loss: 1.3575, Accuracy: 0.5560, Precision: 0.5250, Recall: 0.5560, F1-Score: 0.5215\n",
      "Predictions: 105x0s, 18x1s, 377x2s\n",
      "Epoch 25 - Train Loss: 0.3342, Val Loss: 1.4012, Accuracy: 0.5580, Precision: 0.5332, Recall: 0.5580, F1-Score: 0.5169\n",
      "Predictions: 123x0s, 19x1s, 358x2s\n",
      "Epoch 26 - Train Loss: 0.3067, Val Loss: 1.3602, Accuracy: 0.5620, Precision: 0.5318, Recall: 0.5620, F1-Score: 0.5269\n",
      "Predictions: 120x0s, 23x1s, 357x2s\n",
      "Epoch 27 - Train Loss: 0.2946, Val Loss: 1.3516, Accuracy: 0.5520, Precision: 0.5189, Recall: 0.5520, F1-Score: 0.5176\n",
      "Predictions: 112x0s, 14x1s, 374x2s\n",
      "Epoch 28 - Train Loss: 0.2850, Val Loss: 1.4167, Accuracy: 0.5580, Precision: 0.5332, Recall: 0.5580, F1-Score: 0.5168\n",
      "Predictions: 132x0s, 36x1s, 332x2s\n",
      "Epoch 29 - Train Loss: 0.2741, Val Loss: 1.3160, Accuracy: 0.5220, Precision: 0.4917, Recall: 0.5220, F1-Score: 0.4984\n",
      "Predictions: 124x0s, 32x1s, 344x2s\n",
      "Epoch 30 - Train Loss: 0.2655, Val Loss: 1.3260, Accuracy: 0.5360, Precision: 0.5036, Recall: 0.5360, F1-Score: 0.5077\n",
      "Predictions: 174x0s, 15x1s, 311x2s\n",
      "Epoch 31 - Train Loss: 0.2403, Val Loss: 1.3672, Accuracy: 0.5380, Precision: 0.5201, Recall: 0.5380, F1-Score: 0.5156\n",
      "Predictions: 131x0s, 15x1s, 354x2s\n",
      "Epoch 32 - Train Loss: 0.2320, Val Loss: 1.3830, Accuracy: 0.5580, Precision: 0.5284, Recall: 0.5580, F1-Score: 0.5230\n",
      "Predictions: 83x0s, 24x1s, 393x2s\n",
      "Epoch 33 - Train Loss: 0.2230, Val Loss: 1.4633, Accuracy: 0.5500, Precision: 0.5212, Recall: 0.5500, F1-Score: 0.4994\n",
      "Predictions: 115x0s, 14x1s, 371x2s\n",
      "Epoch 34 - Train Loss: 0.2189, Val Loss: 1.4228, Accuracy: 0.5560, Precision: 0.5293, Recall: 0.5560, F1-Score: 0.5153\n",
      "Predictions: 103x0s, 19x1s, 378x2s\n",
      "Epoch 35 - Train Loss: 0.1922, Val Loss: 1.4278, Accuracy: 0.5540, Precision: 0.5271, Recall: 0.5540, F1-Score: 0.5121\n",
      "Predictions: 124x0s, 26x1s, 350x2s\n",
      "Epoch 36 - Train Loss: 0.1860, Val Loss: 1.3534, Accuracy: 0.5480, Precision: 0.5139, Recall: 0.5480, F1-Score: 0.5163\n",
      "Predictions: 125x0s, 21x1s, 354x2s\n",
      "Epoch 37 - Train Loss: 0.1755, Val Loss: 1.3641, Accuracy: 0.5520, Precision: 0.5170, Recall: 0.5520, F1-Score: 0.5179\n",
      "Predictions: 121x0s, 16x1s, 363x2s\n",
      "Epoch 38 - Train Loss: 0.1774, Val Loss: 1.4025, Accuracy: 0.5620, Precision: 0.5331, Recall: 0.5620, F1-Score: 0.5249\n",
      "Predictions: 134x0s, 15x1s, 351x2s\n",
      "Epoch 39 - Train Loss: 0.1729, Val Loss: 1.3987, Accuracy: 0.5520, Precision: 0.5159, Recall: 0.5520, F1-Score: 0.5166\n",
      "Early stopping triggered\n"
     ]
    }
   ],
   "source": [
    "# Early Stopping parameters\n",
    "best_val_loss = float(\"inf\")\n",
    "patience = 10  # Number of epochs to wait before stopping\n",
    "counter = 0\n",
    "\n",
    "for epoch in range(num_epochs):\n",
    "    # Training loop\n",
    "    model.train()\n",
    "    train_loss = 0\n",
    "    for batch in train_dataloader:\n",
    "        input_ids = batch[\"input_ids\"].to(device)\n",
    "        attention_mask = batch[\"attention_mask\"].to(device)\n",
    "        labels = batch[\"label\"].to(device)\n",
    "\n",
    "        outputs = model(input_ids=input_ids, attention_mask=attention_mask, labels=labels)\n",
    "        logits, loss = outputs  # Unpack the tuple\n",
    "\n",
    "        optimizer.zero_grad()\n",
    "        loss.backward()\n",
    "        optimizer.step()\n",
    "\n",
    "        train_loss += loss.item()\n",
    "\n",
    "    avg_train_loss = train_loss / len(train_dataloader)\n",
    "    train_losses.append(avg_train_loss)\n",
    "\n",
    "    # Validation loop\n",
    "    model.eval()\n",
    "    val_loss = 0\n",
    "    correct = 0\n",
    "    total = 0\n",
    "    all_predictions = []\n",
    "    all_labels = []\n",
    "\n",
    "    with torch.no_grad():\n",
    "        for batch in val_dataloader:\n",
    "            input_ids = batch[\"input_ids\"].to(device)\n",
    "            attention_mask = batch[\"attention_mask\"].to(device)\n",
    "            labels = batch[\"label\"].to(device)\n",
    "\n",
    "            # Forward pass\n",
    "            outputs = model(input_ids=input_ids, attention_mask=attention_mask, labels=labels)\n",
    "            logits, loss = outputs  # Unpack the tuple\n",
    "\n",
    "            val_loss += loss.item()\n",
    "\n",
    "            # Calculate accuracy\n",
    "            predictions = torch.argmax(logits, dim=-1)\n",
    "            correct += (predictions == labels).sum().item()\n",
    "            total += labels.size(0)\n",
    "\n",
    "            # Store predictions and labels for additional metrics\n",
    "            all_predictions.extend(predictions.cpu().numpy())\n",
    "            all_labels.extend(labels.cpu().numpy())\n",
    "\n",
    "    sum_0=np.sum(np.array(all_predictions)==0)\n",
    "    sum_1=np.sum(np.array(all_predictions)==1)\n",
    "    sum_2=np.sum(np.array(all_predictions)==2)\n",
    "    print(f\"Predictions: {sum_0}x0s, {sum_1}x1s, {sum_2}x2s\")\n",
    "\n",
    "    avg_val_loss = val_loss / len(val_dataloader)\n",
    "    val_losses.append(avg_val_loss)\n",
    "\n",
    "    accuracy = correct / total\n",
    "    val_accuracies.append(accuracy)\n",
    "\n",
    "    # Calculate additional metrics\n",
    "    precision = precision_score(all_labels, all_predictions, average=\"weighted\", zero_division=0)\n",
    "    recall = recall_score(all_labels, all_predictions, average=\"weighted\", zero_division=0)\n",
    "    f1 = f1_score(all_labels, all_predictions, average=\"weighted\", zero_division=0)\n",
    "\n",
    "    val_precisions.append(precision)\n",
    "    val_recalls.append(recall)\n",
    "    val_f1_scores.append(f1)\n",
    "\n",
    "    print(f\"Epoch {epoch + 1} - Train Loss: {avg_train_loss:.4f}, Val Loss: {avg_val_loss:.4f}, \"\n",
    "          f\"Accuracy: {accuracy:.4f}, Precision: {precision:.4f}, Recall: {recall:.4f}, F1-Score: {f1:.4f}\")\n",
    "\n",
    "    # Early Stopping\n",
    "    if avg_val_loss < best_val_loss:\n",
    "        best_val_loss = avg_val_loss\n",
    "        counter = 0\n",
    "        # Save the best model\n",
    "        # torch.save(model.state_dict(), \"best_model.pth\")\n",
    "        # print(\"Best model saved!\")\n",
    "    else:\n",
    "        counter += 1\n",
    "        if counter >= patience:\n",
    "            print(\"Early stopping triggered\")\n",
    "            break"
   ]
  },
  {
   "cell_type": "code",
   "execution_count": 38,
   "metadata": {},
   "outputs": [
    {
     "name": "stderr",
     "output_type": "stream",
     "text": [
      "/tmp/ipykernel_14834/1996360984.py:3: FutureWarning: `torch.cuda.amp.GradScaler(args...)` is deprecated. Please use `torch.amp.GradScaler('cuda', args...)` instead.\n",
      "  scaler = GradScaler()\n",
      "Training Epoch 1:   0%|          | 0/32 [00:00<?, ?it/s]"
     ]
    },
    {
     "name": "stderr",
     "output_type": "stream",
     "text": [
      "/tmp/ipykernel_14834/1996360984.py:21: FutureWarning: `torch.cuda.amp.autocast(args...)` is deprecated. Please use `torch.amp.autocast('cuda', args...)` instead.\n",
      "  with autocast():\n",
      "Training Epoch 1:   0%|          | 0/32 [00:00<?, ?it/s]\n"
     ]
    },
    {
     "ename": "TypeError",
     "evalue": "tuple indices must be integers or slices, not str",
     "output_type": "error",
     "traceback": [
      "\u001b[31m---------------------------------------------------------------------------\u001b[39m",
      "\u001b[31mTypeError\u001b[39m                                 Traceback (most recent call last)",
      "\u001b[36mCell\u001b[39m\u001b[36m \u001b[39m\u001b[32mIn[38]\u001b[39m\u001b[32m, line 23\u001b[39m\n\u001b[32m     21\u001b[39m \u001b[38;5;28;01mwith\u001b[39;00m autocast():\n\u001b[32m     22\u001b[39m     outputs = model(input_ids=input_ids, attention_mask=attention_mask, labels=labels)\n\u001b[32m---> \u001b[39m\u001b[32m23\u001b[39m     loss = \u001b[43moutputs\u001b[49m\u001b[43m[\u001b[49m\u001b[33;43m\"\u001b[39;49m\u001b[33;43mloss\u001b[39;49m\u001b[33;43m\"\u001b[39;49m\u001b[43m]\u001b[49m\n\u001b[32m     25\u001b[39m \u001b[38;5;66;03m# Check for NaN or inf in the loss\u001b[39;00m\n\u001b[32m     26\u001b[39m \u001b[38;5;28;01mif\u001b[39;00m torch.isnan(loss) \u001b[38;5;129;01mor\u001b[39;00m torch.isinf(loss):\n",
      "\u001b[31mTypeError\u001b[39m: tuple indices must be integers or slices, not str"
     ]
    }
   ],
   "source": [
    "# Float16\n",
    "# Enable mixed precision with GradScaler\n",
    "scaler = GradScaler()\n",
    "\n",
    "# Initialize lists to store metrics\n",
    "train_losses = []\n",
    "val_losses = []\n",
    "val_accuracies = []\n",
    "\n",
    "for epoch in range(num_epochs):\n",
    "    model.train()\n",
    "    train_loss = 0\n",
    "\n",
    "    for step, batch in enumerate(tqdm(train_dataloader, desc=f\"Training Epoch {epoch + 1}\")):\n",
    "        # Move inputs to GPU\n",
    "        input_ids = batch[\"input_ids\"].to(device)  # Keep as integers\n",
    "        attention_mask = batch[\"attention_mask\"].to(device).half()  # Convert to float16\n",
    "        labels = batch[\"label\"].to(device)  # Keep as integers\n",
    "\n",
    "        # Forward pass with mixed precision\n",
    "        with autocast():\n",
    "            outputs = model(input_ids=input_ids, attention_mask=attention_mask, labels=labels)\n",
    "            loss = outputs[\"loss\"]\n",
    "            \n",
    "        # Check for NaN or inf in the loss\n",
    "        if torch.isnan(loss) or torch.isinf(loss):\n",
    "            print(\"Skipping batch due to NaN or inf in loss\")\n",
    "            optimizer.zero_grad()\n",
    "            continue\n",
    "\n",
    "        # Backward pass with scaled loss\n",
    "        scaler.scale(loss).backward()\n",
    "\n",
    "        # Optimizer step\n",
    "        scaler.step(optimizer)\n",
    "        scaler.update()\n",
    "        optimizer.zero_grad()\n",
    "\n",
    "        train_loss += loss.item()\n",
    "\n",
    "    avg_train_loss = train_loss / len(train_dataloader)\n",
    "    train_losses.append(avg_train_loss)  # Track training loss\n",
    "    print(f\"Epoch {epoch + 1} - Training Loss: {avg_train_loss:.4f}\")\n",
    "\n",
    "    # Validation loop\n",
    "    model.eval()\n",
    "    val_loss = 0\n",
    "    correct = 0\n",
    "    total = 0\n",
    "    with torch.no_grad():\n",
    "        for batch in tqdm(val_dataloader, desc=\"Validating\"):\n",
    "            input_ids = batch[\"input_ids\"].to(device)  # Keep as integers\n",
    "            attention_mask = batch[\"attention_mask\"].to(device).half()  # Convert to float16\n",
    "            labels = batch[\"label\"].to(device)  # Keep as integers\n",
    "\n",
    "            with autocast():\n",
    "                outputs = model(input_ids=input_ids, attention_mask=attention_mask, labels=labels)\n",
    "                loss = outputs[\"loss\"]\n",
    "                logits = outputs[\"logits\"]\n",
    "\n",
    "            val_loss += loss.item()\n",
    "\n",
    "            # Calculate accuracy\n",
    "            predictions = torch.argmax(logits, dim=-1)\n",
    "            correct += (predictions == labels).sum().item()\n",
    "            total += labels.size(0)\n",
    "\n",
    "    avg_val_loss = val_loss / len(val_dataloader)\n",
    "    accuracy = correct / total\n",
    "    val_losses.append(avg_val_loss)  # Track validation loss\n",
    "    val_accuracies.append(accuracy)  # Track validation accuracy\n",
    "    print(f\"Epoch {epoch + 1} - Validation Loss: {avg_val_loss:.4f} - Accuracy: {accuracy:.4f}\")"
   ]
  },
  {
   "cell_type": "code",
   "execution_count": 28,
   "metadata": {},
   "outputs": [
    {
     "name": "stdout",
     "output_type": "stream",
     "text": [
      "Predicted class distribution: Counter({np.int64(0): 150})\n"
     ]
    }
   ],
   "source": [
    "from collections import Counter\n",
    "\n",
    "# Check the distribution of predictions\n",
    "predicted_classes = Counter(all_predictions)\n",
    "print(\"Predicted class distribution:\", predicted_classes)"
   ]
  },
  {
   "cell_type": "markdown",
   "metadata": {},
   "source": [
    "## Plot"
   ]
  },
  {
   "cell_type": "code",
   "execution_count": 20,
   "metadata": {},
   "outputs": [],
   "source": [
    "import matplotlib.pyplot as plt"
   ]
  },
  {
   "cell_type": "code",
   "execution_count": 21,
   "metadata": {},
   "outputs": [],
   "source": [
    "epochs = list(range(1, len(val_losses) + 1))  # Epoch numbers"
   ]
  },
  {
   "cell_type": "code",
   "execution_count": 25,
   "metadata": {},
   "outputs": [
    {
     "data": {
      "image/png": "[encoded data removed]",
      "text/plain": [
       "<Figure size 1000x600 with 1 Axes>"
      ]
     },
     "metadata": {},
     "output_type": "display_data"
    }
   ],
   "source": [
    "# Plot Training and Validation Loss\n",
    "plt.figure(figsize=(10, 6))\n",
    "plt.plot(epochs, train_losses, label=\"Training Loss\", marker=\"o\", linestyle=\"--\", color=\"blue\")\n",
    "plt.plot(epochs, val_losses, label=\"Validation Loss\", marker=\"o\", linestyle=\"-\", color=\"orange\")\n",
    "plt.xlabel(\"Epochs\", fontsize=12)\n",
    "plt.ylabel(\"Loss\", fontsize=12)\n",
    "plt.title(\"Training and Validation Loss\", fontsize=14, fontweight=\"bold\")\n",
    "plt.legend(fontsize=10)\n",
    "plt.grid(alpha=0.3)\n",
    "plt.show()"
   ]
  },
  {
   "cell_type": "code",
   "execution_count": 26,
   "metadata": {},
   "outputs": [
    {
     "data": {
      "image/png": "[encoded data removed]",
      "text/plain": [
       "<Figure size 1000x600 with 1 Axes>"
      ]
     },
     "metadata": {},
     "output_type": "display_data"
    }
   ],
   "source": [
    "# Plot Validation Accuracy\n",
    "plt.figure(figsize=(10, 6))\n",
    "plt.plot(epochs, val_accuracies, label=\"Validation Accuracy\", marker=\"o\", linestyle=\"-\", color=\"green\")\n",
    "plt.xlabel(\"Epochs\", fontsize=12)\n",
    "plt.ylabel(\"Accuracy\", fontsize=12)\n",
    "plt.title(\"Validation Accuracy\", fontsize=14, fontweight=\"bold\")\n",
    "plt.legend(fontsize=10)\n",
    "plt.grid(alpha=0.3)\n",
    "plt.show()"
   ]
  },
  {
   "cell_type": "code",
   "execution_count": null,
   "metadata": {},
   "outputs": [],
   "source": [
    "# Plot Precision, Recall, and F1-Score\n",
    "plt.figure(figsize=(10, 6))\n",
    "plt.plot(epochs, val_precisions, label=\"Precision\", marker=\"o\", linestyle=\"--\", color=\"purple\")\n",
    "plt.plot(epochs, val_recalls, label=\"Recall\", marker=\"o\", linestyle=\"-.\", color=\"red\")\n",
    "plt.plot(epochs, val_f1_scores, label=\"F1-Score\", marker=\"o\", linestyle=\"-\", color=\"brown\")\n",
    "plt.xlabel(\"Epochs\", fontsize=12)\n",
    "plt.ylabel(\"Score\", fontsize=12)\n",
    "plt.title(\"Validation Metrics (Precision, Recall, F1-Score)\", fontsize=14, fontweight=\"bold\")\n",
    "plt.legend(fontsize=10)\n",
    "plt.grid(alpha=0.3)\n",
    "plt.show()"
   ]
  }
 ],
 "metadata": {
  "kernelspec": {
   "display_name": "Python (llm-env)",
   "language": "python",
   "name": "llm-env"
  },
  "language_info": {
   "codemirror_mode": {
    "name": "ipython",
    "version": 3
   },
   "file_extension": ".py",
   "mimetype": "text/x-python",
   "name": "python",
   "nbconvert_exporter": "python",
   "pygments_lexer": "ipython3",
   "version": "3.11.2"
  }
 },
 "nbformat": 4,
 "nbformat_minor": 2
}
