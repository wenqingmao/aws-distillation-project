{
 "cells": [
  {
   "cell_type": "code",
   "execution_count": 1,
   "id": "de51a511",
   "metadata": {},
   "outputs": [],
   "source": [
    "import os\n",
    "\n",
    "os.environ[\"HF_HOME\"] = \"/home/shared/.cache/huggingface\"\n",
    "os.environ[\"HUGGINGFACE_HUB_CACHE\"] = \"/home/shared/.cache/huggingface/hub\""
   ]
  },
  {
   "cell_type": "code",
   "execution_count": 2,
   "id": "85f2a6d6",
   "metadata": {},
   "outputs": [],
   "source": [
    "import json\n",
    "import torch\n",
    "import torch.nn.functional as F\n",
    "from dotenv import load_dotenv\n",
    "from datasets import Dataset\n",
    "from torch.optim import AdamW\n",
    "from transformers import (\n",
    "    BertTokenizer,\n",
    "    BertForSequenceClassification,\n",
    "    default_data_collator\n",
    ")\n",
    "from torch.utils.data import DataLoader\n",
    "from sklearn.metrics import precision_score, recall_score, f1_score\n",
    "import numpy as np\n",
    "\n",
    "# ✅ Step 1: Load soft labels from file\n",
    "with open(\"soft_labels_from_finetuned_biogpt.json\", \"r\") as f:\n",
    "    soft_dataset = json.load(f)"
   ]
  },
  {
   "cell_type": "code",
   "execution_count": null,
   "id": "38089dc4",
   "metadata": {},
   "outputs": [],
   "source": [
    "import os\n",
    "from huggingface_hub import login\n",
    "from dotenv import load_dotenv\n",
    "\n",
    "load_dotenv()\n",
    "hf_token = os.getenv(\"hf_token\")\n",
    "login(token=hf_token)"
   ]
  },
  {
   "cell_type": "code",
   "execution_count": 8,
   "id": "d310846d",
   "metadata": {},
   "outputs": [
    {
     "data": {
      "application/vnd.jupyter.widget-view+json": {
       "model_id": "b8135fc7aae641d2bbb6936d9a4bd97f",
       "version_major": 2,
       "version_minor": 0
      },
      "text/plain": [
       "config.json:   0%|          | 0.00/559 [00:00<?, ?B/s]"
      ]
     },
     "metadata": {},
     "output_type": "display_data"
    },
    {
     "data": {
      "application/vnd.jupyter.widget-view+json": {
       "model_id": "9695e8207e284d19bf6acf0026981df4",
       "version_major": 2,
       "version_minor": 0
      },
      "text/plain": [
       "tokenizer_config.json:   0%|          | 0.00/379 [00:00<?, ?B/s]"
      ]
     },
     "metadata": {},
     "output_type": "display_data"
    },
    {
     "data": {
      "application/vnd.jupyter.widget-view+json": {
       "model_id": "23d537f76d2146d38ef2bf55284b25fd",
       "version_major": 2,
       "version_minor": 0
      },
      "text/plain": [
       "vocab.txt:   0%|          | 0.00/225k [00:00<?, ?B/s]"
      ]
     },
     "metadata": {},
     "output_type": "display_data"
    },
    {
     "data": {
      "application/vnd.jupyter.widget-view+json": {
       "model_id": "6298bc1ebd134a5cbe401327edbcf2d6",
       "version_major": 2,
       "version_minor": 0
      },
      "text/plain": [
       "special_tokens_map.json:   0%|          | 0.00/112 [00:00<?, ?B/s]"
      ]
     },
     "metadata": {},
     "output_type": "display_data"
    },
    {
     "data": {
      "application/vnd.jupyter.widget-view+json": {
       "model_id": "936daee09bdf456cb35bb14bb79a74cd",
       "version_major": 2,
       "version_minor": 0
      },
      "text/plain": [
       "tokenizer.json:   0%|          | 0.00/447k [00:00<?, ?B/s]"
      ]
     },
     "metadata": {},
     "output_type": "display_data"
    },
    {
     "data": {
      "application/vnd.jupyter.widget-view+json": {
       "model_id": "0fbe877e48b44b28af6cfdb0f29a3235",
       "version_major": 2,
       "version_minor": 0
      },
      "text/plain": [
       "pytorch_model.bin:   0%|          | 0.00/433M [00:00<?, ?B/s]"
      ]
     },
     "metadata": {},
     "output_type": "display_data"
    },
    {
     "name": "stderr",
     "output_type": "stream",
     "text": [
      "Some weights of BertForSequenceClassification were not initialized from the model checkpoint at michiyasunaga/BioLinkBERT-base and are newly initialized: ['classifier.bias', 'classifier.weight']\n",
      "You should probably TRAIN this model on a down-stream task to be able to use it for predictions and inference.\n"
     ]
    },
    {
     "data": {
      "application/vnd.jupyter.widget-view+json": {
       "model_id": "9de877f3cdb84af5b7b0fbd1392d49cc",
       "version_major": 2,
       "version_minor": 0
      },
      "text/plain": [
       "model.safetensors:   0%|          | 0.00/433M [00:00<?, ?B/s]"
      ]
     },
     "metadata": {},
     "output_type": "display_data"
    }
   ],
   "source": [
    "# ✅ Step 2: Load PubMedBERT tokenizer and model with manual BERT specification\n",
    "\n",
    "from transformers import BertTokenizer, BertForSequenceClassification, BertConfig\n",
    "\n",
    "student_model_id = \"michiyasunaga/BioLinkBERT-base\"\n",
    "\n",
    "config = BertConfig.from_pretrained(student_model_id)\n",
    "config.num_labels = 3\n",
    "config.model_type = \"bert\" \n",
    "\n",
    "student_tokenizer = BertTokenizer.from_pretrained(student_model_id)\n",
    "student_model = BertForSequenceClassification.from_pretrained(student_model_id, config=config)"
   ]
  },
  {
   "cell_type": "code",
   "execution_count": 9,
   "id": "0e1131e4",
   "metadata": {},
   "outputs": [
    {
     "data": {
      "application/vnd.jupyter.widget-view+json": {
       "model_id": "85dc94c809ad4a4cab46af9f1ebe21ea",
       "version_major": 2,
       "version_minor": 0
      },
      "text/plain": [
       "Map:   0%|          | 0/1000 [00:00<?, ? examples/s]"
      ]
     },
     "metadata": {},
     "output_type": "display_data"
    }
   ],
   "source": [
    "# ✅ Step 3: Convert soft dataset to HF Dataset and tokenize\n",
    "hf_dataset = Dataset.from_list(soft_dataset)\n",
    "\n",
    "def tokenize_function(example):\n",
    "    tokens = student_tokenizer(\n",
    "        example[\"input_text\"],\n",
    "        padding=\"max_length\",\n",
    "        truncation=True,\n",
    "        max_length=512\n",
    "    )\n",
    "    tokens[\"soft_labels_t\"] = torch.tensor(example[\"soft_label\"], dtype=torch.float)\n",
    "    # ✅ Add input length field\n",
    "    tokens[\"input_length\"] = len(student_tokenizer.tokenize(example[\"input_text\"]))\n",
    "    return tokens\n",
    "\n",
    "tokenized_dataset = hf_dataset.map(tokenize_function, remove_columns=[\"input_text\", \"soft_label\"])"
   ]
  },
  {
   "cell_type": "code",
   "execution_count": 10,
   "id": "8b7c7e13",
   "metadata": {},
   "outputs": [],
   "source": [
    "test_tokenized_dataset = tokenized_dataset.to_pandas()"
   ]
  },
  {
   "cell_type": "code",
   "execution_count": 11,
   "id": "66fc514f",
   "metadata": {},
   "outputs": [
    {
     "data": {
      "text/html": [
       "<div>\n",
       "<style scoped>\n",
       "    .dataframe tbody tr th:only-of-type {\n",
       "        vertical-align: middle;\n",
       "    }\n",
       "\n",
       "    .dataframe tbody tr th {\n",
       "        vertical-align: top;\n",
       "    }\n",
       "\n",
       "    .dataframe thead th {\n",
       "        text-align: right;\n",
       "    }\n",
       "</style>\n",
       "<table border=\"1\" class=\"dataframe\">\n",
       "  <thead>\n",
       "    <tr style=\"text-align: right;\">\n",
       "      <th></th>\n",
       "      <th>gold_index</th>\n",
       "      <th>input_ids</th>\n",
       "      <th>token_type_ids</th>\n",
       "      <th>attention_mask</th>\n",
       "      <th>soft_labels_t</th>\n",
       "      <th>input_length</th>\n",
       "    </tr>\n",
       "  </thead>\n",
       "  <tbody>\n",
       "    <tr>\n",
       "      <th>268</th>\n",
       "      <td>2</td>\n",
       "      <td>[2, 4785, 1680, 3940, 1690, 13964, 1680, 3569,...</td>\n",
       "      <td>[0, 0, 0, 0, 0, 0, 0, 0, 0, 0, 0, 0, 0, 0, 0, ...</td>\n",
       "      <td>[1, 1, 1, 1, 1, 1, 1, 1, 1, 1, 1, 1, 1, 1, 1, ...</td>\n",
       "      <td>[0.0, 0.0, 1.0]</td>\n",
       "      <td>519</td>\n",
       "    </tr>\n",
       "    <tr>\n",
       "      <th>78</th>\n",
       "      <td>0</td>\n",
       "      <td>[2, 4785, 1680, 3940, 1690, 13964, 1680, 3569,...</td>\n",
       "      <td>[0, 0, 0, 0, 0, 0, 0, 0, 0, 0, 0, 0, 0, 0, 0, ...</td>\n",
       "      <td>[1, 1, 1, 1, 1, 1, 1, 1, 1, 1, 1, 1, 1, 1, 1, ...</td>\n",
       "      <td>[1.0, 0.0, 0.0]</td>\n",
       "      <td>521</td>\n",
       "    </tr>\n",
       "    <tr>\n",
       "      <th>87</th>\n",
       "      <td>2</td>\n",
       "      <td>[2, 4785, 1680, 3940, 1690, 13964, 1680, 3569,...</td>\n",
       "      <td>[0, 0, 0, 0, 0, 0, 0, 0, 0, 0, 0, 0, 0, 0, 0, ...</td>\n",
       "      <td>[1, 1, 1, 1, 1, 1, 1, 1, 1, 1, 1, 1, 1, 1, 1, ...</td>\n",
       "      <td>[0.0, 0.0, 1.0]</td>\n",
       "      <td>522</td>\n",
       "    </tr>\n",
       "    <tr>\n",
       "      <th>108</th>\n",
       "      <td>2</td>\n",
       "      <td>[2, 4785, 1680, 3940, 1690, 13964, 1680, 3569,...</td>\n",
       "      <td>[0, 0, 0, 0, 0, 0, 0, 0, 0, 0, 0, 0, 0, 0, 0, ...</td>\n",
       "      <td>[1, 1, 1, 1, 1, 1, 1, 1, 1, 1, 1, 1, 1, 1, 1, ...</td>\n",
       "      <td>[0.0, 0.0, 1.0]</td>\n",
       "      <td>526</td>\n",
       "    </tr>\n",
       "    <tr>\n",
       "      <th>329</th>\n",
       "      <td>2</td>\n",
       "      <td>[2, 4785, 1680, 3940, 1690, 13964, 1680, 3569,...</td>\n",
       "      <td>[0, 0, 0, 0, 0, 0, 0, 0, 0, 0, 0, 0, 0, 0, 0, ...</td>\n",
       "      <td>[1, 1, 1, 1, 1, 1, 1, 1, 1, 1, 1, 1, 1, 1, 1, ...</td>\n",
       "      <td>[0.5625, 0.0, 0.4375]</td>\n",
       "      <td>527</td>\n",
       "    </tr>\n",
       "    <tr>\n",
       "      <th>727</th>\n",
       "      <td>2</td>\n",
       "      <td>[2, 4785, 1680, 3940, 1690, 13964, 1680, 3569,...</td>\n",
       "      <td>[0, 0, 0, 0, 0, 0, 0, 0, 0, 0, 0, 0, 0, 0, 0, ...</td>\n",
       "      <td>[1, 1, 1, 1, 1, 1, 1, 1, 1, 1, 1, 1, 1, 1, 1, ...</td>\n",
       "      <td>[0.85714287, 0.0, 0.14285715]</td>\n",
       "      <td>527</td>\n",
       "    </tr>\n",
       "    <tr>\n",
       "      <th>0</th>\n",
       "      <td>2</td>\n",
       "      <td>[2, 4785, 1680, 3940, 1690, 13964, 1680, 3569,...</td>\n",
       "      <td>[0, 0, 0, 0, 0, 0, 0, 0, 0, 0, 0, 0, 0, 0, 0, ...</td>\n",
       "      <td>[1, 1, 1, 1, 1, 1, 1, 1, 1, 1, 1, 1, 1, 1, 1, ...</td>\n",
       "      <td>[0.0, 0.0, 1.0]</td>\n",
       "      <td>529</td>\n",
       "    </tr>\n",
       "    <tr>\n",
       "      <th>595</th>\n",
       "      <td>2</td>\n",
       "      <td>[2, 4785, 1680, 3940, 1690, 13964, 1680, 3569,...</td>\n",
       "      <td>[0, 0, 0, 0, 0, 0, 0, 0, 0, 0, 0, 0, 0, 0, 0, ...</td>\n",
       "      <td>[1, 1, 1, 1, 1, 1, 1, 1, 1, 1, 1, 1, 1, 1, 1, ...</td>\n",
       "      <td>[0.0, 0.0, 1.0]</td>\n",
       "      <td>540</td>\n",
       "    </tr>\n",
       "    <tr>\n",
       "      <th>192</th>\n",
       "      <td>2</td>\n",
       "      <td>[2, 4785, 1680, 3940, 1690, 13964, 1680, 3569,...</td>\n",
       "      <td>[0, 0, 0, 0, 0, 0, 0, 0, 0, 0, 0, 0, 0, 0, 0, ...</td>\n",
       "      <td>[1, 1, 1, 1, 1, 1, 1, 1, 1, 1, 1, 1, 1, 1, 1, ...</td>\n",
       "      <td>[0.02265861, 0.0, 0.9773414]</td>\n",
       "      <td>543</td>\n",
       "    </tr>\n",
       "    <tr>\n",
       "      <th>132</th>\n",
       "      <td>2</td>\n",
       "      <td>[2, 4785, 1680, 3940, 1690, 13964, 1680, 3569,...</td>\n",
       "      <td>[0, 0, 0, 0, 0, 0, 0, 0, 0, 0, 0, 0, 0, 0, 0, ...</td>\n",
       "      <td>[1, 1, 1, 1, 1, 1, 1, 1, 1, 1, 1, 1, 1, 1, 1, ...</td>\n",
       "      <td>[1.0, 0.0, 0.0]</td>\n",
       "      <td>543</td>\n",
       "    </tr>\n",
       "    <tr>\n",
       "      <th>216</th>\n",
       "      <td>2</td>\n",
       "      <td>[2, 4785, 1680, 3940, 1690, 13964, 1680, 3569,...</td>\n",
       "      <td>[0, 0, 0, 0, 0, 0, 0, 0, 0, 0, 0, 0, 0, 0, 0, ...</td>\n",
       "      <td>[1, 1, 1, 1, 1, 1, 1, 1, 1, 1, 1, 1, 1, 1, 1, ...</td>\n",
       "      <td>[0.010752688, 0.032258064, 0.9569892]</td>\n",
       "      <td>544</td>\n",
       "    </tr>\n",
       "    <tr>\n",
       "      <th>401</th>\n",
       "      <td>1</td>\n",
       "      <td>[2, 4785, 1680, 3940, 1690, 13964, 1680, 3569,...</td>\n",
       "      <td>[0, 0, 0, 0, 0, 0, 0, 0, 0, 0, 0, 0, 0, 0, 0, ...</td>\n",
       "      <td>[1, 1, 1, 1, 1, 1, 1, 1, 1, 1, 1, 1, 1, 1, 1, ...</td>\n",
       "      <td>[0.0, 0.0, 1.0]</td>\n",
       "      <td>546</td>\n",
       "    </tr>\n",
       "    <tr>\n",
       "      <th>869</th>\n",
       "      <td>1</td>\n",
       "      <td>[2, 4785, 1680, 3940, 1690, 13964, 1680, 3569,...</td>\n",
       "      <td>[0, 0, 0, 0, 0, 0, 0, 0, 0, 0, 0, 0, 0, 0, 0, ...</td>\n",
       "      <td>[1, 1, 1, 1, 1, 1, 1, 1, 1, 1, 1, 1, 1, 1, 1, ...</td>\n",
       "      <td>[0.0030456854, 0.0, 0.9969543]</td>\n",
       "      <td>549</td>\n",
       "    </tr>\n",
       "    <tr>\n",
       "      <th>781</th>\n",
       "      <td>2</td>\n",
       "      <td>[2, 4785, 1680, 3940, 1690, 13964, 1680, 3569,...</td>\n",
       "      <td>[0, 0, 0, 0, 0, 0, 0, 0, 0, 0, 0, 0, 0, 0, 0, ...</td>\n",
       "      <td>[1, 1, 1, 1, 1, 1, 1, 1, 1, 1, 1, 1, 1, 1, 1, ...</td>\n",
       "      <td>[0.6666667, 0.0, 0.33333334]</td>\n",
       "      <td>556</td>\n",
       "    </tr>\n",
       "    <tr>\n",
       "      <th>428</th>\n",
       "      <td>0</td>\n",
       "      <td>[2, 4785, 1680, 3940, 1690, 13964, 1680, 3569,...</td>\n",
       "      <td>[0, 0, 0, 0, 0, 0, 0, 0, 0, 0, 0, 0, 0, 0, 0, ...</td>\n",
       "      <td>[1, 1, 1, 1, 1, 1, 1, 1, 1, 1, 1, 1, 1, 1, 1, ...</td>\n",
       "      <td>[0.9994413, 0.0, 0.0005586592]</td>\n",
       "      <td>564</td>\n",
       "    </tr>\n",
       "    <tr>\n",
       "      <th>897</th>\n",
       "      <td>2</td>\n",
       "      <td>[2, 4785, 1680, 3940, 1690, 13964, 1680, 3569,...</td>\n",
       "      <td>[0, 0, 0, 0, 0, 0, 0, 0, 0, 0, 0, 0, 0, 0, 0, ...</td>\n",
       "      <td>[1, 1, 1, 1, 1, 1, 1, 1, 1, 1, 1, 1, 1, 1, 1, ...</td>\n",
       "      <td>[0.88, 0.0, 0.12]</td>\n",
       "      <td>568</td>\n",
       "    </tr>\n",
       "    <tr>\n",
       "      <th>707</th>\n",
       "      <td>2</td>\n",
       "      <td>[2, 4785, 1680, 3940, 1690, 13964, 1680, 3569,...</td>\n",
       "      <td>[0, 0, 0, 0, 0, 0, 0, 0, 0, 0, 0, 0, 0, 0, 0, ...</td>\n",
       "      <td>[1, 1, 1, 1, 1, 1, 1, 1, 1, 1, 1, 1, 1, 1, 1, ...</td>\n",
       "      <td>[0.4224138, 0.01724138, 0.5603448]</td>\n",
       "      <td>572</td>\n",
       "    </tr>\n",
       "    <tr>\n",
       "      <th>988</th>\n",
       "      <td>2</td>\n",
       "      <td>[2, 4785, 1680, 3940, 1690, 13964, 1680, 3569,...</td>\n",
       "      <td>[0, 0, 0, 0, 0, 0, 0, 0, 0, 0, 0, 0, 0, 0, 0, ...</td>\n",
       "      <td>[1, 1, 1, 1, 1, 1, 1, 1, 1, 1, 1, 1, 1, 1, 1, ...</td>\n",
       "      <td>[1.0, 0.0, 0.0]</td>\n",
       "      <td>574</td>\n",
       "    </tr>\n",
       "    <tr>\n",
       "      <th>239</th>\n",
       "      <td>0</td>\n",
       "      <td>[2, 4785, 1680, 3940, 1690, 13964, 1680, 3569,...</td>\n",
       "      <td>[0, 0, 0, 0, 0, 0, 0, 0, 0, 0, 0, 0, 0, 0, 0, ...</td>\n",
       "      <td>[1, 1, 1, 1, 1, 1, 1, 1, 1, 1, 1, 1, 1, 1, 1, ...</td>\n",
       "      <td>[0.88602877, 0.00042337002, 0.11354784]</td>\n",
       "      <td>575</td>\n",
       "    </tr>\n",
       "    <tr>\n",
       "      <th>681</th>\n",
       "      <td>0</td>\n",
       "      <td>[2, 4785, 1680, 3940, 1690, 13964, 1680, 3569,...</td>\n",
       "      <td>[0, 0, 0, 0, 0, 0, 0, 0, 0, 0, 0, 0, 0, 0, 0, ...</td>\n",
       "      <td>[1, 1, 1, 1, 1, 1, 1, 1, 1, 1, 1, 1, 1, 1, 1, ...</td>\n",
       "      <td>[0.11407767, 0.009708738, 0.8762136]</td>\n",
       "      <td>576</td>\n",
       "    </tr>\n",
       "    <tr>\n",
       "      <th>807</th>\n",
       "      <td>2</td>\n",
       "      <td>[2, 4785, 1680, 3940, 1690, 13964, 1680, 3569,...</td>\n",
       "      <td>[0, 0, 0, 0, 0, 0, 0, 0, 0, 0, 0, 0, 0, 0, 0, ...</td>\n",
       "      <td>[1, 1, 1, 1, 1, 1, 1, 1, 1, 1, 1, 1, 1, 1, 1, ...</td>\n",
       "      <td>[0.04347826, 0.0, 0.95652175]</td>\n",
       "      <td>580</td>\n",
       "    </tr>\n",
       "    <tr>\n",
       "      <th>498</th>\n",
       "      <td>0</td>\n",
       "      <td>[2, 4785, 1680, 3940, 1690, 13964, 1680, 3569,...</td>\n",
       "      <td>[0, 0, 0, 0, 0, 0, 0, 0, 0, 0, 0, 0, 0, 0, 0, ...</td>\n",
       "      <td>[1, 1, 1, 1, 1, 1, 1, 1, 1, 1, 1, 1, 1, 1, 1, ...</td>\n",
       "      <td>[0.9967119, 0.0002989179, 0.0029891792]</td>\n",
       "      <td>593</td>\n",
       "    </tr>\n",
       "    <tr>\n",
       "      <th>857</th>\n",
       "      <td>1</td>\n",
       "      <td>[2, 4785, 1680, 3940, 1690, 13964, 1680, 3569,...</td>\n",
       "      <td>[0, 0, 0, 0, 0, 0, 0, 0, 0, 0, 0, 0, 0, 0, 0, ...</td>\n",
       "      <td>[1, 1, 1, 1, 1, 1, 1, 1, 1, 1, 1, 1, 1, 1, 1, ...</td>\n",
       "      <td>[0.96511626, 0.0, 0.034883723]</td>\n",
       "      <td>597</td>\n",
       "    </tr>\n",
       "    <tr>\n",
       "      <th>86</th>\n",
       "      <td>0</td>\n",
       "      <td>[2, 4785, 1680, 3940, 1690, 13964, 1680, 3569,...</td>\n",
       "      <td>[0, 0, 0, 0, 0, 0, 0, 0, 0, 0, 0, 0, 0, 0, 0, ...</td>\n",
       "      <td>[1, 1, 1, 1, 1, 1, 1, 1, 1, 1, 1, 1, 1, 1, 1, ...</td>\n",
       "      <td>[1.0, 0.0, 0.0]</td>\n",
       "      <td>608</td>\n",
       "    </tr>\n",
       "    <tr>\n",
       "      <th>534</th>\n",
       "      <td>2</td>\n",
       "      <td>[2, 4785, 1680, 3940, 1690, 13964, 1680, 3569,...</td>\n",
       "      <td>[0, 0, 0, 0, 0, 0, 0, 0, 0, 0, 0, 0, 0, 0, 0, ...</td>\n",
       "      <td>[1, 1, 1, 1, 1, 1, 1, 1, 1, 1, 1, 1, 1, 1, 1, ...</td>\n",
       "      <td>[0.0, 0.0, 1.0]</td>\n",
       "      <td>643</td>\n",
       "    </tr>\n",
       "    <tr>\n",
       "      <th>424</th>\n",
       "      <td>1</td>\n",
       "      <td>[2, 4785, 1680, 3940, 1690, 13964, 1680, 3569,...</td>\n",
       "      <td>[0, 0, 0, 0, 0, 0, 0, 0, 0, 0, 0, 0, 0, 0, 0, ...</td>\n",
       "      <td>[1, 1, 1, 1, 1, 1, 1, 1, 1, 1, 1, 1, 1, 1, 1, ...</td>\n",
       "      <td>[0.15789473, 0.0, 0.84210527]</td>\n",
       "      <td>644</td>\n",
       "    </tr>\n",
       "  </tbody>\n",
       "</table>\n",
       "</div>"
      ],
      "text/plain": [
       "     gold_index                                          input_ids  \\\n",
       "268           2  [2, 4785, 1680, 3940, 1690, 13964, 1680, 3569,...   \n",
       "78            0  [2, 4785, 1680, 3940, 1690, 13964, 1680, 3569,...   \n",
       "87            2  [2, 4785, 1680, 3940, 1690, 13964, 1680, 3569,...   \n",
       "108           2  [2, 4785, 1680, 3940, 1690, 13964, 1680, 3569,...   \n",
       "329           2  [2, 4785, 1680, 3940, 1690, 13964, 1680, 3569,...   \n",
       "727           2  [2, 4785, 1680, 3940, 1690, 13964, 1680, 3569,...   \n",
       "0             2  [2, 4785, 1680, 3940, 1690, 13964, 1680, 3569,...   \n",
       "595           2  [2, 4785, 1680, 3940, 1690, 13964, 1680, 3569,...   \n",
       "192           2  [2, 4785, 1680, 3940, 1690, 13964, 1680, 3569,...   \n",
       "132           2  [2, 4785, 1680, 3940, 1690, 13964, 1680, 3569,...   \n",
       "216           2  [2, 4785, 1680, 3940, 1690, 13964, 1680, 3569,...   \n",
       "401           1  [2, 4785, 1680, 3940, 1690, 13964, 1680, 3569,...   \n",
       "869           1  [2, 4785, 1680, 3940, 1690, 13964, 1680, 3569,...   \n",
       "781           2  [2, 4785, 1680, 3940, 1690, 13964, 1680, 3569,...   \n",
       "428           0  [2, 4785, 1680, 3940, 1690, 13964, 1680, 3569,...   \n",
       "897           2  [2, 4785, 1680, 3940, 1690, 13964, 1680, 3569,...   \n",
       "707           2  [2, 4785, 1680, 3940, 1690, 13964, 1680, 3569,...   \n",
       "988           2  [2, 4785, 1680, 3940, 1690, 13964, 1680, 3569,...   \n",
       "239           0  [2, 4785, 1680, 3940, 1690, 13964, 1680, 3569,...   \n",
       "681           0  [2, 4785, 1680, 3940, 1690, 13964, 1680, 3569,...   \n",
       "807           2  [2, 4785, 1680, 3940, 1690, 13964, 1680, 3569,...   \n",
       "498           0  [2, 4785, 1680, 3940, 1690, 13964, 1680, 3569,...   \n",
       "857           1  [2, 4785, 1680, 3940, 1690, 13964, 1680, 3569,...   \n",
       "86            0  [2, 4785, 1680, 3940, 1690, 13964, 1680, 3569,...   \n",
       "534           2  [2, 4785, 1680, 3940, 1690, 13964, 1680, 3569,...   \n",
       "424           1  [2, 4785, 1680, 3940, 1690, 13964, 1680, 3569,...   \n",
       "\n",
       "                                        token_type_ids  \\\n",
       "268  [0, 0, 0, 0, 0, 0, 0, 0, 0, 0, 0, 0, 0, 0, 0, ...   \n",
       "78   [0, 0, 0, 0, 0, 0, 0, 0, 0, 0, 0, 0, 0, 0, 0, ...   \n",
       "87   [0, 0, 0, 0, 0, 0, 0, 0, 0, 0, 0, 0, 0, 0, 0, ...   \n",
       "108  [0, 0, 0, 0, 0, 0, 0, 0, 0, 0, 0, 0, 0, 0, 0, ...   \n",
       "329  [0, 0, 0, 0, 0, 0, 0, 0, 0, 0, 0, 0, 0, 0, 0, ...   \n",
       "727  [0, 0, 0, 0, 0, 0, 0, 0, 0, 0, 0, 0, 0, 0, 0, ...   \n",
       "0    [0, 0, 0, 0, 0, 0, 0, 0, 0, 0, 0, 0, 0, 0, 0, ...   \n",
       "595  [0, 0, 0, 0, 0, 0, 0, 0, 0, 0, 0, 0, 0, 0, 0, ...   \n",
       "192  [0, 0, 0, 0, 0, 0, 0, 0, 0, 0, 0, 0, 0, 0, 0, ...   \n",
       "132  [0, 0, 0, 0, 0, 0, 0, 0, 0, 0, 0, 0, 0, 0, 0, ...   \n",
       "216  [0, 0, 0, 0, 0, 0, 0, 0, 0, 0, 0, 0, 0, 0, 0, ...   \n",
       "401  [0, 0, 0, 0, 0, 0, 0, 0, 0, 0, 0, 0, 0, 0, 0, ...   \n",
       "869  [0, 0, 0, 0, 0, 0, 0, 0, 0, 0, 0, 0, 0, 0, 0, ...   \n",
       "781  [0, 0, 0, 0, 0, 0, 0, 0, 0, 0, 0, 0, 0, 0, 0, ...   \n",
       "428  [0, 0, 0, 0, 0, 0, 0, 0, 0, 0, 0, 0, 0, 0, 0, ...   \n",
       "897  [0, 0, 0, 0, 0, 0, 0, 0, 0, 0, 0, 0, 0, 0, 0, ...   \n",
       "707  [0, 0, 0, 0, 0, 0, 0, 0, 0, 0, 0, 0, 0, 0, 0, ...   \n",
       "988  [0, 0, 0, 0, 0, 0, 0, 0, 0, 0, 0, 0, 0, 0, 0, ...   \n",
       "239  [0, 0, 0, 0, 0, 0, 0, 0, 0, 0, 0, 0, 0, 0, 0, ...   \n",
       "681  [0, 0, 0, 0, 0, 0, 0, 0, 0, 0, 0, 0, 0, 0, 0, ...   \n",
       "807  [0, 0, 0, 0, 0, 0, 0, 0, 0, 0, 0, 0, 0, 0, 0, ...   \n",
       "498  [0, 0, 0, 0, 0, 0, 0, 0, 0, 0, 0, 0, 0, 0, 0, ...   \n",
       "857  [0, 0, 0, 0, 0, 0, 0, 0, 0, 0, 0, 0, 0, 0, 0, ...   \n",
       "86   [0, 0, 0, 0, 0, 0, 0, 0, 0, 0, 0, 0, 0, 0, 0, ...   \n",
       "534  [0, 0, 0, 0, 0, 0, 0, 0, 0, 0, 0, 0, 0, 0, 0, ...   \n",
       "424  [0, 0, 0, 0, 0, 0, 0, 0, 0, 0, 0, 0, 0, 0, 0, ...   \n",
       "\n",
       "                                        attention_mask  \\\n",
       "268  [1, 1, 1, 1, 1, 1, 1, 1, 1, 1, 1, 1, 1, 1, 1, ...   \n",
       "78   [1, 1, 1, 1, 1, 1, 1, 1, 1, 1, 1, 1, 1, 1, 1, ...   \n",
       "87   [1, 1, 1, 1, 1, 1, 1, 1, 1, 1, 1, 1, 1, 1, 1, ...   \n",
       "108  [1, 1, 1, 1, 1, 1, 1, 1, 1, 1, 1, 1, 1, 1, 1, ...   \n",
       "329  [1, 1, 1, 1, 1, 1, 1, 1, 1, 1, 1, 1, 1, 1, 1, ...   \n",
       "727  [1, 1, 1, 1, 1, 1, 1, 1, 1, 1, 1, 1, 1, 1, 1, ...   \n",
       "0    [1, 1, 1, 1, 1, 1, 1, 1, 1, 1, 1, 1, 1, 1, 1, ...   \n",
       "595  [1, 1, 1, 1, 1, 1, 1, 1, 1, 1, 1, 1, 1, 1, 1, ...   \n",
       "192  [1, 1, 1, 1, 1, 1, 1, 1, 1, 1, 1, 1, 1, 1, 1, ...   \n",
       "132  [1, 1, 1, 1, 1, 1, 1, 1, 1, 1, 1, 1, 1, 1, 1, ...   \n",
       "216  [1, 1, 1, 1, 1, 1, 1, 1, 1, 1, 1, 1, 1, 1, 1, ...   \n",
       "401  [1, 1, 1, 1, 1, 1, 1, 1, 1, 1, 1, 1, 1, 1, 1, ...   \n",
       "869  [1, 1, 1, 1, 1, 1, 1, 1, 1, 1, 1, 1, 1, 1, 1, ...   \n",
       "781  [1, 1, 1, 1, 1, 1, 1, 1, 1, 1, 1, 1, 1, 1, 1, ...   \n",
       "428  [1, 1, 1, 1, 1, 1, 1, 1, 1, 1, 1, 1, 1, 1, 1, ...   \n",
       "897  [1, 1, 1, 1, 1, 1, 1, 1, 1, 1, 1, 1, 1, 1, 1, ...   \n",
       "707  [1, 1, 1, 1, 1, 1, 1, 1, 1, 1, 1, 1, 1, 1, 1, ...   \n",
       "988  [1, 1, 1, 1, 1, 1, 1, 1, 1, 1, 1, 1, 1, 1, 1, ...   \n",
       "239  [1, 1, 1, 1, 1, 1, 1, 1, 1, 1, 1, 1, 1, 1, 1, ...   \n",
       "681  [1, 1, 1, 1, 1, 1, 1, 1, 1, 1, 1, 1, 1, 1, 1, ...   \n",
       "807  [1, 1, 1, 1, 1, 1, 1, 1, 1, 1, 1, 1, 1, 1, 1, ...   \n",
       "498  [1, 1, 1, 1, 1, 1, 1, 1, 1, 1, 1, 1, 1, 1, 1, ...   \n",
       "857  [1, 1, 1, 1, 1, 1, 1, 1, 1, 1, 1, 1, 1, 1, 1, ...   \n",
       "86   [1, 1, 1, 1, 1, 1, 1, 1, 1, 1, 1, 1, 1, 1, 1, ...   \n",
       "534  [1, 1, 1, 1, 1, 1, 1, 1, 1, 1, 1, 1, 1, 1, 1, ...   \n",
       "424  [1, 1, 1, 1, 1, 1, 1, 1, 1, 1, 1, 1, 1, 1, 1, ...   \n",
       "\n",
       "                               soft_labels_t  input_length  \n",
       "268                          [0.0, 0.0, 1.0]           519  \n",
       "78                           [1.0, 0.0, 0.0]           521  \n",
       "87                           [0.0, 0.0, 1.0]           522  \n",
       "108                          [0.0, 0.0, 1.0]           526  \n",
       "329                    [0.5625, 0.0, 0.4375]           527  \n",
       "727            [0.85714287, 0.0, 0.14285715]           527  \n",
       "0                            [0.0, 0.0, 1.0]           529  \n",
       "595                          [0.0, 0.0, 1.0]           540  \n",
       "192             [0.02265861, 0.0, 0.9773414]           543  \n",
       "132                          [1.0, 0.0, 0.0]           543  \n",
       "216    [0.010752688, 0.032258064, 0.9569892]           544  \n",
       "401                          [0.0, 0.0, 1.0]           546  \n",
       "869           [0.0030456854, 0.0, 0.9969543]           549  \n",
       "781             [0.6666667, 0.0, 0.33333334]           556  \n",
       "428           [0.9994413, 0.0, 0.0005586592]           564  \n",
       "897                        [0.88, 0.0, 0.12]           568  \n",
       "707       [0.4224138, 0.01724138, 0.5603448]           572  \n",
       "988                          [1.0, 0.0, 0.0]           574  \n",
       "239  [0.88602877, 0.00042337002, 0.11354784]           575  \n",
       "681     [0.11407767, 0.009708738, 0.8762136]           576  \n",
       "807            [0.04347826, 0.0, 0.95652175]           580  \n",
       "498  [0.9967119, 0.0002989179, 0.0029891792]           593  \n",
       "857           [0.96511626, 0.0, 0.034883723]           597  \n",
       "86                           [1.0, 0.0, 0.0]           608  \n",
       "534                          [0.0, 0.0, 1.0]           643  \n",
       "424            [0.15789473, 0.0, 0.84210527]           644  "
      ]
     },
     "execution_count": 11,
     "metadata": {},
     "output_type": "execute_result"
    }
   ],
   "source": [
    "test_tokenized_dataset.query('input_length > 512').sort_values ('input_length')\n"
   ]
  },
  {
   "cell_type": "code",
   "execution_count": 13,
   "id": "53312dbf",
   "metadata": {},
   "outputs": [],
   "source": [
    "# ✅ Step 3.5: Split tokenized dataset into train/validation\n",
    "from sklearn.model_selection import train_test_split\n",
    "\n",
    "# Convert to list of dictionaries\n",
    "tokenized_list = tokenized_dataset.to_list()\n",
    "\n",
    "# Split the list into train and validation\n",
    "train_list, val_list = train_test_split(tokenized_list, test_size=0.5, random_state=401)\n",
    "\n",
    "# Convert back to HuggingFace Datasets\n",
    "from datasets import Dataset\n",
    "train_dataset = Dataset.from_list(train_list)\n",
    "val_dataset = Dataset.from_list(val_list)"
   ]
  },
  {
   "cell_type": "code",
   "execution_count": null,
   "id": "ff501c4a",
   "metadata": {},
   "outputs": [],
   "source": [
    "# ✅ Step 4: Build DataLoaders\n",
    "train_loader = DataLoader(\n",
    "    train_dataset,  # ✅ Use the split train set\n",
    "    batch_size=16,\n",
    "    shuffle=True,\n",
    "    collate_fn=default_data_collator\n",
    ")\n",
    "\n",
    "val_loader = DataLoader(\n",
    "    val_dataset,    # ✅ Use the split val set (optional for evaluation)\n",
    "    batch_size=16,\n",
    "    shuffle=False,\n",
    "    collate_fn=default_data_collator\n",
    ")"
   ]
  },
  {
   "cell_type": "code",
   "execution_count": 15,
   "id": "41a7e72a",
   "metadata": {},
   "outputs": [
    {
     "data": {
      "text/plain": [
       "dict_keys(['gold_index', 'input_ids', 'token_type_ids', 'attention_mask', 'soft_labels_t', 'input_length'])"
      ]
     },
     "execution_count": 15,
     "metadata": {},
     "output_type": "execute_result"
    }
   ],
   "source": [
    "train_loader.dataset[0].keys()"
   ]
  },
  {
   "cell_type": "code",
   "execution_count": 16,
   "id": "1512e82f",
   "metadata": {},
   "outputs": [],
   "source": [
    "# ✅ Step 5: Training config\n",
    "device = torch.device(\"cuda\" if torch.cuda.is_available() else \"cpu\")\n",
    "student_model.to(device)\n",
    "\n",
    "optimizer = AdamW(student_model.parameters(), lr=5e-5)\n",
    "loss_fn_kl = torch.nn.KLDivLoss(reduction=\"batchmean\")\n",
    "loss_fn_ce = torch.nn.CrossEntropyLoss()"
   ]
  },
  {
   "cell_type": "code",
   "execution_count": 17,
   "id": "cba037ab",
   "metadata": {},
   "outputs": [
    {
     "data": {
      "text/plain": [
       "<generator object Module.parameters at 0x7fc0079ef760>"
      ]
     },
     "execution_count": 17,
     "metadata": {},
     "output_type": "execute_result"
    }
   ],
   "source": [
    "student_model.parameters()"
   ]
  },
  {
   "cell_type": "code",
   "execution_count": 18,
   "id": "350866f2",
   "metadata": {},
   "outputs": [],
   "source": [
    "# ✅ Step 5.9 Initialize validation metrics\n",
    "train_losses = []\n",
    "val_losses = []\n",
    "val_accuracies = []\n",
    "val_precisions = []\n",
    "val_recalls = []\n",
    "val_f1_scores = []\n",
    "\n",
    "epochs = 10"
   ]
  },
  {
   "cell_type": "code",
   "execution_count": 19,
   "id": "0a947777",
   "metadata": {},
   "outputs": [
    {
     "name": "stdout",
     "output_type": "stream",
     "text": [
      "Predictions: 0x0s, 0x1s, 500x2s\n",
      "Epoch 1 - Train Loss: 1.6242, Val Loss: 1.6854, Accuracy: 0.5280, Precision: 0.2788, Recall: 0.5280, F1-Score: 0.3649\n",
      "Predictions: 0x0s, 0x1s, 500x2s\n",
      "Epoch 2 - Train Loss: 1.5790, Val Loss: 1.7037, Accuracy: 0.5280, Precision: 0.2788, Recall: 0.5280, F1-Score: 0.3649\n",
      "Predictions: 0x0s, 0x1s, 500x2s\n",
      "Epoch 3 - Train Loss: 1.5665, Val Loss: 1.6749, Accuracy: 0.5280, Precision: 0.2788, Recall: 0.5280, F1-Score: 0.3649\n",
      "Predictions: 140x0s, 0x1s, 360x2s\n",
      "Epoch 4 - Train Loss: 1.5448, Val Loss: 1.5120, Accuracy: 0.6840, Precision: 0.6060, Recall: 0.6840, F1-Score: 0.6323\n",
      "Predictions: 332x0s, 0x1s, 168x2s\n",
      "Epoch 5 - Train Loss: 1.3573, Val Loss: 1.6046, Accuracy: 0.5740, Precision: 0.5783, Recall: 0.5740, F1-Score: 0.5367\n",
      "Predictions: 79x0s, 0x1s, 421x2s\n",
      "Epoch 6 - Train Loss: 1.0752, Val Loss: 1.9586, Accuracy: 0.6400, Precision: 0.6046, Recall: 0.6400, F1-Score: 0.5710\n",
      "Predictions: 189x0s, 0x1s, 311x2s\n",
      "Epoch 7 - Train Loss: 0.8578, Val Loss: 1.4710, Accuracy: 0.6800, Precision: 0.5960, Recall: 0.6800, F1-Score: 0.6350\n",
      "Predictions: 207x0s, 4x1s, 289x2s\n",
      "Epoch 8 - Train Loss: 0.7165, Val Loss: 1.4907, Accuracy: 0.6780, Precision: 0.6310, Recall: 0.6780, F1-Score: 0.6396\n",
      "Predictions: 202x0s, 1x1s, 297x2s\n",
      "Epoch 9 - Train Loss: 0.5536, Val Loss: 1.5928, Accuracy: 0.6760, Precision: 0.5953, Recall: 0.6760, F1-Score: 0.6331\n",
      "Predictions: 192x0s, 3x1s, 305x2s\n",
      "Epoch 10 - Train Loss: 0.5355, Val Loss: 1.6060, Accuracy: 0.6760, Precision: 0.6351, Recall: 0.6760, F1-Score: 0.6354\n"
     ]
    }
   ],
   "source": [
    "# ✅ Step 6: Distillation training loop\n",
    "\n",
    "for epoch in range(epochs):\n",
    "    student_model.train()\n",
    "    train_loss = 0\n",
    "    for batch in train_loader:\n",
    "        input_ids = batch[\"input_ids\"].to(device)\n",
    "        attention_mask = batch[\"attention_mask\"].to(device)\n",
    "        soft_labels = batch[\"soft_labels_t\"].to(device)\n",
    "        hard_labels = batch[\"gold_index\"].to(device)\n",
    "        \n",
    "        outputs = student_model(input_ids=input_ids, attention_mask=attention_mask)\n",
    "        logits = outputs.logits\n",
    "        log_probs = torch.nn.functional.log_softmax(logits, dim=-1)\n",
    "        loss = loss_fn_kl(log_probs, soft_labels) + loss_fn_ce(logits, hard_labels)\n",
    "        \n",
    "        loss.backward()\n",
    "        optimizer.step()\n",
    "        optimizer.zero_grad()\n",
    "\n",
    "        train_loss += loss.item()\n",
    "        \n",
    "    avg_train_loss = train_loss / len(train_loader)\n",
    "    train_losses.append(avg_train_loss)  # For plotting\n",
    "     \n",
    "    student_model.eval()\n",
    "    correct = 0\n",
    "    total = 0\n",
    "    val_loss = 0\n",
    "    all_predictions = []\n",
    "    all_hard_labels = []\n",
    "\n",
    "    # ✅ Step 6.1: Validation loop\n",
    "    with torch.no_grad():\n",
    "        for batch in val_loader:\n",
    "            input_ids = batch[\"input_ids\"].to(device)\n",
    "            attention_mask = batch[\"attention_mask\"].to(device)\n",
    "            soft_labels = batch[\"soft_labels_t\"].to(device)\n",
    "            hard_labels = batch[\"gold_index\"].to(device)\n",
    "\n",
    "            logits = student_model(input_ids=input_ids, attention_mask=attention_mask).logits\n",
    "            log_probs = torch.nn.functional.log_softmax(logits, dim=-1)\n",
    "            loss = loss_fn_kl(log_probs, soft_labels) + loss_fn_ce(logits, hard_labels)\n",
    "            val_loss += loss.item()\n",
    "            \n",
    "            predictions = torch.argmax(logits, dim=1)\n",
    "            \n",
    "            correct += (predictions == hard_labels).sum().item()\n",
    "            total += soft_labels.size(0)\n",
    "            all_predictions.extend(predictions.cpu().numpy())\n",
    "            all_hard_labels.extend(hard_labels.cpu().numpy())\n",
    "            \n",
    "    sum_0=np.sum(np.array(all_predictions)==0)\n",
    "    sum_1=np.sum(np.array(all_predictions)==1)\n",
    "    sum_2=np.sum(np.array(all_predictions)==2)\n",
    "    print(f\"Predictions: {sum_0}x0s, {sum_1}x1s, {sum_2}x2s\")\n",
    "    \n",
    "    \n",
    "    avg_val_loss = val_loss / len(val_loader)\n",
    "    val_losses.append(avg_val_loss) # for plotting\n",
    "    \n",
    "    accuracy = correct / total\n",
    "    val_accuracies.append(accuracy)\n",
    "\n",
    "    # Calculate additional metrics\n",
    "    precision = precision_score(all_hard_labels, all_predictions, average=\"weighted\", zero_division=0)\n",
    "    recall = recall_score(all_hard_labels, all_predictions, average=\"weighted\", zero_division=0)\n",
    "    f1 = f1_score(all_hard_labels, all_predictions, average=\"weighted\", zero_division=0)\n",
    "    \n",
    "    val_precisions.append(precision)\n",
    "    val_recalls.append(recall)\n",
    "    val_f1_scores.append(f1)\n",
    "    \n",
    "    print(f\"Epoch {epoch + 1} - Train Loss: {avg_train_loss:.4f}, Val Loss: {avg_val_loss:.4f}, \"\n",
    "    f\"Accuracy: {accuracy:.4f}, Precision: {precision:.4f}, Recall: {recall:.4f}, F1-Score: {f1:.4f}\")"
   ]
  },
  {
   "cell_type": "code",
   "execution_count": 20,
   "id": "a6999435",
   "metadata": {},
   "outputs": [
    {
     "data": {
      "text/plain": [
       "('/home/shared/models/student_distilled/tokenizer_config.json',\n",
       " '/home/shared/models/student_distilled/special_tokens_map.json',\n",
       " '/home/shared/models/student_distilled/vocab.txt',\n",
       " '/home/shared/models/student_distilled/added_tokens.json')"
      ]
     },
     "execution_count": 20,
     "metadata": {},
     "output_type": "execute_result"
    }
   ],
   "source": [
    "# Save the distilled model\n",
    "output_dir = \"/home/shared/models/student_distilled\"\n",
    "student_model.save_pretrained(output_dir)\n",
    "student_tokenizer.save_pretrained(output_dir)"
   ]
  },
  {
   "cell_type": "code",
   "execution_count": 21,
   "id": "94fe0402",
   "metadata": {},
   "outputs": [
    {
     "data": {
      "text/plain": [
       "tensor(0.4875, device='cuda:0')"
      ]
     },
     "execution_count": 21,
     "metadata": {},
     "output_type": "execute_result"
    }
   ],
   "source": [
    "loss_fn_ce(log_probs, hard_labels)"
   ]
  },
  {
   "cell_type": "code",
   "execution_count": 22,
   "id": "2f497d7e",
   "metadata": {},
   "outputs": [
    {
     "data": {
      "text/plain": [
       "tensor(2.6540, device='cuda:0')"
      ]
     },
     "execution_count": 22,
     "metadata": {},
     "output_type": "execute_result"
    }
   ],
   "source": [
    "loss_fn_kl(log_probs, soft_labels)"
   ]
  },
  {
   "cell_type": "code",
   "execution_count": 23,
   "id": "0bf74057",
   "metadata": {},
   "outputs": [
    {
     "data": {
      "text/plain": [
       "tensor([[-0.0405, -2.1733,  1.5279],\n",
       "        [-1.4430, -1.6155,  3.3812],\n",
       "        [ 0.3815, -1.9838,  1.7691],\n",
       "        [-0.7437, -0.9880,  2.1216]], device='cuda:0')"
      ]
     },
     "execution_count": 23,
     "metadata": {},
     "output_type": "execute_result"
    }
   ],
   "source": [
    "logits"
   ]
  },
  {
   "cell_type": "code",
   "execution_count": 24,
   "id": "7e65aa8c",
   "metadata": {},
   "outputs": [
    {
     "data": {
      "text/plain": [
       "tensor([[-1.7780, -3.9107, -0.2095],\n",
       "        [-4.8389, -5.0114, -0.0147],\n",
       "        [-1.6290, -3.9944, -0.2415],\n",
       "        [-2.9621, -3.2064, -0.0967]], device='cuda:0')"
      ]
     },
     "execution_count": 24,
     "metadata": {},
     "output_type": "execute_result"
    }
   ],
   "source": [
    "log_probs"
   ]
  },
  {
   "cell_type": "code",
   "execution_count": 25,
   "id": "b8c5f9d8",
   "metadata": {},
   "outputs": [
    {
     "ename": "NameError",
     "evalue": "name 'inputs' is not defined",
     "output_type": "error",
     "traceback": [
      "\u001b[31m---------------------------------------------------------------------------\u001b[39m",
      "\u001b[31mNameError\u001b[39m                                 Traceback (most recent call last)",
      "\u001b[36mCell\u001b[39m\u001b[36m \u001b[39m\u001b[32mIn[25]\u001b[39m\u001b[32m, line 3\u001b[39m\n\u001b[32m      1\u001b[39m \u001b[38;5;66;03m# Test the structure of the output of the student model\u001b[39;00m\n\u001b[32m      2\u001b[39m \u001b[38;5;28;01mwith\u001b[39;00m torch.no_grad():\n\u001b[32m----> \u001b[39m\u001b[32m3\u001b[39m     student_logits = student_model(**\u001b[43minputs\u001b[49m)\n\u001b[32m      5\u001b[39m student_logits\n",
      "\u001b[31mNameError\u001b[39m: name 'inputs' is not defined"
     ]
    }
   ],
   "source": [
    "# Test the structure of the output of the student model\n",
    "with torch.no_grad():\n",
    "    student_logits = student_model(**inputs)\n",
    "    \n",
    "student_logits"
   ]
  },
  {
   "cell_type": "code",
   "execution_count": 26,
   "id": "a39b5961",
   "metadata": {},
   "outputs": [
    {
     "name": "stdout",
     "output_type": "stream",
     "text": [
      "Token ID for 'Maybe': 1\n"
     ]
    }
   ],
   "source": [
    "# Get the token ID for \"]\"\n",
    "token_id = student_tokenizer.convert_tokens_to_ids(\"Maybe\")\n",
    "print(f\"Token ID for 'Maybe': {token_id}\")"
   ]
  },
  {
   "cell_type": "markdown",
   "id": "183bb6d6",
   "metadata": {},
   "source": [
    "## Check student's raw performance"
   ]
  },
  {
   "cell_type": "code",
   "execution_count": 27,
   "id": "75d4fe39",
   "metadata": {},
   "outputs": [],
   "source": [
    "full_loader = DataLoader(\n",
    "    tokenized_dataset,\n",
    "    batch_size=16,\n",
    "    shuffle=False,\n",
    "    collate_fn=default_data_collator\n",
    ")"
   ]
  },
  {
   "cell_type": "code",
   "execution_count": null,
   "id": "7613c3ea",
   "metadata": {},
   "outputs": [
    {
     "name": "stdout",
     "output_type": "stream",
     "text": [
      "📊 Student Model Performance on Full Dataset:\n",
      "Accuracy: 0.8030\n",
      "Precision: 0.8101\n",
      "Recall: 0.8030\n",
      "F1 Score: 0.7939\n"
     ]
    }
   ],
   "source": [
    "from sklearn.metrics import accuracy_score, precision_score, recall_score, f1_score\n",
    "\n",
    "student_model.eval()\n",
    "all_preds = []\n",
    "all_true = []\n",
    "\n",
    "with torch.no_grad():\n",
    "    for batch in full_loader:\n",
    "        input_ids = batch[\"input_ids\"].to(device)\n",
    "        attention_mask = batch[\"attention_mask\"].to(device)\n",
    "        hard_labels = batch[\"gold_index\"].to(device)\n",
    "\n",
    "        logits = student_model(input_ids=input_ids, attention_mask=attention_mask).logits\n",
    "        preds = torch.argmax(logits, dim=1)\n",
    "\n",
    "        all_preds.extend(preds.cpu().numpy())\n",
    "        all_true.extend(hard_labels.cpu().numpy())\n",
    "\n",
    "# Compute metrics\n",
    "accuracy = accuracy_score(all_true, all_preds)\n",
    "precision = precision_score(all_true, all_preds, average=\"weighted\", zero_division=0)\n",
    "recall = recall_score(all_true, all_preds, average=\"weighted\", zero_division=0)\n",
    "f1 = f1_score(all_true, all_preds, average=\"weighted\", zero_division=0)\n",
    "\n",
    "print(f\"Student Model Performance on Full Dataset:\")\n",
    "print(f\"Accuracy: {accuracy:.4f}\")\n",
    "print(f\"Precision: {precision:.4f}\")\n",
    "print(f\"Recall: {recall:.4f}\")\n",
    "print(f\"F1 Score: {f1:.4f}\")\n"
   ]
  },
  {
   "cell_type": "code",
   "execution_count": 29,
   "id": "964ea270",
   "metadata": {},
   "outputs": [
    {
     "data": {
      "text/plain": [
       "tensor([2, 2, 2, 2, 0, 2, 2, 0], device='cuda:0')"
      ]
     },
     "execution_count": 29,
     "metadata": {},
     "output_type": "execute_result"
    }
   ],
   "source": [
    "preds"
   ]
  },
  {
   "cell_type": "markdown",
   "id": "7ee93dd3",
   "metadata": {},
   "source": [
    "## Plotting"
   ]
  },
  {
   "cell_type": "code",
   "execution_count": 30,
   "id": "53f10165",
   "metadata": {},
   "outputs": [],
   "source": [
    "import matplotlib.pyplot as plt"
   ]
  },
  {
   "cell_type": "code",
   "execution_count": 31,
   "id": "5a4f91f1",
   "metadata": {},
   "outputs": [],
   "source": [
    "epochs = list(range(1, len(val_losses) + 1))  # Epoch numbers"
   ]
  },
  {
   "cell_type": "code",
   "execution_count": 32,
   "id": "e6550a30",
   "metadata": {},
   "outputs": [
    {
     "data": {
      "image/png": "[encoded data removed]",
      "text/plain": [
       "<Figure size 1000x600 with 1 Axes>"
      ]
     },
     "metadata": {},
     "output_type": "display_data"
    }
   ],
   "source": [
    "# Plot Training and Validation Loss\n",
    "plt.figure(figsize=(10, 6))\n",
    "plt.plot(epochs, train_losses, label=\"Training Loss\", marker=\"o\", linestyle=\"--\", color=\"blue\")\n",
    "plt.plot(epochs, val_losses, label=\"Validation Loss\", marker=\"o\", linestyle=\"-\", color=\"orange\")\n",
    "plt.xlabel(\"Epochs\", fontsize=12)\n",
    "plt.ylabel(\"Loss\", fontsize=12)\n",
    "plt.title(\"Training and Validation Loss\", fontsize=14, fontweight=\"bold\")\n",
    "plt.legend(fontsize=10)\n",
    "plt.grid(alpha=0.3)\n",
    "plt.show()"
   ]
  },
  {
   "cell_type": "code",
   "execution_count": 33,
   "id": "be8aa09d",
   "metadata": {},
   "outputs": [
    {
     "data": {
      "image/png": "[encoded data removed]",
      "text/plain": [
       "<Figure size 1000x600 with 1 Axes>"
      ]
     },
     "metadata": {},
     "output_type": "display_data"
    }
   ],
   "source": [
    "# Plot Validation Accuracy\n",
    "plt.figure(figsize=(10, 6))\n",
    "plt.plot(epochs, val_accuracies, label=\"Validation Accuracy\", marker=\"o\", linestyle=\"-\", color=\"green\")\n",
    "plt.xlabel(\"Epochs\", fontsize=12)\n",
    "plt.ylabel(\"Accuracy\", fontsize=12)\n",
    "plt.title(\"Validation Accuracy\", fontsize=14, fontweight=\"bold\")\n",
    "plt.legend(fontsize=10)\n",
    "plt.grid(alpha=0.3)\n",
    "plt.show()"
   ]
  },
  {
   "cell_type": "code",
   "execution_count": 34,
   "id": "5726273f",
   "metadata": {},
   "outputs": [
    {
     "data": {
      "image/png": "[encoded data removed]",
      "text/plain": [
       "<Figure size 1000x600 with 1 Axes>"
      ]
     },
     "metadata": {},
     "output_type": "display_data"
    }
   ],
   "source": [
    "# Plot Precision, Recall, and F1-Score\n",
    "plt.figure(figsize=(10, 6))\n",
    "plt.plot(epochs, val_precisions, label=\"Precision\", marker=\"o\", linestyle=\"--\", color=\"purple\")\n",
    "plt.plot(epochs, val_recalls, label=\"Recall\", marker=\"o\", linestyle=\"-.\", color=\"red\")\n",
    "plt.plot(epochs, val_f1_scores, label=\"F1-Score\", marker=\"o\", linestyle=\"-\", color=\"brown\")\n",
    "plt.xlabel(\"Epochs\", fontsize=12)\n",
    "plt.ylabel(\"Score\", fontsize=12)\n",
    "plt.title(\"Validation Metrics (Precision, Recall, F1-Score)\", fontsize=14, fontweight=\"bold\")\n",
    "plt.legend(fontsize=10)\n",
    "plt.grid(alpha=0.3)\n",
    "plt.show()"
   ]
  }
 ],
 "metadata": {
  "kernelspec": {
   "display_name": "llm-env",
   "language": "python",
   "name": "python3"
  },
  "language_info": {
   "codemirror_mode": {
    "name": "ipython",
    "version": 3
   },
   "file_extension": ".py",
   "mimetype": "text/x-python",
   "name": "python",
   "nbconvert_exporter": "python",
   "pygments_lexer": "ipython3",
   "version": "3.11.2"
  }
 },
 "nbformat": 4,
 "nbformat_minor": 5
}
