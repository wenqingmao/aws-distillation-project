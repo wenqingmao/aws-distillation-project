{
 "cells": [
  {
   "cell_type": "markdown",
   "id": "854b66b3",
   "metadata": {},
   "source": [
    "# 1. Import Packages & Load Soft Labels"
   ]
  },
  {
   "cell_type": "code",
   "execution_count": 1,
   "id": "de51a511",
   "metadata": {},
   "outputs": [],
   "source": [
    "import os\n",
    "\n",
    "os.environ[\"HF_HOME\"] = \"/home/shared/.cache/huggingface\"\n",
    "os.environ[\"HUGGINGFACE_HUB_CACHE\"] = \"/home/shared/.cache/huggingface/hub\""
   ]
  },
  {
   "cell_type": "code",
   "execution_count": 2,
   "id": "85f2a6d6",
   "metadata": {},
   "outputs": [],
   "source": [
    "import json\n",
    "import torch\n",
    "import torch.nn.functional as F\n",
    "from dotenv import load_dotenv\n",
    "from datasets import Dataset\n",
    "from torch.optim import AdamW\n",
    "from transformers import (\n",
    "    BertTokenizer,\n",
    "    BertForSequenceClassification,\n",
    "    default_data_collator\n",
    ")\n",
    "from torch.utils.data import DataLoader\n",
    "from sklearn.metrics import precision_score, recall_score, f1_score\n",
    "import numpy as np\n",
    "import pickle"
   ]
  },
  {
   "cell_type": "code",
   "execution_count": 3,
   "id": "60cb19a6",
   "metadata": {},
   "outputs": [
    {
     "name": "stdout",
     "output_type": "stream",
     "text": [
      "True\n"
     ]
    }
   ],
   "source": [
    "# Check GPU availability\n",
    "device = \"cuda\" if torch.cuda.is_available() else \"cpu\"\n",
    "print(torch.cuda.is_available())"
   ]
  },
  {
   "cell_type": "code",
   "execution_count": 4,
   "id": "38089dc4",
   "metadata": {},
   "outputs": [],
   "source": [
    "from huggingface_hub import login\n",
    "from dotenv import load_dotenv\n",
    "\n",
    "load_dotenv()\n",
    "hf_token = os.getenv(\"hf_token\")\n",
    "login(token=hf_token)"
   ]
  },
  {
   "cell_type": "markdown",
   "id": "962196a4",
   "metadata": {},
   "source": [
    "## 2. Load Student Model"
   ]
  },
  {
   "cell_type": "code",
   "execution_count": 5,
   "id": "d310846d",
   "metadata": {},
   "outputs": [],
   "source": [
    "# ✅ Step 1: Load PubMedBERT tokenizer and model with manual BERT specification\n",
    "\n",
    "new_train = False # Set to True if you want to train a new model\n",
    "\n",
    "if new_train:\n",
    "    from transformers import BertTokenizer, BertForSequenceClassification, BertConfig\n",
    "\n",
    "    # student_model_id = \"michiyasunaga/BioLinkBERT-base\"\n",
    "    student_model_id = \"microsoft/BiomedNLP-BiomedBERT-base-uncased-abstract-fulltext\"\n",
    "\n",
    "    config = BertConfig.from_pretrained(student_model_id)\n",
    "    config.num_labels = 3\n",
    "    config.model_type = \"bert\" \n",
    "\n",
    "    student_tokenizer = BertTokenizer.from_pretrained(student_model_id)\n",
    "    student_model = BertForSequenceClassification.from_pretrained(student_model_id, config=config)\n",
    "else:\n",
    "    # ✅ Step 2: Load the pre-trained student model and tokenizer\n",
    "    student_model_path = \"/home/shared/models/student_distilled\"\n",
    "    student_tokenizer = BertTokenizer.from_pretrained(student_model_path)\n",
    "    student_model = BertForSequenceClassification.from_pretrained(student_model_path)"
   ]
  },
  {
   "cell_type": "markdown",
   "id": "fb6240b3",
   "metadata": {},
   "source": [
    "# 3. Data Preprocessing"
   ]
  },
  {
   "cell_type": "markdown",
   "id": "9fe89498",
   "metadata": {},
   "source": [
    "## 3.1 Convert Soft Labels to HF Dataset and Tokenize"
   ]
  },
  {
   "cell_type": "code",
   "execution_count": 6,
   "id": "15a9c933",
   "metadata": {},
   "outputs": [],
   "source": [
    "# ✅ Step 2: Load soft labels from file\n",
    "with open(\"soft_labels_from_finetuned_biogpt.json\", \"r\") as f:\n",
    "    soft_dataset = json.load(f)"
   ]
  },
  {
   "cell_type": "code",
   "execution_count": 7,
   "id": "0e1131e4",
   "metadata": {},
   "outputs": [
    {
     "data": {
      "application/vnd.jupyter.widget-view+json": {
       "model_id": "aba7899f900f4bd0af2d3122729f91db",
       "version_major": 2,
       "version_minor": 0
      },
      "text/plain": [
       "Map:   0%|          | 0/1000 [00:00<?, ? examples/s]"
      ]
     },
     "metadata": {},
     "output_type": "display_data"
    }
   ],
   "source": [
    "# ✅ Step 3: Convert soft dataset to HF Dataset and tokenize\n",
    "hf_dataset = Dataset.from_list(soft_dataset)\n",
    "\n",
    "def tokenize_function(example):\n",
    "    tokens = student_tokenizer(\n",
    "        example[\"input_text\"],\n",
    "        padding=\"max_length\",\n",
    "        truncation=True,\n",
    "        max_length=512\n",
    "    )\n",
    "    tokens[\"soft_labels_t\"] = torch.tensor(example[\"soft_label\"], dtype=torch.float)\n",
    "    # ✅ Add input length field\n",
    "    tokens[\"input_length\"] = len(student_tokenizer.tokenize(example[\"input_text\"]))\n",
    "    return tokens\n",
    "\n",
    "tokenized_dataset = hf_dataset.map(tokenize_function, remove_columns=[\"input_text\", \"soft_label\"])\n",
    "tokenized_dataset_copy = tokenized_dataset"
   ]
  },
  {
   "cell_type": "markdown",
   "id": "8d6f3aa8",
   "metadata": {},
   "source": [
    "## 3.2 Drop Rows with Input Length > 512 Tokens"
   ]
  },
  {
   "cell_type": "code",
   "execution_count": 8,
   "id": "7f616b2b",
   "metadata": {},
   "outputs": [
    {
     "data": {
      "application/vnd.jupyter.widget-view+json": {
       "model_id": "b4b8c75236cb4db49e94ec405d925434",
       "version_major": 2,
       "version_minor": 0
      },
      "text/plain": [
       "Filter:   0%|          | 0/1000 [00:00<?, ? examples/s]"
      ]
     },
     "metadata": {},
     "output_type": "display_data"
    }
   ],
   "source": [
    "# Drop examples with input length greater than 512\n",
    "tokenized_dataset = tokenized_dataset.filter(lambda example: example[\"input_length\"] <= 512)"
   ]
  },
  {
   "cell_type": "code",
   "execution_count": 9,
   "id": "8b7c7e13",
   "metadata": {},
   "outputs": [
    {
     "data": {
      "text/plain": [
       "(974, 6)"
      ]
     },
     "execution_count": 9,
     "metadata": {},
     "output_type": "execute_result"
    }
   ],
   "source": [
    "test_tokenized_dataset = tokenized_dataset.to_pandas()\n",
    "test_tokenized_dataset.shape"
   ]
  },
  {
   "cell_type": "code",
   "execution_count": 10,
   "id": "e65375a8",
   "metadata": {},
   "outputs": [
    {
     "data": {
      "text/plain": [
       "gold_index\n",
       "2    552\n",
       "0    338\n",
       "1    110\n",
       "Name: count, dtype: int64"
      ]
     },
     "execution_count": 10,
     "metadata": {},
     "output_type": "execute_result"
    }
   ],
   "source": [
    "test_copy = tokenized_dataset_copy.to_pandas()\n",
    "test_copy[\"gold_index\"].value_counts()"
   ]
  },
  {
   "cell_type": "code",
   "execution_count": 11,
   "id": "63be163f",
   "metadata": {},
   "outputs": [
    {
     "data": {
      "text/plain": [
       "gold_index\n",
       "2    536\n",
       "0    332\n",
       "1    106\n",
       "Name: count, dtype: int64"
      ]
     },
     "execution_count": 11,
     "metadata": {},
     "output_type": "execute_result"
    }
   ],
   "source": [
    "test_tokenized_dataset[\"gold_index\"].value_counts()"
   ]
  },
  {
   "cell_type": "code",
   "execution_count": 12,
   "id": "fea1c302",
   "metadata": {},
   "outputs": [
    {
     "data": {
      "text/plain": [
       "gold_index\n",
       "2    16\n",
       "0     6\n",
       "1     4\n",
       "Name: count, dtype: int64"
      ]
     },
     "execution_count": 12,
     "metadata": {},
     "output_type": "execute_result"
    }
   ],
   "source": [
    "test_copy.query('input_length > 512').sort_values ('input_length')[\"gold_index\"].value_counts()"
   ]
  },
  {
   "cell_type": "code",
   "execution_count": 13,
   "id": "66fc514f",
   "metadata": {},
   "outputs": [
    {
     "data": {
      "text/html": [
       "<div>\n",
       "<style scoped>\n",
       "    .dataframe tbody tr th:only-of-type {\n",
       "        vertical-align: middle;\n",
       "    }\n",
       "\n",
       "    .dataframe tbody tr th {\n",
       "        vertical-align: top;\n",
       "    }\n",
       "\n",
       "    .dataframe thead th {\n",
       "        text-align: right;\n",
       "    }\n",
       "</style>\n",
       "<table border=\"1\" class=\"dataframe\">\n",
       "  <thead>\n",
       "    <tr style=\"text-align: right;\">\n",
       "      <th></th>\n",
       "      <th>gold_index</th>\n",
       "      <th>input_ids</th>\n",
       "      <th>token_type_ids</th>\n",
       "      <th>attention_mask</th>\n",
       "      <th>soft_labels_t</th>\n",
       "      <th>input_length</th>\n",
       "    </tr>\n",
       "  </thead>\n",
       "  <tbody>\n",
       "  </tbody>\n",
       "</table>\n",
       "</div>"
      ],
      "text/plain": [
       "Empty DataFrame\n",
       "Columns: [gold_index, input_ids, token_type_ids, attention_mask, soft_labels_t, input_length]\n",
       "Index: []"
      ]
     },
     "execution_count": 13,
     "metadata": {},
     "output_type": "execute_result"
    }
   ],
   "source": [
    "test_tokenized_dataset.query('input_length > 512').sort_values ('input_length')"
   ]
  },
  {
   "cell_type": "markdown",
   "id": "50c68368",
   "metadata": {},
   "source": [
    "## 3.3 Train Test Split"
   ]
  },
  {
   "cell_type": "code",
   "execution_count": 9,
   "id": "53312dbf",
   "metadata": {},
   "outputs": [],
   "source": [
    "# ✅ Step 3.5: Split tokenized dataset into train/validation\n",
    "from sklearn.model_selection import train_test_split\n",
    "\n",
    "# Convert to list of dictionaries\n",
    "tokenized_list = tokenized_dataset.to_list()\n",
    "\n",
    "# Split the list into train and validation\n",
    "train_list, val_list = train_test_split(tokenized_list, test_size=0.5, random_state=401)\n",
    "\n",
    "# Convert back to HuggingFace Datasets\n",
    "from datasets import Dataset\n",
    "train_dataset = Dataset.from_list(train_list)\n",
    "val_dataset = Dataset.from_list(val_list)"
   ]
  },
  {
   "cell_type": "code",
   "execution_count": 10,
   "id": "ff501c4a",
   "metadata": {},
   "outputs": [],
   "source": [
    "# ✅ Step 4: Build DataLoaders\n",
    "train_loader = DataLoader(\n",
    "    train_dataset,  # ✅ Use the split train set\n",
    "    batch_size=16,\n",
    "    shuffle=True,\n",
    "    collate_fn=default_data_collator\n",
    ")\n",
    "\n",
    "val_loader = DataLoader(\n",
    "    val_dataset,    # ✅ Use the split val set (optional for evaluation)\n",
    "    batch_size=16,\n",
    "    shuffle=False,\n",
    "    collate_fn=default_data_collator\n",
    ")"
   ]
  },
  {
   "cell_type": "code",
   "execution_count": 16,
   "id": "41a7e72a",
   "metadata": {},
   "outputs": [
    {
     "data": {
      "text/plain": [
       "dict_keys(['gold_index', 'input_ids', 'token_type_ids', 'attention_mask', 'soft_labels_t', 'input_length'])"
      ]
     },
     "execution_count": 16,
     "metadata": {},
     "output_type": "execute_result"
    }
   ],
   "source": [
    "train_loader.dataset[0].keys()"
   ]
  },
  {
   "cell_type": "markdown",
   "id": "ad8a79d9",
   "metadata": {},
   "source": [
    "# 4. Train Student Model"
   ]
  },
  {
   "cell_type": "markdown",
   "id": "000b2dc9",
   "metadata": {},
   "source": [
    "## 4.1 Training Configurations"
   ]
  },
  {
   "cell_type": "code",
   "execution_count": null,
   "id": "1512e82f",
   "metadata": {},
   "outputs": [],
   "source": [
    "# ✅ Step 5: Training config\n",
    "device = torch.device(\"cuda\" if torch.cuda.is_available() else \"cpu\")\n",
    "student_model.to(device)\n",
    "\n",
    "optimizer = AdamW(student_model.parameters(), lr=1e-5)\n",
    "\n",
    "loss_fn_kl = torch.nn.KLDivLoss(reduction=\"batchmean\")\n",
    "loss_fn_ce = torch.nn.CrossEntropyLoss()"
   ]
  },
  {
   "cell_type": "code",
   "execution_count": 12,
   "id": "cba037ab",
   "metadata": {},
   "outputs": [
    {
     "data": {
      "text/plain": [
       "<generator object Module.parameters at 0x7f84844cadc0>"
      ]
     },
     "execution_count": 12,
     "metadata": {},
     "output_type": "execute_result"
    }
   ],
   "source": [
    "student_model.parameters()"
   ]
  },
  {
   "cell_type": "code",
   "execution_count": 13,
   "id": "350866f2",
   "metadata": {},
   "outputs": [],
   "source": [
    "# ✅ Step 5.9 Initialize validation metrics\n",
    "train_losses = []\n",
    "val_losses = []\n",
    "val_ce_losses = []\n",
    "val_accuracies = []\n",
    "val_precisions = []\n",
    "val_recalls = []\n",
    "val_f1_scores = []\n",
    "\n",
    "epochs = 50\n",
    "best_val_loss = 100\n",
    "best_accuracy = 0\n",
    "patience = 30\n",
    "counter = 0"
   ]
  },
  {
   "cell_type": "code",
   "execution_count": 14,
   "id": "45a837c2",
   "metadata": {},
   "outputs": [
    {
     "name": "stdout",
     "output_type": "stream",
     "text": [
      "📊 Resumed training history. Best val loss: 0.6349, Best accuracy: 0.6674\n"
     ]
    }
   ],
   "source": [
    "# Reload previous metrics if they exist\n",
    "with open(\"/home/shared/models/student_distilled_metrics/distill_metrics.pkl\", \"rb\") as f:\n",
    "    metrics = pickle.load(f)\n",
    "\n",
    "train_losses = metrics[\"train_losses\"]\n",
    "val_losses = metrics[\"val_losses\"]\n",
    "val_ce_losses = metrics[\"val_ce_losses\"]\n",
    "val_accuracies = metrics[\"val_accuracies\"]\n",
    "val_precisions = metrics[\"val_precisions\"]\n",
    "val_recalls = metrics[\"val_recalls\"]\n",
    "val_f1_scores = metrics[\"val_f1_scores\"]\n",
    "best_val_loss = metrics[\"best_val_loss\"]       # load best loss\n",
    "best_accuracy = metrics[\"best_accuracy\"]       # load best acc\n",
    "\n",
    "print(f\"📊 Resumed training history. Best val loss: {best_val_loss:.4f}, Best accuracy: {best_accuracy:.4f}\")\n",
    "epoch = len(val_losses)"
   ]
  },
  {
   "cell_type": "markdown",
   "id": "1c8c72e2",
   "metadata": {},
   "source": [
    "## 4.2 Training Loop"
   ]
  },
  {
   "cell_type": "code",
   "execution_count": 17,
   "id": "0a947777",
   "metadata": {},
   "outputs": [
    {
     "name": "stdout",
     "output_type": "stream",
     "text": [
      "Predictions: 246x0s, 1x1s, 240x2s\n",
      "Epoch 1 - Train Loss: 0.2032, Val Loss: 0.7250, Accuracy: 0.6530, Precision: 0.6159, Recall: 0.6530, F1-Score: 0.6237\n",
      "           └ Val CE-only Loss (for gold-only comparison): 1.0187\n",
      "Predictions: 273x0s, 1x1s, 213x2s\n",
      "Epoch 2 - Train Loss: 0.1950, Val Loss: 0.7452, Accuracy: 0.6242, Precision: 0.6097, Recall: 0.6242, F1-Score: 0.5971\n",
      "           └ Val CE-only Loss (for gold-only comparison): 1.1001\n",
      "Predictions: 281x0s, 1x1s, 205x2s\n",
      "Epoch 3 - Train Loss: 0.1966, Val Loss: 0.7425, Accuracy: 0.6201, Precision: 0.6134, Recall: 0.6201, F1-Score: 0.5933\n",
      "           └ Val CE-only Loss (for gold-only comparison): 1.0967\n",
      "Predictions: 268x0s, 1x1s, 218x2s\n",
      "Epoch 4 - Train Loss: 0.1979, Val Loss: 0.7772, Accuracy: 0.6222, Precision: 0.6029, Recall: 0.6222, F1-Score: 0.5948\n",
      "           └ Val CE-only Loss (for gold-only comparison): 1.1138\n",
      "Predictions: 315x0s, 1x1s, 171x2s\n",
      "Epoch 5 - Train Loss: 0.1969, Val Loss: 0.7331, Accuracy: 0.5852, Precision: 0.6122, Recall: 0.5852, F1-Score: 0.5565\n",
      "           └ Val CE-only Loss (for gold-only comparison): 1.1170\n",
      "Predictions: 251x0s, 1x1s, 235x2s\n",
      "Epoch 6 - Train Loss: 0.1941, Val Loss: 0.7274, Accuracy: 0.6509, Precision: 0.6180, Recall: 0.6509, F1-Score: 0.6223\n",
      "           └ Val CE-only Loss (for gold-only comparison): 1.0240\n",
      "Predictions: 299x0s, 1x1s, 187x2s\n",
      "Epoch 7 - Train Loss: 0.1972, Val Loss: 0.7544, Accuracy: 0.5934, Precision: 0.6051, Recall: 0.5934, F1-Score: 0.5672\n",
      "           └ Val CE-only Loss (for gold-only comparison): 1.1177\n",
      "Predictions: 277x0s, 1x1s, 209x2s\n",
      "Epoch 8 - Train Loss: 0.1945, Val Loss: 0.7392, Accuracy: 0.6099, Precision: 0.5983, Recall: 0.6099, F1-Score: 0.5828\n",
      "           └ Val CE-only Loss (for gold-only comparison): 1.0854\n",
      "Predictions: 256x0s, 1x1s, 230x2s\n",
      "Epoch 9 - Train Loss: 0.1914, Val Loss: 0.7538, Accuracy: 0.6407, Precision: 0.6116, Recall: 0.6407, F1-Score: 0.6125\n",
      "           └ Val CE-only Loss (for gold-only comparison): 1.0828\n",
      "Predictions: 270x0s, 1x1s, 216x2s\n",
      "Epoch 10 - Train Loss: 0.1945, Val Loss: 0.7533, Accuracy: 0.6201, Precision: 0.6044, Recall: 0.6201, F1-Score: 0.5938\n",
      "           └ Val CE-only Loss (for gold-only comparison): 1.1099\n",
      "Predictions: 275x0s, 1x1s, 211x2s\n",
      "Epoch 11 - Train Loss: 0.1961, Val Loss: 0.7503, Accuracy: 0.6201, Precision: 0.6088, Recall: 0.6201, F1-Score: 0.5938\n",
      "           └ Val CE-only Loss (for gold-only comparison): 1.1039\n",
      "Predictions: 265x0s, 0x1s, 222x2s\n",
      "Epoch 12 - Train Loss: 0.1921, Val Loss: 0.7759, Accuracy: 0.6242, Precision: 0.6009, Recall: 0.6242, F1-Score: 0.5961\n",
      "           └ Val CE-only Loss (for gold-only comparison): 1.1263\n",
      "Predictions: 273x0s, 0x1s, 214x2s\n",
      "Epoch 13 - Train Loss: 0.1954, Val Loss: 0.7584, Accuracy: 0.6242, Precision: 0.6077, Recall: 0.6242, F1-Score: 0.5963\n",
      "           └ Val CE-only Loss (for gold-only comparison): 1.1039\n",
      "Predictions: 278x0s, 0x1s, 209x2s\n",
      "Epoch 14 - Train Loss: 0.1932, Val Loss: 0.7777, Accuracy: 0.6119, Precision: 0.6019, Recall: 0.6119, F1-Score: 0.5854\n",
      "           └ Val CE-only Loss (for gold-only comparison): 1.1484\n",
      "Predictions: 274x0s, 1x1s, 212x2s\n",
      "Epoch 15 - Train Loss: 0.1933, Val Loss: 0.7531, Accuracy: 0.6283, Precision: 0.6151, Recall: 0.6283, F1-Score: 0.6012\n",
      "           └ Val CE-only Loss (for gold-only comparison): 1.1023\n",
      "Predictions: 249x0s, 1x1s, 237x2s\n",
      "Epoch 16 - Train Loss: 0.1921, Val Loss: 0.7575, Accuracy: 0.6366, Precision: 0.6022, Recall: 0.6366, F1-Score: 0.6080\n",
      "           └ Val CE-only Loss (for gold-only comparison): 1.0713\n",
      "Predictions: 255x0s, 1x1s, 231x2s\n",
      "Epoch 17 - Train Loss: 0.1934, Val Loss: 0.7440, Accuracy: 0.6345, Precision: 0.6043, Recall: 0.6345, F1-Score: 0.6061\n",
      "           └ Val CE-only Loss (for gold-only comparison): 1.0626\n",
      "Predictions: 285x0s, 0x1s, 202x2s\n",
      "Epoch 18 - Train Loss: 0.1972, Val Loss: 0.7570, Accuracy: 0.6057, Precision: 0.6013, Recall: 0.6057, F1-Score: 0.5789\n",
      "           └ Val CE-only Loss (for gold-only comparison): 1.1203\n",
      "Predictions: 273x0s, 0x1s, 214x2s\n",
      "Epoch 19 - Train Loss: 0.1903, Val Loss: 0.7596, Accuracy: 0.6222, Precision: 0.6065, Recall: 0.6222, F1-Score: 0.5947\n",
      "           └ Val CE-only Loss (for gold-only comparison): 1.1032\n",
      "Predictions: 278x0s, 0x1s, 209x2s\n",
      "Epoch 20 - Train Loss: 0.1899, Val Loss: 0.7373, Accuracy: 0.6181, Precision: 0.6070, Recall: 0.6181, F1-Score: 0.5908\n",
      "           └ Val CE-only Loss (for gold-only comparison): 1.0895\n",
      "Predictions: 266x0s, 1x1s, 220x2s\n",
      "Epoch 21 - Train Loss: 0.1879, Val Loss: 0.7511, Accuracy: 0.6304, Precision: 0.6093, Recall: 0.6304, F1-Score: 0.6026\n",
      "           └ Val CE-only Loss (for gold-only comparison): 1.0811\n",
      "Predictions: 272x0s, 0x1s, 215x2s\n",
      "Epoch 22 - Train Loss: 0.1905, Val Loss: 0.7779, Accuracy: 0.6242, Precision: 0.6077, Recall: 0.6242, F1-Score: 0.5967\n",
      "           └ Val CE-only Loss (for gold-only comparison): 1.1293\n",
      "Predictions: 275x0s, 1x1s, 211x2s\n",
      "Epoch 23 - Train Loss: 0.1857, Val Loss: 0.7278, Accuracy: 0.6242, Precision: 0.6127, Recall: 0.6242, F1-Score: 0.5977\n",
      "           └ Val CE-only Loss (for gold-only comparison): 1.0646\n",
      "Predictions: 283x0s, 0x1s, 204x2s\n",
      "Epoch 24 - Train Loss: 0.1894, Val Loss: 0.7605, Accuracy: 0.6140, Precision: 0.6077, Recall: 0.6140, F1-Score: 0.5869\n",
      "           └ Val CE-only Loss (for gold-only comparison): 1.1118\n",
      "Predictions: 285x0s, 0x1s, 202x2s\n",
      "Epoch 25 - Train Loss: 0.1897, Val Loss: 0.7722, Accuracy: 0.6119, Precision: 0.6065, Recall: 0.6119, F1-Score: 0.5843\n",
      "           └ Val CE-only Loss (for gold-only comparison): 1.1270\n",
      "Predictions: 275x0s, 0x1s, 212x2s\n",
      "Epoch 26 - Train Loss: 0.1869, Val Loss: 0.7922, Accuracy: 0.6201, Precision: 0.6067, Recall: 0.6201, F1-Score: 0.5930\n",
      "           └ Val CE-only Loss (for gold-only comparison): 1.1303\n",
      "Predictions: 283x0s, 0x1s, 204x2s\n",
      "Epoch 27 - Train Loss: 0.1909, Val Loss: 0.7615, Accuracy: 0.6099, Precision: 0.6037, Recall: 0.6099, F1-Score: 0.5830\n",
      "           └ Val CE-only Loss (for gold-only comparison): 1.1056\n"
     ]
    },
    {
     "ename": "KeyboardInterrupt",
     "evalue": "",
     "output_type": "error",
     "traceback": [
      "\u001b[31m---------------------------------------------------------------------------\u001b[39m",
      "\u001b[31mKeyboardInterrupt\u001b[39m                         Traceback (most recent call last)",
      "\u001b[36mCell\u001b[39m\u001b[36m \u001b[39m\u001b[32mIn[17]\u001b[39m\u001b[32m, line 22\u001b[39m\n\u001b[32m     19\u001b[39m     optimizer.step()\n\u001b[32m     20\u001b[39m     optimizer.zero_grad()\n\u001b[32m---> \u001b[39m\u001b[32m22\u001b[39m     train_loss += \u001b[43mloss\u001b[49m\u001b[43m.\u001b[49m\u001b[43mitem\u001b[49m\u001b[43m(\u001b[49m\u001b[43m)\u001b[49m\n\u001b[32m     24\u001b[39m avg_train_loss = train_loss / \u001b[38;5;28mlen\u001b[39m(train_loader)\n\u001b[32m     25\u001b[39m train_losses.append(avg_train_loss)  \u001b[38;5;66;03m# For plotting\u001b[39;00m\n",
      "\u001b[31mKeyboardInterrupt\u001b[39m: "
     ]
    }
   ],
   "source": [
    "counter = 0\n",
    "# ✅ Step 6: Distillation training loop\n",
    "for epoch in range(epochs):\n",
    "    student_model.train()\n",
    "    train_loss = 0\n",
    "    for batch in train_loader:\n",
    "        input_ids = batch[\"input_ids\"].to(device)\n",
    "        attention_mask = batch[\"attention_mask\"].to(device)\n",
    "        soft_labels = batch[\"soft_labels_t\"].to(device)\n",
    "        hard_labels = batch[\"gold_index\"].to(device)\n",
    "        \n",
    "        outputs = student_model(input_ids=input_ids, attention_mask=attention_mask)\n",
    "        logits = outputs.logits\n",
    "        log_probs = torch.nn.functional.log_softmax(logits, dim=-1)\n",
    "        alpha = 0.7\n",
    "        loss = alpha * loss_fn_kl(log_probs, soft_labels) + (1 - alpha) * loss_fn_ce(logits, hard_labels)\n",
    "        \n",
    "        loss.backward()\n",
    "        optimizer.step()\n",
    "        optimizer.zero_grad()\n",
    "\n",
    "        train_loss += loss.item()\n",
    "        \n",
    "    avg_train_loss = train_loss / len(train_loader)\n",
    "    train_losses.append(avg_train_loss)  # For plotting\n",
    "     \n",
    "    student_model.eval()\n",
    "    correct = 0\n",
    "    total = 0\n",
    "    val_loss = 0\n",
    "    val_ce_loss_total = 0  # ✅ New: Only For Tracking CrossEntropy Loss\n",
    "    all_predictions = []\n",
    "    all_hard_labels = []\n",
    "\n",
    "    # ✅ Step 6.1: Validation loop\n",
    "    with torch.no_grad():\n",
    "        for batch in val_loader:\n",
    "            input_ids = batch[\"input_ids\"].to(device)\n",
    "            attention_mask = batch[\"attention_mask\"].to(device)\n",
    "            soft_labels = batch[\"soft_labels_t\"].to(device)\n",
    "            hard_labels = batch[\"gold_index\"].to(device)\n",
    "\n",
    "            logits = student_model(input_ids=input_ids, attention_mask=attention_mask).logits\n",
    "            log_probs = torch.nn.functional.log_softmax(logits, dim=-1)\n",
    "            loss = alpha * loss_fn_kl(log_probs, soft_labels) + (1 - alpha) * loss_fn_ce(logits, hard_labels)\n",
    "            val_loss += loss.item()\n",
    "            \n",
    "             # ✅ New: Only calcualte the cross-entropy validation loss for comparison\n",
    "            ce_loss = loss_fn_ce(logits, hard_labels)\n",
    "            val_ce_loss_total += ce_loss.item()\n",
    "            \n",
    "            predictions = torch.argmax(logits, dim=1)\n",
    "            correct += (predictions == hard_labels).sum().item()\n",
    "            total += soft_labels.size(0)\n",
    "            all_predictions.extend(predictions.cpu().numpy())\n",
    "            all_hard_labels.extend(hard_labels.cpu().numpy())\n",
    "            \n",
    "    sum_0=np.sum(np.array(all_predictions)==0)\n",
    "    sum_1=np.sum(np.array(all_predictions)==1)\n",
    "    sum_2=np.sum(np.array(all_predictions)==2)\n",
    "    print(f\"Predictions: {sum_0}x0s, {sum_1}x1s, {sum_2}x2s\")\n",
    "    \n",
    "    \n",
    "    avg_val_loss = val_loss / len(val_loader)\n",
    "    avg_val_ce_loss = val_ce_loss_total / len(val_loader)  # ✅ New: Track Only Average CrossEntropy Loss\n",
    "    val_losses.append(avg_val_loss) # for plotting\n",
    "    val_ce_losses.append(avg_val_ce_loss)  # ✅ New: for plotting\n",
    "    \n",
    "    accuracy = correct / total\n",
    "    val_accuracies.append(accuracy)\n",
    "\n",
    "    # Calculate additional metrics\n",
    "    precision = precision_score(all_hard_labels, all_predictions, average=\"weighted\", zero_division=0)\n",
    "    recall = recall_score(all_hard_labels, all_predictions, average=\"weighted\", zero_division=0)\n",
    "    f1 = f1_score(all_hard_labels, all_predictions, average=\"weighted\", zero_division=0)\n",
    "    \n",
    "    val_precisions.append(precision)\n",
    "    val_recalls.append(recall)\n",
    "    val_f1_scores.append(f1)\n",
    "    \n",
    "    print(f\"Epoch {epoch + 1} - Train Loss: {avg_train_loss:.4f}, Val Loss: {avg_val_loss:.4f}, \"\n",
    "    f\"Accuracy: {accuracy:.4f}, Precision: {precision:.4f}, Recall: {recall:.4f}, F1-Score: {f1:.4f}\")\n",
    "    # ✅ New: Print Only Average CrossEntropy Loss\n",
    "    print(f\"           └ Val CE-only Loss (for gold-only comparison): {avg_val_ce_loss:.4f}\")\n",
    "    \n",
    "    # Early Stopping\n",
    "    if avg_val_loss < best_val_loss:\n",
    "        best_val_loss = avg_val_loss\n",
    "        counter = 0\n",
    "        # Save the best model\n",
    "        if accuracy >= best_accuracy:\n",
    "            best_accuracy = accuracy\n",
    "            # output_dir = \"/home/shared/models/student_distilled\"\n",
    "            # student_model.save_pretrained(output_dir)\n",
    "            # student_tokenizer.save_pretrained(output_dir)\n",
    "            # print(\"Best model saved!\")\n",
    "            print(\"New best val_loss:\", best_val_loss, \"New best accuracy:\", best_accuracy)\n",
    "    else:\n",
    "        counter += 1\n",
    "        if counter >= patience:\n",
    "            print(\"Early stopping triggered\")\n",
    "            break"
   ]
  },
  {
   "cell_type": "markdown",
   "id": "6c712714",
   "metadata": {},
   "source": [
    "## 4.3 Save after Training"
   ]
  },
  {
   "cell_type": "code",
   "execution_count": 37,
   "id": "17a5c16b",
   "metadata": {},
   "outputs": [
    {
     "name": "stdout",
     "output_type": "stream",
     "text": [
      "✅ Training metrics saved.\n"
     ]
    }
   ],
   "source": [
    "# Save training metrics\n",
    "metrics = {\n",
    "    \"train_losses\": train_losses,\n",
    "    \"val_losses\": val_losses,\n",
    "    \"val_ce_losses\": val_ce_losses,  # ✅ New: Save CrossEntropy Losses\n",
    "    \"val_accuracies\": val_accuracies,\n",
    "    \"val_precisions\": val_precisions,\n",
    "    \"val_recalls\": val_recalls,\n",
    "    \"val_f1_scores\": val_f1_scores,\n",
    "    \"best_val_loss\": best_val_loss,\n",
    "    \"best_accuracy\": best_accuracy,\n",
    "}\n",
    "\n",
    "with open(\"/home/shared/models/student_distilled_metrics/distill_metrics.pkl\", \"wb\") as f:\n",
    "    pickle.dump(metrics, f)\n",
    "\n",
    "print(\"✅ Training metrics saved.\")"
   ]
  },
  {
   "cell_type": "code",
   "execution_count": 34,
   "id": "a6999435",
   "metadata": {},
   "outputs": [
    {
     "data": {
      "text/plain": [
       "('/home/shared/models/student_distilled/tokenizer_config.json',\n",
       " '/home/shared/models/student_distilled/special_tokens_map.json',\n",
       " '/home/shared/models/student_distilled/vocab.txt',\n",
       " '/home/shared/models/student_distilled/added_tokens.json')"
      ]
     },
     "execution_count": 34,
     "metadata": {},
     "output_type": "execute_result"
    }
   ],
   "source": [
    "# Save the distilled model\n",
    "output_dir = \"/home/shared/models/student_distilled\"\n",
    "student_model.save_pretrained(output_dir)\n",
    "student_tokenizer.save_pretrained(output_dir)"
   ]
  },
  {
   "cell_type": "code",
   "execution_count": 21,
   "id": "94fe0402",
   "metadata": {},
   "outputs": [
    {
     "data": {
      "text/plain": [
       "tensor(0.4875, device='cuda:0')"
      ]
     },
     "execution_count": 21,
     "metadata": {},
     "output_type": "execute_result"
    }
   ],
   "source": [
    "loss_fn_ce(log_probs, hard_labels)"
   ]
  },
  {
   "cell_type": "code",
   "execution_count": 22,
   "id": "2f497d7e",
   "metadata": {},
   "outputs": [
    {
     "data": {
      "text/plain": [
       "tensor(2.6540, device='cuda:0')"
      ]
     },
     "execution_count": 22,
     "metadata": {},
     "output_type": "execute_result"
    }
   ],
   "source": [
    "loss_fn_kl(log_probs, soft_labels)"
   ]
  },
  {
   "cell_type": "code",
   "execution_count": 23,
   "id": "0bf74057",
   "metadata": {},
   "outputs": [
    {
     "data": {
      "text/plain": [
       "tensor([[-0.0405, -2.1733,  1.5279],\n",
       "        [-1.4430, -1.6155,  3.3812],\n",
       "        [ 0.3815, -1.9838,  1.7691],\n",
       "        [-0.7437, -0.9880,  2.1216]], device='cuda:0')"
      ]
     },
     "execution_count": 23,
     "metadata": {},
     "output_type": "execute_result"
    }
   ],
   "source": [
    "logits"
   ]
  },
  {
   "cell_type": "code",
   "execution_count": 24,
   "id": "7e65aa8c",
   "metadata": {},
   "outputs": [
    {
     "data": {
      "text/plain": [
       "tensor([[-1.7780, -3.9107, -0.2095],\n",
       "        [-4.8389, -5.0114, -0.0147],\n",
       "        [-1.6290, -3.9944, -0.2415],\n",
       "        [-2.9621, -3.2064, -0.0967]], device='cuda:0')"
      ]
     },
     "execution_count": 24,
     "metadata": {},
     "output_type": "execute_result"
    }
   ],
   "source": [
    "log_probs"
   ]
  },
  {
   "cell_type": "code",
   "execution_count": 25,
   "id": "b8c5f9d8",
   "metadata": {},
   "outputs": [
    {
     "ename": "NameError",
     "evalue": "name 'inputs' is not defined",
     "output_type": "error",
     "traceback": [
      "\u001b[31m---------------------------------------------------------------------------\u001b[39m",
      "\u001b[31mNameError\u001b[39m                                 Traceback (most recent call last)",
      "\u001b[36mCell\u001b[39m\u001b[36m \u001b[39m\u001b[32mIn[25]\u001b[39m\u001b[32m, line 3\u001b[39m\n\u001b[32m      1\u001b[39m \u001b[38;5;66;03m# Test the structure of the output of the student model\u001b[39;00m\n\u001b[32m      2\u001b[39m \u001b[38;5;28;01mwith\u001b[39;00m torch.no_grad():\n\u001b[32m----> \u001b[39m\u001b[32m3\u001b[39m     student_logits = student_model(**\u001b[43minputs\u001b[49m)\n\u001b[32m      5\u001b[39m student_logits\n",
      "\u001b[31mNameError\u001b[39m: name 'inputs' is not defined"
     ]
    }
   ],
   "source": [
    "# Test the structure of the output of the student model\n",
    "with torch.no_grad():\n",
    "    student_logits = student_model(**inputs)\n",
    "    \n",
    "student_logits"
   ]
  },
  {
   "cell_type": "code",
   "execution_count": 26,
   "id": "a39b5961",
   "metadata": {},
   "outputs": [
    {
     "name": "stdout",
     "output_type": "stream",
     "text": [
      "Token ID for 'Maybe': 1\n"
     ]
    }
   ],
   "source": [
    "# Get the token ID for \"]\"\n",
    "token_id = student_tokenizer.convert_tokens_to_ids(\"Maybe\")\n",
    "print(f\"Token ID for 'Maybe': {token_id}\")"
   ]
  },
  {
   "cell_type": "code",
   "execution_count": 29,
   "id": "964ea270",
   "metadata": {},
   "outputs": [
    {
     "data": {
      "text/plain": [
       "tensor([2, 2, 2, 2, 0, 2, 2, 0], device='cuda:0')"
      ]
     },
     "execution_count": 29,
     "metadata": {},
     "output_type": "execute_result"
    }
   ],
   "source": [
    "preds"
   ]
  },
  {
   "cell_type": "markdown",
   "id": "7ee93dd3",
   "metadata": {},
   "source": [
    "# 5. Plotting"
   ]
  },
  {
   "cell_type": "code",
   "execution_count": 39,
   "id": "53f10165",
   "metadata": {},
   "outputs": [],
   "source": [
    "import matplotlib.pyplot as plt"
   ]
  },
  {
   "cell_type": "code",
   "execution_count": 40,
   "id": "5a4f91f1",
   "metadata": {},
   "outputs": [],
   "source": [
    "epochs = list(range(1, len(val_losses) + 1))  # Epoch numbers"
   ]
  },
  {
   "cell_type": "code",
   "execution_count": 41,
   "id": "e6550a30",
   "metadata": {},
   "outputs": [
    {
     "data": {
      "image/png": "[encoded data removed]",
      "text/plain": [
       "<Figure size 1000x600 with 1 Axes>"
      ]
     },
     "metadata": {},
     "output_type": "display_data"
    }
   ],
   "source": [
    "# Plot Training and Validation Loss\n",
    "plt.figure(figsize=(10, 6))\n",
    "plt.plot(epochs, train_losses, label=\"Training Loss\", marker=\"o\", linestyle=\"--\", color=\"blue\")\n",
    "plt.plot(epochs, val_losses, label=\"Validation Loss\", marker=\"o\", linestyle=\"-\", color=\"orange\")\n",
    "plt.xlabel(\"Epochs\", fontsize=12)\n",
    "plt.ylabel(\"Loss\", fontsize=12)\n",
    "plt.title(\"Training and Validation Loss\", fontsize=14, fontweight=\"bold\")\n",
    "plt.legend(fontsize=10)\n",
    "plt.grid(alpha=0.3)\n",
    "plt.show()"
   ]
  },
  {
   "cell_type": "code",
   "execution_count": 42,
   "id": "be8aa09d",
   "metadata": {},
   "outputs": [
    {
     "data": {
      "image/png": "[encoded data removed]",
      "text/plain": [
       "<Figure size 1000x600 with 1 Axes>"
      ]
     },
     "metadata": {},
     "output_type": "display_data"
    }
   ],
   "source": [
    "# Plot Validation Accuracy\n",
    "plt.figure(figsize=(10, 6))\n",
    "plt.plot(epochs, val_accuracies, label=\"Validation Accuracy\", marker=\"o\", linestyle=\"-\", color=\"green\")\n",
    "plt.xlabel(\"Epochs\", fontsize=12)\n",
    "plt.ylabel(\"Accuracy\", fontsize=12)\n",
    "plt.title(\"Validation Accuracy\", fontsize=14, fontweight=\"bold\")\n",
    "plt.legend(fontsize=10)\n",
    "plt.grid(alpha=0.3)\n",
    "plt.show()"
   ]
  },
  {
   "cell_type": "code",
   "execution_count": 26,
   "id": "5726273f",
   "metadata": {},
   "outputs": [
    {
     "data": {
      "image/png": "[encoded data removed]",
      "text/plain": [
       "<Figure size 1000x600 with 1 Axes>"
      ]
     },
     "metadata": {},
     "output_type": "display_data"
    }
   ],
   "source": [
    "# Plot Precision, Recall, and F1-Score\n",
    "plt.figure(figsize=(10, 6))\n",
    "plt.plot(epochs, val_precisions, label=\"Precision\", marker=\"o\", linestyle=\"--\", color=\"purple\")\n",
    "plt.plot(epochs, val_recalls, label=\"Recall\", marker=\"o\", linestyle=\"-.\", color=\"red\")\n",
    "plt.plot(epochs, val_f1_scores, label=\"F1-Score\", marker=\"o\", linestyle=\"-\", color=\"brown\")\n",
    "plt.xlabel(\"Epochs\", fontsize=12)\n",
    "plt.ylabel(\"Score\", fontsize=12)\n",
    "plt.title(\"Validation Metrics (Precision, Recall, F1-Score)\", fontsize=14, fontweight=\"bold\")\n",
    "plt.legend(fontsize=10)\n",
    "plt.grid(alpha=0.3)\n",
    "plt.show()"
   ]
  }
 ],
 "metadata": {
  "kernelspec": {
   "display_name": "llm-env",
   "language": "python",
   "name": "python3"
  },
  "language_info": {
   "codemirror_mode": {
    "name": "ipython",
    "version": 3
   },
   "file_extension": ".py",
   "mimetype": "text/x-python",
   "name": "python",
   "nbconvert_exporter": "python",
   "pygments_lexer": "ipython3",
   "version": "3.11.2"
  }
 },
 "nbformat": 4,
 "nbformat_minor": 5
}
