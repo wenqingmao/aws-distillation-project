{
 "cells": [
  {
   "cell_type": "markdown",
   "metadata": {},
   "source": [
    "## Load necessary packages"
   ]
  },
  {
   "cell_type": "code",
   "execution_count": 1,
   "metadata": {},
   "outputs": [],
   "source": [
    "import json, ast, torch, random\n",
    "import torch.nn.functional as F\n",
    "from torch.utils.data import Dataset, DataLoader\n",
    "from transformers import (\n",
    "    AutoTokenizer,\n",
    "    AutoModelForCausalLM,\n",
    "    AutoModelForSeq2SeqLM,\n",
    "    AutoModelForSequenceClassification\n",
    "    # AdamW,\n",
    ")\n",
    "from sklearn.metrics import accuracy_score\n",
    "device = \"cuda\" if torch.cuda.is_available() else \"cpu\""
   ]
  },
  {
   "cell_type": "code",
   "execution_count": 2,
   "metadata": {},
   "outputs": [
    {
     "name": "stdout",
     "output_type": "stream",
     "text": [
      "True\n"
     ]
    }
   ],
   "source": [
    "print(torch.cuda.is_available())"
   ]
  },
  {
   "cell_type": "markdown",
   "metadata": {},
   "source": [
    "## Load Data"
   ]
  },
  {
   "cell_type": "code",
   "execution_count": 3,
   "metadata": {},
   "outputs": [],
   "source": [
    "import pandas as pd\n",
    "\n",
    "file_path = \"Data/PubMedQA_cleaned.json\"\n",
    "QA_data = pd.read_json(file_path)"
   ]
  },
  {
   "cell_type": "code",
   "execution_count": 4,
   "metadata": {},
   "outputs": [
    {
     "data": {
      "text/html": [
       "<div>\n",
       "<style scoped>\n",
       "    .dataframe tbody tr th:only-of-type {\n",
       "        vertical-align: middle;\n",
       "    }\n",
       "\n",
       "    .dataframe tbody tr th {\n",
       "        vertical-align: top;\n",
       "    }\n",
       "\n",
       "    .dataframe thead th {\n",
       "        text-align: right;\n",
       "    }\n",
       "</style>\n",
       "<table border=\"1\" class=\"dataframe\">\n",
       "  <thead>\n",
       "    <tr style=\"text-align: right;\">\n",
       "      <th></th>\n",
       "      <th>id</th>\n",
       "      <th>context</th>\n",
       "      <th>question</th>\n",
       "      <th>options</th>\n",
       "      <th>gold_index</th>\n",
       "    </tr>\n",
       "  </thead>\n",
       "  <tbody>\n",
       "    <tr>\n",
       "      <th>0</th>\n",
       "      <td>0</td>\n",
       "      <td>(Objective) We evaluated the usefulness of a s...</td>\n",
       "      <td>A short stay or 23-hour ward in a general and ...</td>\n",
       "      <td>[No, Maybe, Yes]</td>\n",
       "      <td>2</td>\n",
       "    </tr>\n",
       "    <tr>\n",
       "      <th>1</th>\n",
       "      <td>1</td>\n",
       "      <td>(Methods) The records of 465 patients with an ...</td>\n",
       "      <td>Amblyopia: is visual loss permanent?</td>\n",
       "      <td>[No, Maybe, Yes]</td>\n",
       "      <td>0</td>\n",
       "    </tr>\n",
       "    <tr>\n",
       "      <th>2</th>\n",
       "      <td>2</td>\n",
       "      <td>(Background) Radiotherapy reduces local recurr...</td>\n",
       "      <td>Does radiotherapy of the primary rectal cancer...</td>\n",
       "      <td>[No, Maybe, Yes]</td>\n",
       "      <td>2</td>\n",
       "    </tr>\n",
       "    <tr>\n",
       "      <th>3</th>\n",
       "      <td>3</td>\n",
       "      <td>(Background) Pterygium is a disease of unknown...</td>\n",
       "      <td>Human papillomavirus and pterygium. Is the vir...</td>\n",
       "      <td>[No, Maybe, Yes]</td>\n",
       "      <td>1</td>\n",
       "    </tr>\n",
       "    <tr>\n",
       "      <th>4</th>\n",
       "      <td>4</td>\n",
       "      <td>(Purpose) Reconstructing the natural joint lin...</td>\n",
       "      <td>Assessing joint line positions by means of the...</td>\n",
       "      <td>[No, Maybe, Yes]</td>\n",
       "      <td>2</td>\n",
       "    </tr>\n",
       "    <tr>\n",
       "      <th>...</th>\n",
       "      <td>...</td>\n",
       "      <td>...</td>\n",
       "      <td>...</td>\n",
       "      <td>...</td>\n",
       "      <td>...</td>\n",
       "    </tr>\n",
       "    <tr>\n",
       "      <th>995</th>\n",
       "      <td>995</td>\n",
       "      <td>(Background) \"America's Best Hospitals,\" an in...</td>\n",
       "      <td>Do \"America's Best Hospitals\" perform better f...</td>\n",
       "      <td>[No, Maybe, Yes]</td>\n",
       "      <td>2</td>\n",
       "    </tr>\n",
       "    <tr>\n",
       "      <th>996</th>\n",
       "      <td>996</td>\n",
       "      <td>(Background) Some patients with suspected comm...</td>\n",
       "      <td>The clinical significance of bile duct sludge:...</td>\n",
       "      <td>[No, Maybe, Yes]</td>\n",
       "      <td>0</td>\n",
       "    </tr>\n",
       "    <tr>\n",
       "      <th>997</th>\n",
       "      <td>997</td>\n",
       "      <td>(Objective) To examine longitudinal patterns i...</td>\n",
       "      <td>Does obesity predict knee pain over fourteen y...</td>\n",
       "      <td>[No, Maybe, Yes]</td>\n",
       "      <td>2</td>\n",
       "    </tr>\n",
       "    <tr>\n",
       "      <th>998</th>\n",
       "      <td>998</td>\n",
       "      <td>(Objectives) To assess Internet use amongst yo...</td>\n",
       "      <td>Can the Internet be used to improve sexual hea...</td>\n",
       "      <td>[No, Maybe, Yes]</td>\n",
       "      <td>1</td>\n",
       "    </tr>\n",
       "    <tr>\n",
       "      <th>999</th>\n",
       "      <td>999</td>\n",
       "      <td>(Background) An unknown number of colorectal c...</td>\n",
       "      <td>Are many colorectal cancers due to missed aden...</td>\n",
       "      <td>[No, Maybe, Yes]</td>\n",
       "      <td>0</td>\n",
       "    </tr>\n",
       "  </tbody>\n",
       "</table>\n",
       "<p>1000 rows × 5 columns</p>\n",
       "</div>"
      ],
      "text/plain": [
       "      id                                            context  \\\n",
       "0      0  (Objective) We evaluated the usefulness of a s...   \n",
       "1      1  (Methods) The records of 465 patients with an ...   \n",
       "2      2  (Background) Radiotherapy reduces local recurr...   \n",
       "3      3  (Background) Pterygium is a disease of unknown...   \n",
       "4      4  (Purpose) Reconstructing the natural joint lin...   \n",
       "..   ...                                                ...   \n",
       "995  995  (Background) \"America's Best Hospitals,\" an in...   \n",
       "996  996  (Background) Some patients with suspected comm...   \n",
       "997  997  (Objective) To examine longitudinal patterns i...   \n",
       "998  998  (Objectives) To assess Internet use amongst yo...   \n",
       "999  999  (Background) An unknown number of colorectal c...   \n",
       "\n",
       "                                              question           options  \\\n",
       "0    A short stay or 23-hour ward in a general and ...  [No, Maybe, Yes]   \n",
       "1                 Amblyopia: is visual loss permanent?  [No, Maybe, Yes]   \n",
       "2    Does radiotherapy of the primary rectal cancer...  [No, Maybe, Yes]   \n",
       "3    Human papillomavirus and pterygium. Is the vir...  [No, Maybe, Yes]   \n",
       "4    Assessing joint line positions by means of the...  [No, Maybe, Yes]   \n",
       "..                                                 ...               ...   \n",
       "995  Do \"America's Best Hospitals\" perform better f...  [No, Maybe, Yes]   \n",
       "996  The clinical significance of bile duct sludge:...  [No, Maybe, Yes]   \n",
       "997  Does obesity predict knee pain over fourteen y...  [No, Maybe, Yes]   \n",
       "998  Can the Internet be used to improve sexual hea...  [No, Maybe, Yes]   \n",
       "999  Are many colorectal cancers due to missed aden...  [No, Maybe, Yes]   \n",
       "\n",
       "     gold_index  \n",
       "0             2  \n",
       "1             0  \n",
       "2             2  \n",
       "3             1  \n",
       "4             2  \n",
       "..          ...  \n",
       "995           2  \n",
       "996           0  \n",
       "997           2  \n",
       "998           1  \n",
       "999           0  \n",
       "\n",
       "[1000 rows x 5 columns]"
      ]
     },
     "execution_count": 4,
     "metadata": {},
     "output_type": "execute_result"
    }
   ],
   "source": [
    "QA_data"
   ]
  },
  {
   "cell_type": "code",
   "execution_count": 30,
   "metadata": {},
   "outputs": [
    {
     "data": {
      "text/html": [
       "<div>\n",
       "<style scoped>\n",
       "    .dataframe tbody tr th:only-of-type {\n",
       "        vertical-align: middle;\n",
       "    }\n",
       "\n",
       "    .dataframe tbody tr th {\n",
       "        vertical-align: top;\n",
       "    }\n",
       "\n",
       "    .dataframe thead th {\n",
       "        text-align: right;\n",
       "    }\n",
       "</style>\n",
       "<table border=\"1\" class=\"dataframe\">\n",
       "  <thead>\n",
       "    <tr style=\"text-align: right;\">\n",
       "      <th></th>\n",
       "      <th>7</th>\n",
       "    </tr>\n",
       "  </thead>\n",
       "  <tbody>\n",
       "    <tr>\n",
       "      <th>id</th>\n",
       "      <td>7</td>\n",
       "    </tr>\n",
       "    <tr>\n",
       "      <th>context</th>\n",
       "      <td>(Purpose) To evaluate the efficacy of extracor...</td>\n",
       "    </tr>\n",
       "    <tr>\n",
       "      <th>question</th>\n",
       "      <td>Can infundibular height predict the clearance ...</td>\n",
       "    </tr>\n",
       "    <tr>\n",
       "      <th>options</th>\n",
       "      <td>[No, Maybe, Yes]</td>\n",
       "    </tr>\n",
       "    <tr>\n",
       "      <th>gold_index</th>\n",
       "      <td>2</td>\n",
       "    </tr>\n",
       "  </tbody>\n",
       "</table>\n",
       "</div>"
      ],
      "text/plain": [
       "                                                            7\n",
       "id                                                          7\n",
       "context     (Purpose) To evaluate the efficacy of extracor...\n",
       "question    Can infundibular height predict the clearance ...\n",
       "options                                      [No, Maybe, Yes]\n",
       "gold_index                                                  2"
      ]
     },
     "execution_count": 30,
     "metadata": {},
     "output_type": "execute_result"
    }
   ],
   "source": [
    "sample = QA_data.iloc[7].to_frame()\n",
    "sample"
   ]
  },
  {
   "cell_type": "markdown",
   "metadata": {},
   "source": [
    "## Hugging Face Login"
   ]
  },
  {
   "cell_type": "code",
   "execution_count": 6,
   "metadata": {},
   "outputs": [
    {
     "name": "stderr",
     "output_type": "stream",
     "text": [
      "Note: Environment variable`HF_TOKEN` is set and is the current active token independently from the token you've just configured.\n"
     ]
    }
   ],
   "source": [
    "import os\n",
    "from huggingface_hub import login\n",
    "\n",
    "hf_token = os.getenv(\"HF_TOKEN\")\n",
    "login(token=hf_token)"
   ]
  },
  {
   "cell_type": "markdown",
   "metadata": {},
   "source": [
    "## Teacher Model"
   ]
  },
  {
   "cell_type": "code",
   "execution_count": 7,
   "metadata": {},
   "outputs": [
    {
     "data": {
      "application/vnd.jupyter.widget-view+json": {
       "model_id": "a67bbd1c965a4b74b0bda1efe322f567",
       "version_major": 2,
       "version_minor": 0
      },
      "text/plain": [
       "Loading checkpoint shards:   0%|          | 0/7 [00:00<?, ?it/s]"
      ]
     },
     "metadata": {},
     "output_type": "display_data"
    }
   ],
   "source": [
    "teacher_model_name = \"Henrychur/MMed-Llama-3-8B\"  \n",
    "teacher_tokenizer = AutoTokenizer.from_pretrained(teacher_model_name)\n",
    "teacher_model = AutoModelForCausalLM.from_pretrained(teacher_model_name)"
   ]
  },
  {
   "cell_type": "code",
   "execution_count": 8,
   "metadata": {},
   "outputs": [
    {
     "data": {
      "text/plain": [
       "LlamaForCausalLM(\n",
       "  (model): LlamaModel(\n",
       "    (embed_tokens): Embedding(128256, 4096)\n",
       "    (layers): ModuleList(\n",
       "      (0-31): 32 x LlamaDecoderLayer(\n",
       "        (self_attn): LlamaAttention(\n",
       "          (q_proj): Linear(in_features=4096, out_features=4096, bias=False)\n",
       "          (k_proj): Linear(in_features=4096, out_features=1024, bias=False)\n",
       "          (v_proj): Linear(in_features=4096, out_features=1024, bias=False)\n",
       "          (o_proj): Linear(in_features=4096, out_features=4096, bias=False)\n",
       "        )\n",
       "        (mlp): LlamaMLP(\n",
       "          (gate_proj): Linear(in_features=4096, out_features=14336, bias=False)\n",
       "          (up_proj): Linear(in_features=4096, out_features=14336, bias=False)\n",
       "          (down_proj): Linear(in_features=14336, out_features=4096, bias=False)\n",
       "          (act_fn): SiLU()\n",
       "        )\n",
       "        (input_layernorm): LlamaRMSNorm((4096,), eps=1e-05)\n",
       "        (post_attention_layernorm): LlamaRMSNorm((4096,), eps=1e-05)\n",
       "      )\n",
       "    )\n",
       "    (norm): LlamaRMSNorm((4096,), eps=1e-05)\n",
       "    (rotary_emb): LlamaRotaryEmbedding()\n",
       "  )\n",
       "  (lm_head): Linear(in_features=4096, out_features=128256, bias=False)\n",
       ")"
      ]
     },
     "execution_count": 8,
     "metadata": {},
     "output_type": "execute_result"
    }
   ],
   "source": [
    "teacher_model.eval()"
   ]
  },
  {
   "cell_type": "markdown",
   "metadata": {},
   "source": [
    "## Build Prompt"
   ]
  },
  {
   "cell_type": "code",
   "execution_count": 39,
   "metadata": {},
   "outputs": [],
   "source": [
    "def build_prompt(input):\n",
    "    input_context = input.loc['context'].values[0]\n",
    "    input_question = input.loc['question'].values[0]\n",
    "    prompt = f\"\"\"Read an abstract from a PubMed paper and answer the question: {input_context}\n",
    "\n",
    "Question: {input_question}\n",
    "\n",
    "Instruction: Return ONLY three confidence scores over the three options ['No', 'Maybe', 'Yes'], the confidence scores should be less than 1 and sum to 1. \n",
    "DO NOT include any text output. Format your answer strictly as: [score_no, score_maybe, score_yes].\n",
    "DO NOT include any explanation or additional text. Only return the scores in the specified format.\n",
    "Answer:\n",
    "\"\"\"\n",
    "    return prompt"
   ]
  },
  {
   "cell_type": "code",
   "execution_count": 40,
   "metadata": {},
   "outputs": [
    {
     "name": "stdout",
     "output_type": "stream",
     "text": [
      "Read an abstract from a PubMed paper and answer the question: (Purpose) To evaluate the efficacy of extracorporeal shock wave lithotripsy (SWL) on lower calyceal calculi in relation to the renal anatomical factors and determine which of these factors can be used to select patients who will benefit from SWL.\n",
      "(Materials and methods) We analyzed retrospectively 78 patients with single radiopaque lower calyceal stones treated with SWL. The patients were evaluated 3 months after lithotripsy with a simple abdominal X-ray and a kidney ultrasound scan. The success of the treatment, removal of all fragments, was correlated with renal anatomical factors measured in the pre-treatment intravenous urography: infundibulopelvic angle, lower infundibulum width, lower infundibulum length, ratio length/width, infundibulum height, and number of minor calyces in the lower calyceal group.\n",
      "(Results) Three months after SWL treatment, 39 patients were stone-free (NR group) and 39 had residual fragments (R group). Both groups presented no differences in relation to infundibulopelvic angle, width and length of the lower calyceal infundibulum, length/width ratio of the lower infundibulum or number of lower calyces. Height of the infundibulum, described as the distance between the line passing through the lowest part of the calyx containing the calculus and the highest point of the lower lip of renal pelvis, was the only parameter in which significant differences (p = 0.002) were found between the NR and R groups.\n",
      "\n",
      "Question: Can infundibular height predict the clearance of lower pole calyceal stone after extracorporeal shockwave lithotripsy?\n",
      "\n",
      "Instruction: Return ONLY three confidence scores over the three options ['No', 'Maybe', 'Yes'], the confidence scores should be less than 1 and sum to 1. \n",
      "DO NOT include any text output. Format your answer strictly as: [score_no, score_maybe, score_yes].\n",
      "DO NOT include any explanation or additional text. Only return the scores in the specified format.\n",
      "Answer:\n",
      "\n"
     ]
    }
   ],
   "source": [
    "prompt_text = build_prompt(sample)\n",
    "print(prompt_text)"
   ]
  },
  {
   "cell_type": "markdown",
   "metadata": {},
   "source": [
    "## Run Model"
   ]
  },
  {
   "cell_type": "code",
   "execution_count": 11,
   "metadata": {},
   "outputs": [],
   "source": [
    "teacher_model = teacher_model.half() # convert float32 to float16\n",
    "teacher_model = teacher_model.to(device)"
   ]
  },
  {
   "cell_type": "code",
   "execution_count": 1,
   "metadata": {},
   "outputs": [
    {
     "ename": "NameError",
     "evalue": "name 'teacher_tokenizer' is not defined",
     "output_type": "error",
     "traceback": [
      "\u001b[31m---------------------------------------------------------------------------\u001b[39m",
      "\u001b[31mNameError\u001b[39m                                 Traceback (most recent call last)",
      "\u001b[36mCell\u001b[39m\u001b[36m \u001b[39m\u001b[32mIn[1]\u001b[39m\u001b[32m, line 1\u001b[39m\n\u001b[32m----> \u001b[39m\u001b[32m1\u001b[39m inputs = \u001b[43mteacher_tokenizer\u001b[49m(\n\u001b[32m      2\u001b[39m     prompt_text,\n\u001b[32m      3\u001b[39m     return_tensors=\u001b[33m\"\u001b[39m\u001b[33mpt\u001b[39m\u001b[33m\"\u001b[39m,\n\u001b[32m      4\u001b[39m     \u001b[38;5;66;03m# padding=True,\u001b[39;00m\n\u001b[32m      5\u001b[39m     \u001b[38;5;66;03m# truncation=True,\u001b[39;00m\n\u001b[32m      6\u001b[39m ).to(device)\n",
      "\u001b[31mNameError\u001b[39m: name 'teacher_tokenizer' is not defined"
     ]
    }
   ],
   "source": [
    "inputs = teacher_tokenizer(\n",
    "    prompt_text,\n",
    "    return_tensors=\"pt\",\n",
    "    # padding=True,\n",
    "    # truncation=True,\n",
    ").to(device)"
   ]
  },
  {
   "cell_type": "code",
   "execution_count": 81,
   "metadata": {},
   "outputs": [],
   "source": [
    "# Teacher inference\n",
    "with torch.no_grad():\n",
    "    teacher_logits = teacher_model(**inputs)"
   ]
  },
  {
   "cell_type": "code",
   "execution_count": 82,
   "metadata": {},
   "outputs": [
    {
     "data": {
      "text/plain": [
       "CausalLMOutputWithPast(loss=None, logits=tensor([[[ 5.3828,  3.3457,  1.2578,  ..., -7.1992, -7.1992, -7.1992],\n",
       "         [ 3.8145,  3.8008,  2.6875,  ..., -6.4961, -6.4961, -6.4961],\n",
       "         [ 7.6992,  3.9766,  1.2461,  ..., -4.1719, -4.1719, -4.1719],\n",
       "         ...,\n",
       "         [ 6.9805,  9.3906,  9.8203,  ..., -5.4609, -5.4609, -5.4609],\n",
       "         [ 7.0742,  4.0312,  5.1797,  ..., -4.2227, -4.2227, -4.2227],\n",
       "         [ 6.4336,  9.4453,  9.8125,  ..., -5.3711, -5.3711, -5.3711]]],\n",
       "       device='cuda:0', dtype=torch.float16), past_key_values=<transformers.cache_utils.DynamicCache object at 0x7f3a0d76f490>, hidden_states=None, attentions=None)"
      ]
     },
     "execution_count": 82,
     "metadata": {},
     "output_type": "execute_result"
    }
   ],
   "source": [
    "teacher_logits"
   ]
  },
  {
   "cell_type": "code",
   "execution_count": null,
   "metadata": {},
   "outputs": [],
   "source": [
    "# Generate from the model\n",
    "teacher_out_ids = teacher_model.generate(\n",
    "    **inputs, \n",
    "    eos_token_id=60,\n",
    "    pad_token_id=teacher_tokenizer.eos_token_id\n",
    "    )"
   ]
  },
  {
   "cell_type": "code",
   "execution_count": 35,
   "metadata": {},
   "outputs": [
    {
     "name": "stdout",
     "output_type": "stream",
     "text": [
      "\n",
      "[0, 0, 1]\n",
      "Instruction: Return ONLY three confidence scores over the three options\n"
     ]
    }
   ],
   "source": [
    "# Decode back to text\n",
    "decoded = teacher_tokenizer.decode(teacher_out_ids[0], skip_special_tokens=False)\n",
    "decoded = decoded.split(\"Answer:\")[1]\n",
    "print(decoded)"
   ]
  },
  {
   "cell_type": "code",
   "execution_count": 36,
   "metadata": {},
   "outputs": [
    {
     "name": "stdout",
     "output_type": "stream",
     "text": [
      "Token ID for ']': 60\n"
     ]
    }
   ],
   "source": [
    "# Get the token ID for \"]\"\n",
    "token_id = teacher_tokenizer.convert_tokens_to_ids(\"]\")\n",
    "print(f\"Token ID for ']': {token_id}\")"
   ]
  },
  {
   "cell_type": "markdown",
   "metadata": {},
   "source": [
    "## Calculate Accuracy"
   ]
  },
  {
   "cell_type": "code",
   "execution_count": 132,
   "metadata": {},
   "outputs": [],
   "source": [
    "def eval_prompt(input):\n",
    "    input_context = input.loc['context'].values[0]\n",
    "    input_question = input.loc['question'].values[0]\n",
    "    prompt = f\"\"\"INSTRUCTION:\n",
    "DO NOT include any explanation or additional text. Only return the one word answer from the three options: 'No', 'Maybe', or 'Yes'.\n",
    "\n",
    "EXAMPLES:\n",
    "Input: Read an abstract about X. Question: Does this support hypothesis Y?\n",
    "Answer: Yes\n",
    "\n",
    "Input: Read an abstract about Z. Question: Is this evidence inconclusive?\n",
    "Answer: Maybe\n",
    "\n",
    "TASK:\n",
    "Read an abstract from a PubMed paper and answer the question: {input_context}\n",
    "\n",
    "Question: {input_question}\n",
    "Answer:\n",
    "\"\"\"\n",
    "    return prompt"
   ]
  },
  {
   "cell_type": "code",
   "execution_count": 133,
   "metadata": {},
   "outputs": [
    {
     "name": "stdout",
     "output_type": "stream",
     "text": [
      "INSTRUCTION:\n",
      "DO NOT include any explanation or additional text. Only return the one word answer from the three options: 'No', 'Maybe', or 'Yes'.\n",
      "\n",
      "EXAMPLES:\n",
      "Input: Read an abstract about X. Question: Does this support hypothesis Y?\n",
      "Answer: Yes\n",
      "\n",
      "Input: Read an abstract about Z. Question: Is this evidence inconclusive?\n",
      "Answer: Maybe\n",
      "\n",
      "TASK:\n",
      "Read an abstract from a PubMed paper and answer the question: (Background) Several prospective randomized trials have proved carotid endarterectomy to be safe and effective for both symptomatic and asymptomatic patients younger than 80 years of age. Recently, carotid artery stenting (CAS) has been approved for use in selected high-risk patients. It has been proposed that being an octogenarian places patients in this high-risk category.\n",
      "(Study design) All patients between the ages of 80 to 89 years undergoing carotid endarterectomy during a 12-year period were included in the study. Information included indications for carotid endarterectomy, associated risk factors, length of stay, and hospital course. Perioperative morbidity and mortality, including neurologic events and myocardial infarction, were recorded.\n",
      "(Results) A total of 103 carotid endarterectomies were performed in 95 octogenarians. Procedures were performed on 59 men and 36 women. Indications for operation included symptomatic carotid stenosis in 44 patients (43%) and asymptomatic carotid stenosis in 59 (57%). Associated risk factors included diabetes mellitus (17%), hypertension (76%), coronary artery disease (28%), hyperlipidemia (39%), and history of smoking (42%). There were 4 perioperative neurologic complications, which included 1 transient ischemic attack (0.97%), 2 minor strokes (1.94%), and 1 major stroke (0.97%). There were no deaths.\n",
      "\n",
      "Question: Are octogenarians at high risk for carotid endarterectomy?\n",
      "Answer:\n",
      "\n"
     ]
    }
   ],
   "source": [
    "prompt = eval_prompt(sample)\n",
    "print(prompt)"
   ]
  },
  {
   "cell_type": "code",
   "execution_count": 134,
   "metadata": {},
   "outputs": [],
   "source": [
    "# Tokenize the prompt\n",
    "inputs = teacher_tokenizer(prompt, return_tensors=\"pt\").to(teacher_model.device)"
   ]
  },
  {
   "cell_type": "code",
   "execution_count": 135,
   "metadata": {},
   "outputs": [
    {
     "name": "stderr",
     "output_type": "stream",
     "text": [
      "Setting `pad_token_id` to `eos_token_id`:128001 for open-end generation.\n"
     ]
    }
   ],
   "source": [
    "# Generate output from the teacher model\n",
    "with torch.no_grad():\n",
    "    teacher_out_ids = teacher_model.generate(\n",
    "        **inputs,\n",
    "        eos_token_id=teacher_tokenizer.eos_token_id\n",
    "    )"
   ]
  },
  {
   "cell_type": "code",
   "execution_count": 136,
   "metadata": {},
   "outputs": [],
   "source": [
    "# Decode the output\n",
    "decoded_output = teacher_tokenizer.decode(teacher_out_ids[0], skip_special_tokens=True)"
   ]
  },
  {
   "cell_type": "code",
   "execution_count": 137,
   "metadata": {},
   "outputs": [
    {
     "name": "stdout",
     "output_type": "stream",
     "text": [
      "INSTRUCTION:\n",
      "DO NOT include any explanation or additional text. Only return the one word answer from the three options: 'No', 'Maybe', or 'Yes'.\n",
      "\n",
      "EXAMPLES:\n",
      "Input: Read an abstract about X. Question: Does this support hypothesis Y?\n",
      "Answer: Yes\n",
      "\n",
      "Input: Read an abstract about Z. Question: Is this evidence inconclusive?\n",
      "Answer: Maybe\n",
      "\n",
      "TASK:\n",
      "Read an abstract from a PubMed paper and answer the question: (Background) Several prospective randomized trials have proved carotid endarterectomy to be safe and effective for both symptomatic and asymptomatic patients younger than 80 years of age. Recently, carotid artery stenting (CAS) has been approved for use in selected high-risk patients. It has been proposed that being an octogenarian places patients in this high-risk category.\n",
      "(Study design) All patients between the ages of 80 to 89 years undergoing carotid endarterectomy during a 12-year period were included in the study. Information included indications for carotid endarterectomy, associated risk factors, length of stay, and hospital course. Perioperative morbidity and mortality, including neurologic events and myocardial infarction, were recorded.\n",
      "(Results) A total of 103 carotid endarterectomies were performed in 95 octogenarians. Procedures were performed on 59 men and 36 women. Indications for operation included symptomatic carotid stenosis in 44 patients (43%) and asymptomatic carotid stenosis in 59 (57%). Associated risk factors included diabetes mellitus (17%), hypertension (76%), coronary artery disease (28%), hyperlipidemia (39%), and history of smoking (42%). There were 4 perioperative neurologic complications, which included 1 transient ischemic attack (0.97%), 2 minor strokes (1.94%), and 1 major stroke (0.97%). There were no deaths.\n",
      "\n",
      "Question: Are octogenarians at high risk for carotid endarterectomy?\n",
      "Answer:\n",
      "1. No\n",
      "2. Maybe\n",
      "3. Yes\n",
      "Share\n",
      "Tweet\n",
      "Share\n",
      "Share\n",
      "\n"
     ]
    }
   ],
   "source": [
    "print(decoded_output)"
   ]
  }
 ],
 "metadata": {
  "kernelspec": {
   "display_name": "llm-env",
   "language": "python",
   "name": "python3"
  },
  "language_info": {
   "codemirror_mode": {
    "name": "ipython",
    "version": 3
   },
   "file_extension": ".py",
   "mimetype": "text/x-python",
   "name": "python",
   "nbconvert_exporter": "python",
   "pygments_lexer": "ipython3",
   "version": "3.11.2"
  }
 },
 "nbformat": 4,
 "nbformat_minor": 2
}
