{
 "cells": [
  {
   "cell_type": "code",
   "execution_count": null,
   "metadata": {},
   "outputs": [],
   "source": [
    "from peft import LoraConfig, get_peft_model\n",
    "from torch.utils.data import DataLoader"
   ]
  },
  {
   "cell_type": "code",
   "execution_count": null,
   "metadata": {},
   "outputs": [],
   "source": [
    "# Load model and tokenizer\n",
    "model_name = \"Henrychur/MMed-Llama-3-8B\" \n",
    "tokenizer = AutoTokenizer.from_pretrained(model_name)\n",
    "model = AutoModelForCausalLM.from_pretrained(model_name)"
   ]
  },
  {
   "cell_type": "code",
   "execution_count": null,
   "metadata": {},
   "outputs": [],
   "source": [
    "model = model.half()"
   ]
  },
  {
   "cell_type": "code",
   "execution_count": null,
   "metadata": {},
   "outputs": [],
   "source": [
    "# Apply LoRA\n",
    "lora_config = LoraConfig(\n",
    "    r=8,\n",
    "    lora_alpha=32,\n",
    "    target_modules=[\"q_proj\", \"v_proj\"],\n",
    "    lora_dropout=0.1,\n",
    "    bias=\"none\",\n",
    "    task_type=\"CAUSAL_LM\"\n",
    ")\n",
    "model = get_peft_model(model, lora_config)"
   ]
  },
  {
   "cell_type": "code",
   "execution_count": null,
   "metadata": {},
   "outputs": [],
   "source": [
    "import pandas as pd\n",
    "\n",
    "file_path = \"Data/PubMedQA_cleaned.json\"\n",
    "QA_data = pd.read_json(file_path)"
   ]
  },
  {
   "cell_type": "code",
   "execution_count": null,
   "metadata": {},
   "outputs": [],
   "source": [
    "# Preprocess the dataset\n",
    "def preprocess_data(row):\n",
    "    # Build the input prompt\n",
    "    input_prompt = f\"\"\"Read an abstract from a PubMed paper and answer the question: {row['context']}\n",
    "\n",
    "Question: {row['question']}\n",
    "Answer:\"\"\"\n",
    "    # The output is the gold answer (e.g., \"No\", \"Maybe\", or \"Yes\")\n",
    "    output = row['options'][row['gold_index']]\n",
    "    return input_prompt, output\n",
    "\n",
    "# Apply preprocessing\n",
    "processed_data = QA_data.apply(preprocess_data, axis=1)\n",
    "inputs, outputs = zip(*processed_data)\n",
    "\n",
    "# Assign eos_token as pad_token\n",
    "tokenizer.pad_token = tokenizer.eos_token\n",
    "# Tokenize the inputs and outputs\n",
    "input_encodings = tokenizer(list(inputs), padding=True, truncation=True, return_tensors=\"pt\")\n",
    "output_encodings = tokenizer(list(outputs), padding=True, truncation=True, return_tensors=\"pt\")"
   ]
  },
  {
   "cell_type": "code",
   "execution_count": null,
   "metadata": {},
   "outputs": [],
   "source": [
    "# Apply LoRA to the model\n",
    "model = get_peft_model(model, lora_config)"
   ]
  },
  {
   "cell_type": "code",
   "execution_count": null,
   "metadata": {},
   "outputs": [],
   "source": [
    "# Create a custom dataset\n",
    "class QADataset(Dataset):\n",
    "    def __init__(self, input_encodings, output_encodings):\n",
    "        self.input_ids = input_encodings[\"input_ids\"]\n",
    "        self.attention_mask = input_encodings[\"attention_mask\"]\n",
    "        self.labels = output_encodings[\"input_ids\"]\n",
    "\n",
    "    def __len__(self):\n",
    "        return len(self.input_ids)\n",
    "\n",
    "    def __getitem__(self, idx):\n",
    "        return {\n",
    "            \"input_ids\": self.input_ids[idx],\n",
    "            \"attention_mask\": self.attention_mask[idx],\n",
    "            \"labels\": self.labels[idx],\n",
    "        }\n",
    "\n",
    "# Initialize the dataset and DataLoader\n",
    "dataset = QADataset(input_encodings, output_encodings)\n",
    "dataloader = DataLoader(dataset, batch_size=4, shuffle=True)"
   ]
  },
  {
   "cell_type": "code",
   "execution_count": null,
   "metadata": {},
   "outputs": [],
   "source": [
    "# Clear CUDA cache\n",
    "torch.cuda.empty_cache()"
   ]
  },
  {
   "cell_type": "code",
   "execution_count": null,
   "metadata": {},
   "outputs": [],
   "source": [
    "from torch.cuda.amp import autocast\n",
    "from torch.amp import GradScaler\n",
    "from torch.optim import AdamW\n",
    "from tqdm import tqdm\n",
    "\n",
    "# Set up optimizer\n",
    "optimizer = AdamW(model.parameters(), lr=5e-4)\n",
    "\n",
    "# Initialize GradScaler for mixed precision\n",
    "scaler = GradScaler()"
   ]
  },
  {
   "cell_type": "code",
   "execution_count": null,
   "metadata": {},
   "outputs": [],
   "source": [
    "# Move model to GPU\n",
    "device = torch.device(\"cuda\" if torch.cuda.is_available() else \"cpu\")\n",
    "model.to(device)"
   ]
  },
  {
   "cell_type": "code",
   "execution_count": null,
   "metadata": {},
   "outputs": [],
   "source": [
    "# Training loop\n",
    "num_epochs = 3  \n",
    "model.train()\n",
    "\n",
    "for epoch in range(1, num_epochs + 1):  # Start epoch count from 1 for better readability\n",
    "    print(f\"Epoch {epoch}/{num_epochs}\")\n",
    "    loop = tqdm(dataloader, leave=True, desc=f\"Training Epoch {epoch}\")\n",
    "    \n",
    "    for step, batch in enumerate(loop, start=1):  # Add step count for better tracking\n",
    "        # Move batch to GPU\n",
    "        input_ids = batch[\"input_ids\"].to(device)\n",
    "        attention_mask = batch[\"attention_mask\"].to(device)\n",
    "        labels = batch[\"labels\"].to(device)\n",
    "\n",
    "        # Forward pass with mixed precision\n",
    "        with autocast():  # Enable mixed precision\n",
    "            outputs = model(input_ids=input_ids, attention_mask=attention_mask, labels=labels)\n",
    "            loss = outputs.loss\n",
    "\n",
    "        # Backward pass with scaled loss\n",
    "        scaler.scale(loss).backward()\n",
    "        scaler.step(optimizer)\n",
    "        scaler.update()\n",
    "        optimizer.zero_grad()\n",
    "\n",
    "        # Update progress bar with loss\n",
    "        loop.set_postfix({\n",
    "            \"Step\": step,\n",
    "            \"Loss\": loss.item()\n",
    "        })\n",
    "\n",
    "    # Print epoch summary\n",
    "    print(f\"Epoch {epoch} completed. Final Loss: {loss.item():.4f}\")"
   ]
  }
 ],
 "metadata": {
  "language_info": {
   "name": "python"
  }
 },
 "nbformat": 4,
 "nbformat_minor": 2
}
