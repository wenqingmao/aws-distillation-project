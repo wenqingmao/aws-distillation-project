{
 "cells": [
  {
   "cell_type": "markdown",
   "metadata": {},
   "source": [
    "### Load in Packages"
   ]
  },
  {
   "cell_type": "code",
   "execution_count": 1,
   "metadata": {},
   "outputs": [],
   "source": [
    "import os\n",
    "os.environ[\"HF_HOME\"] = \"/home/shared/.cache/huggingface\"\n",
    "os.environ[\"HUGGINGFACE_HUB_CACHE\"] = \"/home/shared/.cache/huggingface/hub\""
   ]
  },
  {
   "cell_type": "code",
   "execution_count": 2,
   "metadata": {},
   "outputs": [],
   "source": [
    "from peft import LoraConfig, get_peft_model\n",
    "import torch\n",
    "from torch import nn\n",
    "from torch.utils.data import DataLoader, Dataset\n",
    "from transformers import AutoTokenizer, AutoModelForCausalLM\n",
    "from torch.optim import AdamW\n",
    "from sklearn.model_selection import train_test_split\n",
    "from tqdm import tqdm\n",
    "import json\n",
    "import json as pd\n",
    "import numpy as np"
   ]
  },
  {
   "cell_type": "markdown",
   "metadata": {},
   "source": [
    "### Check GPU Availability"
   ]
  },
  {
   "cell_type": "code",
   "execution_count": 3,
   "metadata": {},
   "outputs": [
    {
     "name": "stdout",
     "output_type": "stream",
     "text": [
      "True\n"
     ]
    }
   ],
   "source": [
    "device = \"cuda\" if torch.cuda.is_available() else \"cpu\"\n",
    "print(torch.cuda.is_available())"
   ]
  },
  {
   "cell_type": "markdown",
   "metadata": {},
   "source": [
    "### Load Data"
   ]
  },
  {
   "cell_type": "code",
   "execution_count": 4,
   "metadata": {},
   "outputs": [],
   "source": [
    "import pandas as pd\n",
    "\n",
    "file_path = \"Data/PubMedQA_cleaned.json\"\n",
    "QA_data = pd.read_json(file_path)\n",
    "data = QA_data"
   ]
  },
  {
   "cell_type": "code",
   "execution_count": 5,
   "metadata": {},
   "outputs": [
    {
     "name": "stdout",
     "output_type": "stream",
     "text": [
      "Class counts: [338 110 552]\n",
      "Class weights: tensor([2.9586, 9.0909, 1.8116], device='cuda:0')\n"
     ]
    }
   ],
   "source": [
    "# Calculate class weights based on the training data\n",
    "class_counts = data['gold_index'].value_counts().sort_index().values \n",
    "total_samples = len(data)\n",
    "class_weights = torch.tensor([total_samples / count for count in class_counts], dtype=torch.float).to(device)\n",
    "\n",
    "print(f\"Class counts: {class_counts}\")\n",
    "print(f\"Class weights: {class_weights}\")"
   ]
  },
  {
   "cell_type": "markdown",
   "metadata": {},
   "source": [
    "### Hugging Face Login"
   ]
  },
  {
   "cell_type": "code",
   "execution_count": 6,
   "metadata": {},
   "outputs": [],
   "source": [
    "import os\n",
    "from huggingface_hub import login\n",
    "from dotenv import load_dotenv\n",
    "\n",
    "load_dotenv()\n",
    "hf_token = os.getenv(\"hf_token\")\n",
    "login(token=hf_token)"
   ]
  },
  {
   "cell_type": "markdown",
   "metadata": {},
   "source": [
    "### Set LoRA Config & Load in Teacher Model"
   ]
  },
  {
   "cell_type": "code",
   "execution_count": 7,
   "metadata": {},
   "outputs": [
    {
     "data": {
      "application/vnd.jupyter.widget-view+json": {
       "model_id": "f770b06c1eac430a8f4a822736b8bb9f",
       "version_major": 2,
       "version_minor": 0
      },
      "text/plain": [
       "Loading checkpoint shards:   0%|          | 0/7 [00:00<?, ?it/s]"
      ]
     },
     "metadata": {},
     "output_type": "display_data"
    }
   ],
   "source": [
    "lora_config = LoraConfig(\n",
    "    r=8,\n",
    "    lora_alpha=16,\n",
    "    target_modules=[\"q_proj\", \"v_proj\"],  # works well with LLaMA structure\n",
    "    lora_dropout=0.1,\n",
    "    bias=\"none\",\n",
    "    task_type=\"CAUSAL_LM\"\n",
    ")\n",
    "\n",
    "teacher_model_name = \"Henrychur/MMed-Llama-3-8B\" \n",
    "# teacher_model_name = \"microsoft/biogpt\" \n",
    "# teacher_model_name = \"microsoft/BioGPT-Large-PubMedQA\"\n",
    "# teacher_model_name = \"stanford-crfm/BioMedLM\"\n",
    "\n",
    "teacher_tokenizer = AutoTokenizer.from_pretrained(teacher_model_name)\n",
    "teacher_model = AutoModelForCausalLM.from_pretrained(\n",
    "    teacher_model_name, \n",
    "    torch_dtype=torch.float16, \n",
    "    device_map=\"auto\"\n",
    ")\n",
    "lora_model = get_peft_model(teacher_model, lora_config)\n",
    "lora_model.enable_input_require_grads()\n",
    "lora_model.gradient_checkpointing_enable()\n"
   ]
  },
  {
   "cell_type": "code",
   "execution_count": 8,
   "metadata": {},
   "outputs": [],
   "source": [
    "# Assign eos_token as pad_token\n",
    "teacher_tokenizer.pad_token = teacher_tokenizer.eos_token"
   ]
  },
  {
   "cell_type": "code",
   "execution_count": 9,
   "metadata": {},
   "outputs": [],
   "source": [
    "class LoraClassificationModel(nn.Module):\n",
    "    def __init__(self, lora_model, hidden_size, num_classes=3, class_weights=None):\n",
    "        super(LoraClassificationModel, self).__init__()\n",
    "        self.lora_model = lora_model\n",
    "        self.class_weights = class_weights\n",
    "\n",
    "        # Multi-layer perceptron (MLP) classification head\n",
    "        self.classification_head = nn.Sequential(\n",
    "            nn.Linear(hidden_size, 768),\n",
    "            nn.GELU(),\n",
    "            nn.Dropout(0.2),\n",
    "            nn.Linear(768, 256),\n",
    "            nn.GELU(),\n",
    "            nn.Dropout(0.1),\n",
    "            nn.Linear(256, num_classes)\n",
    "        )\n",
    "\n",
    "    def forward(self, input_ids, attention_mask, labels=None):\n",
    "        # Use the LoRA model to get the hidden states\n",
    "        outputs = self.lora_model(\n",
    "            input_ids=input_ids,\n",
    "            attention_mask=attention_mask,\n",
    "            output_hidden_states=True\n",
    "        )\n",
    "\n",
    "        # Get the last hidden state of the last layer\n",
    "        cls_hidden_state = outputs.hidden_states[-1][:, -1, :]\n",
    "\n",
    "        logits = self.classification_head(cls_hidden_state)\n",
    "\n",
    "        loss = None\n",
    "        if labels is not None:\n",
    "            loss_fn = nn.CrossEntropyLoss(weight=self.class_weights)\n",
    "            loss = loss_fn(logits.float(), labels)\n",
    "\n",
    "        return logits, loss\n"
   ]
  },
  {
   "cell_type": "code",
   "execution_count": 10,
   "metadata": {},
   "outputs": [],
   "source": [
    "# Wrapping the model with LoRA\n",
    "num_classes = 3\n",
    "model = LoraClassificationModel(\n",
    "    lora_model=lora_model, \n",
    "    hidden_size=teacher_model.config.hidden_size,\n",
    "    num_classes=num_classes\n",
    ").to(device)"
   ]
  },
  {
   "cell_type": "markdown",
   "metadata": {},
   "source": [
    "### Tokenize the data"
   ]
  },
  {
   "cell_type": "code",
   "execution_count": 11,
   "metadata": {},
   "outputs": [],
   "source": [
    "# Prepare the dataset\n",
    "class QADataset(Dataset):\n",
    "    def __init__(self, tokenizer, data, max_length=512):\n",
    "        self.tokenizer = tokenizer\n",
    "        self.data = data\n",
    "        self.max_length = max_length\n",
    "\n",
    "    def __len__(self):\n",
    "        return len(self.data)\n",
    "\n",
    "    def __getitem__(self, idx):\n",
    "        row = self.data.iloc[idx]\n",
    "        input_text = f\"Context: {row['context']} Question: {row['question']}\"\n",
    "        label = row['gold_index']  # The correct class index (0, 1, or 2)\n",
    "\n",
    "        # Tokenize the input text\n",
    "        inputs = self.tokenizer(\n",
    "            input_text,\n",
    "            max_length=self.max_length,\n",
    "            padding=\"max_length\",\n",
    "            truncation=True,\n",
    "            return_tensors=\"pt\"\n",
    "        )\n",
    "\n",
    "        return {\n",
    "            \"input_ids\": inputs[\"input_ids\"].squeeze(0),\n",
    "            \"attention_mask\": inputs[\"attention_mask\"].squeeze(0),\n",
    "            \"label\": torch.tensor(label, dtype=torch.long)\n",
    "        }\n"
   ]
  },
  {
   "cell_type": "markdown",
   "metadata": {},
   "source": [
    "### Split into Train/Test"
   ]
  },
  {
   "cell_type": "code",
   "execution_count": 12,
   "metadata": {},
   "outputs": [],
   "source": [
    "# Split the dataset into training and validation sets\n",
    "train_data, val_data = train_test_split(data, test_size=0.5, random_state=401)"
   ]
  },
  {
   "cell_type": "code",
   "execution_count": 13,
   "metadata": {},
   "outputs": [],
   "source": [
    "# Create DataLoaders\n",
    "train_dataset = QADataset(teacher_tokenizer, train_data)\n",
    "val_dataset = QADataset(teacher_tokenizer, val_data)\n",
    "\n",
    "train_dataloader = DataLoader(train_dataset, batch_size=8, shuffle=True)\n",
    "val_dataloader = DataLoader(val_dataset, batch_size=8, shuffle=False)"
   ]
  },
  {
   "cell_type": "markdown",
   "metadata": {},
   "source": [
    "### Fine-tune"
   ]
  },
  {
   "cell_type": "code",
   "execution_count": 14,
   "metadata": {},
   "outputs": [],
   "source": [
    "from torch.cuda.amp import GradScaler, autocast\n",
    "from torch.nn.utils import clip_grad_norm_\n",
    "from sklearn.metrics import precision_score, recall_score, f1_score"
   ]
  },
  {
   "cell_type": "code",
   "execution_count": 18,
   "metadata": {},
   "outputs": [],
   "source": [
    "# Fine-tune the model\n",
    "optimizer = AdamW(model.parameters(), lr=1e-5)\n",
    "num_epochs = 10\n",
    "\n",
    "num_epochs = 50\n",
    "epoch=0\n",
    "train_losses = []\n",
    "val_losses = []\n",
    "val_accuracies = []\n",
    "val_precisions = []\n",
    "val_recalls = []\n",
    "val_f1_scores = []"
   ]
  },
  {
   "cell_type": "code",
   "execution_count": 19,
   "metadata": {},
   "outputs": [
    {
     "name": "stdout",
     "output_type": "stream",
     "text": [
      "Predictions: 108x0s, 9x1s, 383x2s\n",
      "Epoch 1 - Train Loss: 0.0002, Val Loss: 2.8475, Accuracy: 0.5500, Precision: 0.5143, Recall: 0.5500, F1-Score: 0.4990\n",
      "Predictions: 117x0s, 13x1s, 370x2s\n",
      "Epoch 2 - Train Loss: 0.0001, Val Loss: 2.8357, Accuracy: 0.5480, Precision: 0.5056, Recall: 0.5480, F1-Score: 0.5037\n",
      "Predictions: 122x0s, 19x1s, 359x2s\n",
      "Epoch 3 - Train Loss: 0.0000, Val Loss: 2.8310, Accuracy: 0.5400, Precision: 0.5043, Recall: 0.5400, F1-Score: 0.5035\n",
      "Predictions: 130x0s, 15x1s, 355x2s\n",
      "Epoch 4 - Train Loss: 0.0000, Val Loss: 2.9707, Accuracy: 0.5300, Precision: 0.4864, Recall: 0.5300, F1-Score: 0.4919\n",
      "Predictions: 126x0s, 15x1s, 359x2s\n",
      "Epoch 5 - Train Loss: 0.0000, Val Loss: 3.0468, Accuracy: 0.5340, Precision: 0.4898, Recall: 0.5340, F1-Score: 0.4943\n",
      "Predictions: 116x0s, 13x1s, 371x2s\n",
      "Epoch 6 - Train Loss: 0.0000, Val Loss: 3.1894, Accuracy: 0.5500, Precision: 0.5061, Recall: 0.5500, F1-Score: 0.5045\n",
      "Predictions: 128x0s, 15x1s, 357x2s\n",
      "Epoch 7 - Train Loss: 0.0000, Val Loss: 3.1821, Accuracy: 0.5340, Precision: 0.4902, Recall: 0.5340, F1-Score: 0.4951\n",
      "Predictions: 116x0s, 12x1s, 372x2s\n",
      "Epoch 8 - Train Loss: 0.0000, Val Loss: 3.3855, Accuracy: 0.5480, Precision: 0.5062, Recall: 0.5480, F1-Score: 0.5025\n",
      "Predictions: 120x0s, 22x1s, 358x2s\n",
      "Epoch 9 - Train Loss: 0.0000, Val Loss: 3.2560, Accuracy: 0.5380, Precision: 0.5007, Recall: 0.5380, F1-Score: 0.5021\n",
      "Predictions: 110x0s, 19x1s, 371x2s\n",
      "Epoch 10 - Train Loss: 0.0000, Val Loss: 3.4458, Accuracy: 0.5480, Precision: 0.5067, Recall: 0.5480, F1-Score: 0.5048\n",
      "Predictions: 112x0s, 14x1s, 374x2s\n",
      "Epoch 11 - Train Loss: 0.0000, Val Loss: 3.5272, Accuracy: 0.5500, Precision: 0.5061, Recall: 0.5500, F1-Score: 0.5039\n",
      "Predictions: 111x0s, 13x1s, 376x2s\n",
      "Epoch 12 - Train Loss: 0.0000, Val Loss: 3.5953, Accuracy: 0.5500, Precision: 0.5063, Recall: 0.5500, F1-Score: 0.5026\n",
      "Predictions: 118x0s, 13x1s, 369x2s\n",
      "Epoch 13 - Train Loss: 0.0000, Val Loss: 3.5310, Accuracy: 0.5500, Precision: 0.5144, Recall: 0.5500, F1-Score: 0.5071\n"
     ]
    },
    {
     "ename": "KeyboardInterrupt",
     "evalue": "",
     "output_type": "error",
     "traceback": [
      "\u001b[31m---------------------------------------------------------------------------\u001b[39m",
      "\u001b[31mKeyboardInterrupt\u001b[39m                         Traceback (most recent call last)",
      "\u001b[36mCell\u001b[39m\u001b[36m \u001b[39m\u001b[32mIn[19]\u001b[39m\u001b[32m, line 25\u001b[39m\n\u001b[32m     22\u001b[39m     logits, loss = model(input_ids=input_ids, attention_mask=attention_mask, labels=labels)\n\u001b[32m     23\u001b[39m     loss_value = loss.item()\n\u001b[32m---> \u001b[39m\u001b[32m25\u001b[39m \u001b[43mscaler\u001b[49m\u001b[43m.\u001b[49m\u001b[43mscale\u001b[49m\u001b[43m(\u001b[49m\u001b[43mloss\u001b[49m\u001b[43m)\u001b[49m\u001b[43m.\u001b[49m\u001b[43mbackward\u001b[49m\u001b[43m(\u001b[49m\u001b[43m)\u001b[49m\n\u001b[32m     26\u001b[39m scaler.step(optimizer)\n\u001b[32m     27\u001b[39m scaler.update()\n",
      "\u001b[36mFile \u001b[39m\u001b[32m/home/shared/llm-env/lib/python3.11/site-packages/torch/_tensor.py:648\u001b[39m, in \u001b[36mTensor.backward\u001b[39m\u001b[34m(self, gradient, retain_graph, create_graph, inputs)\u001b[39m\n\u001b[32m    638\u001b[39m \u001b[38;5;28;01mif\u001b[39;00m has_torch_function_unary(\u001b[38;5;28mself\u001b[39m):\n\u001b[32m    639\u001b[39m     \u001b[38;5;28;01mreturn\u001b[39;00m handle_torch_function(\n\u001b[32m    640\u001b[39m         Tensor.backward,\n\u001b[32m    641\u001b[39m         (\u001b[38;5;28mself\u001b[39m,),\n\u001b[32m   (...)\u001b[39m\u001b[32m    646\u001b[39m         inputs=inputs,\n\u001b[32m    647\u001b[39m     )\n\u001b[32m--> \u001b[39m\u001b[32m648\u001b[39m \u001b[43mtorch\u001b[49m\u001b[43m.\u001b[49m\u001b[43mautograd\u001b[49m\u001b[43m.\u001b[49m\u001b[43mbackward\u001b[49m\u001b[43m(\u001b[49m\n\u001b[32m    649\u001b[39m \u001b[43m    \u001b[49m\u001b[38;5;28;43mself\u001b[39;49m\u001b[43m,\u001b[49m\u001b[43m \u001b[49m\u001b[43mgradient\u001b[49m\u001b[43m,\u001b[49m\u001b[43m \u001b[49m\u001b[43mretain_graph\u001b[49m\u001b[43m,\u001b[49m\u001b[43m \u001b[49m\u001b[43mcreate_graph\u001b[49m\u001b[43m,\u001b[49m\u001b[43m \u001b[49m\u001b[43minputs\u001b[49m\u001b[43m=\u001b[49m\u001b[43minputs\u001b[49m\n\u001b[32m    650\u001b[39m \u001b[43m\u001b[49m\u001b[43m)\u001b[49m\n",
      "\u001b[36mFile \u001b[39m\u001b[32m/home/shared/llm-env/lib/python3.11/site-packages/torch/autograd/__init__.py:353\u001b[39m, in \u001b[36mbackward\u001b[39m\u001b[34m(tensors, grad_tensors, retain_graph, create_graph, grad_variables, inputs)\u001b[39m\n\u001b[32m    348\u001b[39m     retain_graph = create_graph\n\u001b[32m    350\u001b[39m \u001b[38;5;66;03m# The reason we repeat the same comment below is that\u001b[39;00m\n\u001b[32m    351\u001b[39m \u001b[38;5;66;03m# some Python versions print out the first line of a multi-line function\u001b[39;00m\n\u001b[32m    352\u001b[39m \u001b[38;5;66;03m# calls in the traceback and some print out the last line\u001b[39;00m\n\u001b[32m--> \u001b[39m\u001b[32m353\u001b[39m \u001b[43m_engine_run_backward\u001b[49m\u001b[43m(\u001b[49m\n\u001b[32m    354\u001b[39m \u001b[43m    \u001b[49m\u001b[43mtensors\u001b[49m\u001b[43m,\u001b[49m\n\u001b[32m    355\u001b[39m \u001b[43m    \u001b[49m\u001b[43mgrad_tensors_\u001b[49m\u001b[43m,\u001b[49m\n\u001b[32m    356\u001b[39m \u001b[43m    \u001b[49m\u001b[43mretain_graph\u001b[49m\u001b[43m,\u001b[49m\n\u001b[32m    357\u001b[39m \u001b[43m    \u001b[49m\u001b[43mcreate_graph\u001b[49m\u001b[43m,\u001b[49m\n\u001b[32m    358\u001b[39m \u001b[43m    \u001b[49m\u001b[43minputs\u001b[49m\u001b[43m,\u001b[49m\n\u001b[32m    359\u001b[39m \u001b[43m    \u001b[49m\u001b[43mallow_unreachable\u001b[49m\u001b[43m=\u001b[49m\u001b[38;5;28;43;01mTrue\u001b[39;49;00m\u001b[43m,\u001b[49m\n\u001b[32m    360\u001b[39m \u001b[43m    \u001b[49m\u001b[43maccumulate_grad\u001b[49m\u001b[43m=\u001b[49m\u001b[38;5;28;43;01mTrue\u001b[39;49;00m\u001b[43m,\u001b[49m\n\u001b[32m    361\u001b[39m \u001b[43m\u001b[49m\u001b[43m)\u001b[49m\n",
      "\u001b[36mFile \u001b[39m\u001b[32m/home/shared/llm-env/lib/python3.11/site-packages/torch/autograd/graph.py:824\u001b[39m, in \u001b[36m_engine_run_backward\u001b[39m\u001b[34m(t_outputs, *args, **kwargs)\u001b[39m\n\u001b[32m    822\u001b[39m     unregister_hooks = _register_logging_hooks_on_whole_graph(t_outputs)\n\u001b[32m    823\u001b[39m \u001b[38;5;28;01mtry\u001b[39;00m:\n\u001b[32m--> \u001b[39m\u001b[32m824\u001b[39m     \u001b[38;5;28;01mreturn\u001b[39;00m \u001b[43mVariable\u001b[49m\u001b[43m.\u001b[49m\u001b[43m_execution_engine\u001b[49m\u001b[43m.\u001b[49m\u001b[43mrun_backward\u001b[49m\u001b[43m(\u001b[49m\u001b[43m  \u001b[49m\u001b[38;5;66;43;03m# Calls into the C++ engine to run the backward pass\u001b[39;49;00m\n\u001b[32m    825\u001b[39m \u001b[43m        \u001b[49m\u001b[43mt_outputs\u001b[49m\u001b[43m,\u001b[49m\u001b[43m \u001b[49m\u001b[43m*\u001b[49m\u001b[43margs\u001b[49m\u001b[43m,\u001b[49m\u001b[43m \u001b[49m\u001b[43m*\u001b[49m\u001b[43m*\u001b[49m\u001b[43mkwargs\u001b[49m\n\u001b[32m    826\u001b[39m \u001b[43m    \u001b[49m\u001b[43m)\u001b[49m  \u001b[38;5;66;03m# Calls into the C++ engine to run the backward pass\u001b[39;00m\n\u001b[32m    827\u001b[39m \u001b[38;5;28;01mfinally\u001b[39;00m:\n\u001b[32m    828\u001b[39m     \u001b[38;5;28;01mif\u001b[39;00m attach_logging_hooks:\n",
      "\u001b[31mKeyboardInterrupt\u001b[39m: "
     ]
    }
   ],
   "source": [
    "# FOR MIXED PRECISION\n",
    "from torch.amp import GradScaler, autocast\n",
    "scaler = torch.amp.GradScaler()\n",
    "\n",
    "# Early Stopping parameters\n",
    "best_val_loss = float(\"inf\")\n",
    "patience = 30\n",
    "counter = 0\n",
    "\n",
    "for epoch in range(num_epochs):\n",
    "    # Training loop\n",
    "    model.train()\n",
    "    train_loss = 0\n",
    "\n",
    "    for batch in train_dataloader:\n",
    "        input_ids = batch[\"input_ids\"].to(device)\n",
    "        attention_mask = batch[\"attention_mask\"].to(device)\n",
    "        labels = batch[\"label\"].to(device)\n",
    "\n",
    "        optimizer.zero_grad()\n",
    "        with torch.amp.autocast(device_type=device):\n",
    "            logits, loss = model(input_ids=input_ids, attention_mask=attention_mask, labels=labels)\n",
    "            loss_value = loss.item()\n",
    "\n",
    "        scaler.scale(loss).backward()\n",
    "        scaler.step(optimizer)\n",
    "        scaler.update()\n",
    "\n",
    "        train_loss += loss_value\n",
    "\n",
    "    avg_train_loss = train_loss / len(train_dataloader)\n",
    "    train_losses.append(avg_train_loss)\n",
    "\n",
    "    # --- Validation ---\n",
    "    model.eval()\n",
    "    val_loss = 0\n",
    "    correct = 0\n",
    "    total = 0\n",
    "    all_predictions = []\n",
    "    all_labels = []\n",
    "\n",
    "    with torch.no_grad():\n",
    "        for batch in val_dataloader:\n",
    "            input_ids = batch[\"input_ids\"].to(device)\n",
    "            attention_mask = batch[\"attention_mask\"].to(device)\n",
    "            labels = batch[\"label\"].to(device)\n",
    "\n",
    "            with torch.amp.autocast(device_type=device):\n",
    "                logits, loss = model(input_ids=input_ids, attention_mask=attention_mask, labels=labels)\n",
    "\n",
    "            val_loss += loss.item()\n",
    "\n",
    "            predictions = torch.argmax(logits, dim=-1)\n",
    "            correct += (predictions == labels).sum().item()\n",
    "            total += labels.size(0)\n",
    "\n",
    "            all_predictions.extend(predictions.cpu().numpy())\n",
    "            all_labels.extend(labels.cpu().numpy())\n",
    "\n",
    "    sum_0 = np.sum(np.array(all_predictions) == 0)\n",
    "    sum_1 = np.sum(np.array(all_predictions) == 1)\n",
    "    sum_2 = np.sum(np.array(all_predictions) == 2)\n",
    "    print(f\"Predictions: {sum_0}x0s, {sum_1}x1s, {sum_2}x2s\")\n",
    "\n",
    "    avg_val_loss = val_loss / len(val_dataloader)\n",
    "    val_losses.append(avg_val_loss)\n",
    "\n",
    "    accuracy = correct / total\n",
    "    val_accuracies.append(accuracy)\n",
    "\n",
    "    precision = precision_score(all_labels, all_predictions, average=\"weighted\", zero_division=0)\n",
    "    recall = recall_score(all_labels, all_predictions, average=\"weighted\", zero_division=0)\n",
    "    f1 = f1_score(all_labels, all_predictions, average=\"weighted\", zero_division=0)\n",
    "\n",
    "    val_precisions.append(precision)\n",
    "    val_recalls.append(recall)\n",
    "    val_f1_scores.append(f1)\n",
    "\n",
    "    print(f\"Epoch {epoch + 1} - Train Loss: {avg_train_loss:.4f}, Val Loss: {avg_val_loss:.4f}, \"\n",
    "          f\"Accuracy: {accuracy:.4f}, Precision: {precision:.4f}, Recall: {recall:.4f}, F1-Score: {f1:.4f}\")\n",
    "\n",
    "    # Early Stopping\n",
    "    if avg_val_loss < best_val_loss:\n",
    "        best_val_loss = avg_val_loss\n",
    "        counter = 0\n",
    "        # Save the best model\n",
    "        # torch.save(model.state_dict(), \"best_model.pth\")\n",
    "        # print(\"Best model saved!\")\n",
    "    else:\n",
    "        counter += 1\n",
    "        if counter >= patience:\n",
    "            print(\"Early stopping triggered\")\n",
    "            break"
   ]
  }
 ],
 "metadata": {
  "kernelspec": {
   "display_name": "llm-env",
   "language": "python",
   "name": "python3"
  },
  "language_info": {
   "codemirror_mode": {
    "name": "ipython",
    "version": 3
   },
   "file_extension": ".py",
   "mimetype": "text/x-python",
   "name": "python",
   "nbconvert_exporter": "python",
   "pygments_lexer": "ipython3",
   "version": "3.11.2"
  }
 },
 "nbformat": 4,
 "nbformat_minor": 2
}
